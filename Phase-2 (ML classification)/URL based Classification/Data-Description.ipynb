{
 "cells": [
  {
   "attachments": {},
   "cell_type": "markdown",
   "metadata": {},
   "source": [
    "Importing the Libraries for Data-Description"
   ]
  },
  {
   "cell_type": "code",
   "execution_count": 1,
   "metadata": {},
   "outputs": [],
   "source": [
    "import matplotlib.pyplot as plt\n",
    "import numpy as np\n",
    "import pandas as pd\n",
    "import seaborn as sns\n",
    "from sklearn.linear_model import LinearRegression"
   ]
  },
  {
   "attachments": {},
   "cell_type": "markdown",
   "metadata": {},
   "source": [
    "Read the data from 'dataset.csv' file and create a dataframe"
   ]
  },
  {
   "cell_type": "code",
   "execution_count": 2,
   "metadata": {},
   "outputs": [
    {
     "data": {
      "text/plain": [
       "(3216, 13)"
      ]
     },
     "execution_count": 2,
     "metadata": {},
     "output_type": "execute_result"
    }
   ],
   "source": [
    "df = pd.read_csv('dataset.csv')\n",
    "df.shape"
   ]
  },
  {
   "cell_type": "code",
   "execution_count": 3,
   "metadata": {},
   "outputs": [
    {
     "data": {
      "text/html": [
       "<div>\n",
       "<style scoped>\n",
       "    .dataframe tbody tr th:only-of-type {\n",
       "        vertical-align: middle;\n",
       "    }\n",
       "\n",
       "    .dataframe tbody tr th {\n",
       "        vertical-align: top;\n",
       "    }\n",
       "\n",
       "    .dataframe thead th {\n",
       "        text-align: right;\n",
       "    }\n",
       "</style>\n",
       "<table border=\"1\" class=\"dataframe\">\n",
       "  <thead>\n",
       "    <tr style=\"text-align: right;\">\n",
       "      <th></th>\n",
       "      <th>Length of URL</th>\n",
       "      <th>Has IP address</th>\n",
       "      <th>Shortening Service</th>\n",
       "      <th>Having @ Symbol</th>\n",
       "      <th>Double Slash Redirecting</th>\n",
       "      <th>Prefix-Suffix</th>\n",
       "      <th>Standard Port</th>\n",
       "      <th>CTLD</th>\n",
       "      <th>HTTPS in Domain</th>\n",
       "      <th>Sensitive Words</th>\n",
       "      <th>Has Tilde</th>\n",
       "      <th>Has Port</th>\n",
       "      <th>Result</th>\n",
       "    </tr>\n",
       "  </thead>\n",
       "  <tbody>\n",
       "    <tr>\n",
       "      <th>0</th>\n",
       "      <td>1</td>\n",
       "      <td>1</td>\n",
       "      <td>-1</td>\n",
       "      <td>1</td>\n",
       "      <td>1</td>\n",
       "      <td>-1</td>\n",
       "      <td>0</td>\n",
       "      <td>1</td>\n",
       "      <td>-1</td>\n",
       "      <td>1</td>\n",
       "      <td>1</td>\n",
       "      <td>-1</td>\n",
       "      <td>1</td>\n",
       "    </tr>\n",
       "    <tr>\n",
       "      <th>1</th>\n",
       "      <td>1</td>\n",
       "      <td>1</td>\n",
       "      <td>1</td>\n",
       "      <td>1</td>\n",
       "      <td>1</td>\n",
       "      <td>1</td>\n",
       "      <td>0</td>\n",
       "      <td>1</td>\n",
       "      <td>-1</td>\n",
       "      <td>-1</td>\n",
       "      <td>1</td>\n",
       "      <td>-1</td>\n",
       "      <td>1</td>\n",
       "    </tr>\n",
       "    <tr>\n",
       "      <th>2</th>\n",
       "      <td>1</td>\n",
       "      <td>1</td>\n",
       "      <td>1</td>\n",
       "      <td>1</td>\n",
       "      <td>1</td>\n",
       "      <td>1</td>\n",
       "      <td>0</td>\n",
       "      <td>1</td>\n",
       "      <td>-1</td>\n",
       "      <td>-1</td>\n",
       "      <td>1</td>\n",
       "      <td>-1</td>\n",
       "      <td>1</td>\n",
       "    </tr>\n",
       "    <tr>\n",
       "      <th>3</th>\n",
       "      <td>1</td>\n",
       "      <td>1</td>\n",
       "      <td>1</td>\n",
       "      <td>1</td>\n",
       "      <td>1</td>\n",
       "      <td>1</td>\n",
       "      <td>0</td>\n",
       "      <td>-1</td>\n",
       "      <td>-1</td>\n",
       "      <td>1</td>\n",
       "      <td>1</td>\n",
       "      <td>-1</td>\n",
       "      <td>1</td>\n",
       "    </tr>\n",
       "    <tr>\n",
       "      <th>4</th>\n",
       "      <td>1</td>\n",
       "      <td>1</td>\n",
       "      <td>1</td>\n",
       "      <td>1</td>\n",
       "      <td>1</td>\n",
       "      <td>1</td>\n",
       "      <td>0</td>\n",
       "      <td>0</td>\n",
       "      <td>-1</td>\n",
       "      <td>1</td>\n",
       "      <td>1</td>\n",
       "      <td>-1</td>\n",
       "      <td>1</td>\n",
       "    </tr>\n",
       "  </tbody>\n",
       "</table>\n",
       "</div>"
      ],
      "text/plain": [
       "   Length of URL   Has IP address   Shortening Service   Having @ Symbol  \\\n",
       "0  1               1                -1                   1                 \n",
       "1  1               1                1                    1                 \n",
       "2  1               1                1                    1                 \n",
       "3  1               1                1                    1                 \n",
       "4  1               1                1                    1                 \n",
       "\n",
       "    Double Slash Redirecting   Prefix-Suffix   Standard Port   CTLD  \\\n",
       "0   1                          -1              0               1      \n",
       "1   1                          1               0               1      \n",
       "2   1                          1               0               1      \n",
       "3   1                          1               0               -1     \n",
       "4   1                          1               0               0      \n",
       "\n",
       "    HTTPS in Domain   Sensitive Words   Has Tilde   Has Port  Result  \n",
       "0   -1                1                 1           -1             1  \n",
       "1   -1                -1                1           -1             1  \n",
       "2   -1                -1                1           -1             1  \n",
       "3   -1                1                 1           -1             1  \n",
       "4   -1                1                 1           -1             1  "
      ]
     },
     "execution_count": 3,
     "metadata": {},
     "output_type": "execute_result"
    }
   ],
   "source": [
    "df.head()"
   ]
  },
  {
   "cell_type": "code",
   "execution_count": 4,
   "metadata": {},
   "outputs": [
    {
     "data": {
      "text/plain": [
       "Index(['Length of URL', ' Has IP address', ' Shortening Service',\n",
       "       ' Having @ Symbol', ' Double Slash Redirecting', ' Prefix-Suffix',\n",
       "       ' Standard Port', ' CTLD', ' HTTPS in Domain', ' Sensitive Words',\n",
       "       ' Has Tilde', ' Has Port', ' Result'],\n",
       "      dtype='object')"
      ]
     },
     "execution_count": 4,
     "metadata": {},
     "output_type": "execute_result"
    }
   ],
   "source": [
    "df.columns  "
   ]
  },
  {
   "attachments": {},
   "cell_type": "markdown",
   "metadata": {},
   "source": [
    "As the column names have leading white spaces, we will rename the columns"
   ]
  },
  {
   "cell_type": "code",
   "execution_count": 5,
   "metadata": {},
   "outputs": [],
   "source": [
    "df.rename(columns={' Has IP address':'Has_IP_address', ' Shortening Service':'Shortening_Service', ' Having @ Symbol':'Having_@_Symbol', ' Double Slash Redirecting':'Double_Slash_Redirecting', ' Prefix-Suffix':'Prefix-Suffix', ' Standard Port':'Standard_Port', ' CTLD':'CTLD', ' HTTPS in Domain':'HTTPS_in_Domain', ' Sensitive Words':'Sensitive_Words', ' Has Tilde':'Has_Tilde', ' Has Port':'Has_Port', ' Result':'Result'}, inplace=True)"
   ]
  },
  {
   "attachments": {},
   "cell_type": "markdown",
   "metadata": {},
   "source": [
    "As we had merged two csv files to create a dataset, we need to check the unique values present in each column"
   ]
  },
  {
   "cell_type": "code",
   "execution_count": 6,
   "metadata": {},
   "outputs": [],
   "source": [
    "# Investigate unique values in the each column\n",
    "unique_IP = df['Has_IP_address'].unique()\n",
    "unique_SS = df['Shortening_Service'].unique()\n",
    "unique_HAS = df['Having_@_Symbol'].unique()\n",
    "unique_DSR = df['Double_Slash_Redirecting'].unique()\n",
    "unique_PS = df['Prefix-Suffix'].unique()\n",
    "unique_SP = df['Standard_Port'].unique()\n",
    "unique_CTLD = df['CTLD'].unique()\n",
    "unique_HID = df['HTTPS_in_Domain'].unique()\n",
    "unique_SW = df['Sensitive_Words'].unique()\n",
    "unique_HT = df['Has_Tilde'].unique()\n",
    "unique_HP = df['Has_Port'].unique()\n",
    "unique_R = df['Result'].unique()"
   ]
  },
  {
   "cell_type": "code",
   "execution_count": 7,
   "metadata": {},
   "outputs": [
    {
     "name": "stdout",
     "output_type": "stream",
     "text": [
      "[' 1             ' ' -1            ' ' Has IP address']\n",
      "[' -1                ' ' 1                 ' ' Shortening Service']\n",
      "[' 1              ' ' -1             ' ' Having @ Symbol']\n",
      "[' 1                       ' ' -1                      '\n",
      " ' Double Slash Redirecting']\n",
      "[' -1           ' ' 1            ' ' Prefix-Suffix']\n",
      "[' 0            ' ' -1           ' ' Standard Port']\n",
      "[' 1   ' ' -1  ' ' 0   ' ' CTLD']\n",
      "[' -1             ' ' HTTPS in Domain']\n",
      "[' 1              ' ' -1             ' ' Sensitive Words']\n",
      "[' 1        ' ' -1       ' ' Has Tilde']\n",
      "[' -1      ' ' 1       ' ' Has Port']\n",
      "[' 1' ' Result' ' -1']\n"
     ]
    }
   ],
   "source": [
    "print(unique_IP)\n",
    "print(unique_SS)\n",
    "print(unique_HAS)\n",
    "print(unique_DSR)\n",
    "print(unique_PS)\n",
    "print(unique_SP)\n",
    "print(unique_CTLD)\n",
    "print(unique_HID)\n",
    "print(unique_SW)\n",
    "print(unique_HT)\n",
    "print(unique_HP)\n",
    "print(unique_R)"
   ]
  },
  {
   "attachments": {},
   "cell_type": "markdown",
   "metadata": {},
   "source": [
    "As there are white-space along with 1, 0, and -1 we need to remove rest of the things, and then convert the values to int "
   ]
  },
  {
   "cell_type": "code",
   "execution_count": 8,
   "metadata": {},
   "outputs": [],
   "source": [
    "validValues = {-1, 0, 1}\n",
    "\n",
    "for column in df.columns:\n",
    "    df[column] = pd.to_numeric(df[column], errors='coerce')\n",
    "    df = df[df[column].isin(validValues)]\n",
    "\n",
    "# Convert all columns to integers (again after the filtering)\n",
    "df = df.astype(int)"
   ]
  },
  {
   "cell_type": "code",
   "execution_count": 9,
   "metadata": {},
   "outputs": [
    {
     "name": "stdout",
     "output_type": "stream",
     "text": [
      "      Length of URL  Has_IP_address  Shortening_Service  Having_@_Symbol  \\\n",
      "0                 1               1                  -1                1   \n",
      "1                 1               1                   1                1   \n",
      "2                 1               1                   1                1   \n",
      "3                 1               1                   1                1   \n",
      "4                 1               1                   1                1   \n",
      "...             ...             ...                 ...              ...   \n",
      "3211             -1               1                   1                1   \n",
      "3212              1               1                   1                1   \n",
      "3213             -1               1                   1                1   \n",
      "3214             -1               1                   1                1   \n",
      "3215              1               1                   1                1   \n",
      "\n",
      "      Double_Slash_Redirecting  Prefix-Suffix  Standard_Port  CTLD  \\\n",
      "0                            1             -1              0     1   \n",
      "1                            1              1              0     1   \n",
      "2                            1              1              0     1   \n",
      "3                            1              1              0    -1   \n",
      "4                            1              1              0     0   \n",
      "...                        ...            ...            ...   ...   \n",
      "3211                         1              1              0     1   \n",
      "3212                         1              1              0     1   \n",
      "3213                         1              1              0     1   \n",
      "3214                         1              1              0     0   \n",
      "3215                         1              1              0     0   \n",
      "\n",
      "      HTTPS_in_Domain  Sensitive_Words  Has_Tilde  Has_Port  Result  \n",
      "0                  -1                1          1        -1       1  \n",
      "1                  -1               -1          1        -1       1  \n",
      "2                  -1               -1          1        -1       1  \n",
      "3                  -1                1          1        -1       1  \n",
      "4                  -1                1          1        -1       1  \n",
      "...               ...              ...        ...       ...     ...  \n",
      "3211               -1                1          1        -1      -1  \n",
      "3212               -1               -1          1        -1      -1  \n",
      "3213               -1                1          1        -1      -1  \n",
      "3214               -1               -1          1        -1      -1  \n",
      "3215               -1                1          1        -1      -1  \n",
      "\n",
      "[3215 rows x 13 columns]\n"
     ]
    }
   ],
   "source": [
    "# Now you can use the DataFrame with valid integer values (1, -1, and 0)\n",
    "print(df)"
   ]
  },
  {
   "attachments": {},
   "cell_type": "markdown",
   "metadata": {},
   "source": [
    "Again check for the unique values present in each column"
   ]
  },
  {
   "cell_type": "code",
   "execution_count": 10,
   "metadata": {},
   "outputs": [],
   "source": [
    "# Investigate unique values in the each column\n",
    "unique_IP_2 = df['Has_IP_address'].unique()\n",
    "unique_SS_2 = df['Shortening_Service'].unique()\n",
    "unique_HAS_2 = df['Having_@_Symbol'].unique()\n",
    "unique_DSR_2 = df['Double_Slash_Redirecting'].unique()\n",
    "unique_PS_2 = df['Prefix-Suffix'].unique()\n",
    "unique_SP_2 = df['Standard_Port'].unique()\n",
    "unique_CTLD_2 = df['CTLD'].unique()\n",
    "unique_HID_2 = df['HTTPS_in_Domain'].unique()\n",
    "unique_SW_2 = df['Sensitive_Words'].unique()\n",
    "unique_HT_2 = df['Has_Tilde'].unique()\n",
    "unique_HP_2 = df['Has_Port'].unique()\n",
    "unique_R_2 = df['Result'].unique()"
   ]
  },
  {
   "cell_type": "code",
   "execution_count": 11,
   "metadata": {},
   "outputs": [
    {
     "name": "stdout",
     "output_type": "stream",
     "text": [
      "[ 1 -1]\n",
      "[-1  1]\n",
      "[ 1 -1]\n",
      "[ 1 -1]\n",
      "[-1  1]\n",
      "[ 0 -1]\n",
      "[ 1 -1  0]\n",
      "[-1]\n",
      "[ 1 -1]\n",
      "[ 1 -1]\n",
      "[-1  1]\n",
      "[ 1 -1]\n"
     ]
    }
   ],
   "source": [
    "print(unique_IP_2)\n",
    "print(unique_SS_2)\n",
    "print(unique_HAS_2)\n",
    "print(unique_DSR_2)\n",
    "print(unique_PS_2)\n",
    "print(unique_SP_2)\n",
    "print(unique_CTLD_2)\n",
    "print(unique_HID_2)\n",
    "print(unique_SW_2)\n",
    "print(unique_HT_2)\n",
    "print(unique_HP_2)\n",
    "print(unique_R_2)"
   ]
  },
  {
   "cell_type": "code",
   "execution_count": 12,
   "metadata": {},
   "outputs": [
    {
     "data": {
      "text/plain": [
       "(3215, 13)"
      ]
     },
     "execution_count": 12,
     "metadata": {},
     "output_type": "execute_result"
    }
   ],
   "source": [
    "df.shape"
   ]
  },
  {
   "cell_type": "code",
   "execution_count": 13,
   "metadata": {},
   "outputs": [
    {
     "name": "stdout",
     "output_type": "stream",
     "text": [
      "number of 1 1675\n",
      "number of -1 1540\n"
     ]
    }
   ],
   "source": [
    "print(\"number of 1\",len(df[df[\"Result\"]==1]))\n",
    "print(\"number of -1\",len(df[df[\"Result\"]==-1]))"
   ]
  },
  {
   "attachments": {},
   "cell_type": "markdown",
   "metadata": {},
   "source": [
    "We now find the correlation between the columns values"
   ]
  },
  {
   "cell_type": "code",
   "execution_count": 14,
   "metadata": {},
   "outputs": [
    {
     "data": {
      "text/html": [
       "<div>\n",
       "<style scoped>\n",
       "    .dataframe tbody tr th:only-of-type {\n",
       "        vertical-align: middle;\n",
       "    }\n",
       "\n",
       "    .dataframe tbody tr th {\n",
       "        vertical-align: top;\n",
       "    }\n",
       "\n",
       "    .dataframe thead th {\n",
       "        text-align: right;\n",
       "    }\n",
       "</style>\n",
       "<table border=\"1\" class=\"dataframe\">\n",
       "  <thead>\n",
       "    <tr style=\"text-align: right;\">\n",
       "      <th></th>\n",
       "      <th>Length of URL</th>\n",
       "      <th>Has_IP_address</th>\n",
       "      <th>Shortening_Service</th>\n",
       "      <th>Having_@_Symbol</th>\n",
       "      <th>Double_Slash_Redirecting</th>\n",
       "      <th>Prefix-Suffix</th>\n",
       "      <th>Standard_Port</th>\n",
       "      <th>CTLD</th>\n",
       "      <th>HTTPS_in_Domain</th>\n",
       "      <th>Sensitive_Words</th>\n",
       "      <th>Has_Tilde</th>\n",
       "      <th>Has_Port</th>\n",
       "      <th>Result</th>\n",
       "    </tr>\n",
       "  </thead>\n",
       "  <tbody>\n",
       "    <tr>\n",
       "      <th>Length of URL</th>\n",
       "      <td>1.000000</td>\n",
       "      <td>-0.041203</td>\n",
       "      <td>-0.034529</td>\n",
       "      <td>0.117355</td>\n",
       "      <td>0.290714</td>\n",
       "      <td>0.047705</td>\n",
       "      <td>0.087400</td>\n",
       "      <td>0.240436</td>\n",
       "      <td>NaN</td>\n",
       "      <td>0.151409</td>\n",
       "      <td>0.072141</td>\n",
       "      <td>-0.087400</td>\n",
       "      <td>0.062663</td>\n",
       "    </tr>\n",
       "    <tr>\n",
       "      <th>Has_IP_address</th>\n",
       "      <td>-0.041203</td>\n",
       "      <td>1.000000</td>\n",
       "      <td>-0.021717</td>\n",
       "      <td>-0.008784</td>\n",
       "      <td>-0.017440</td>\n",
       "      <td>-0.025483</td>\n",
       "      <td>-0.008881</td>\n",
       "      <td>0.145880</td>\n",
       "      <td>NaN</td>\n",
       "      <td>-0.022739</td>\n",
       "      <td>-0.003642</td>\n",
       "      <td>0.008881</td>\n",
       "      <td>0.007357</td>\n",
       "    </tr>\n",
       "    <tr>\n",
       "      <th>Shortening_Service</th>\n",
       "      <td>-0.034529</td>\n",
       "      <td>-0.021717</td>\n",
       "      <td>1.000000</td>\n",
       "      <td>-0.026314</td>\n",
       "      <td>0.004121</td>\n",
       "      <td>-0.034758</td>\n",
       "      <td>-0.017336</td>\n",
       "      <td>-0.033532</td>\n",
       "      <td>NaN</td>\n",
       "      <td>0.031097</td>\n",
       "      <td>-0.014877</td>\n",
       "      <td>0.017336</td>\n",
       "      <td>-0.039824</td>\n",
       "    </tr>\n",
       "    <tr>\n",
       "      <th>Having_@_Symbol</th>\n",
       "      <td>0.117355</td>\n",
       "      <td>-0.008784</td>\n",
       "      <td>-0.026314</td>\n",
       "      <td>1.000000</td>\n",
       "      <td>0.272156</td>\n",
       "      <td>-0.016883</td>\n",
       "      <td>-0.014675</td>\n",
       "      <td>0.044981</td>\n",
       "      <td>NaN</td>\n",
       "      <td>-0.019146</td>\n",
       "      <td>-0.006017</td>\n",
       "      <td>0.014675</td>\n",
       "      <td>-0.010665</td>\n",
       "    </tr>\n",
       "    <tr>\n",
       "      <th>Double_Slash_Redirecting</th>\n",
       "      <td>0.290714</td>\n",
       "      <td>-0.017440</td>\n",
       "      <td>0.004121</td>\n",
       "      <td>0.272156</td>\n",
       "      <td>1.000000</td>\n",
       "      <td>-0.074779</td>\n",
       "      <td>0.177036</td>\n",
       "      <td>0.016444</td>\n",
       "      <td>NaN</td>\n",
       "      <td>0.268797</td>\n",
       "      <td>-0.011947</td>\n",
       "      <td>-0.177036</td>\n",
       "      <td>0.037572</td>\n",
       "    </tr>\n",
       "    <tr>\n",
       "      <th>Prefix-Suffix</th>\n",
       "      <td>0.047705</td>\n",
       "      <td>-0.025483</td>\n",
       "      <td>-0.034758</td>\n",
       "      <td>-0.016883</td>\n",
       "      <td>-0.074779</td>\n",
       "      <td>1.000000</td>\n",
       "      <td>-0.042572</td>\n",
       "      <td>0.122397</td>\n",
       "      <td>NaN</td>\n",
       "      <td>-0.000093</td>\n",
       "      <td>0.022632</td>\n",
       "      <td>0.042572</td>\n",
       "      <td>0.120638</td>\n",
       "    </tr>\n",
       "    <tr>\n",
       "      <th>Standard_Port</th>\n",
       "      <td>0.087400</td>\n",
       "      <td>-0.008881</td>\n",
       "      <td>-0.017336</td>\n",
       "      <td>-0.014675</td>\n",
       "      <td>0.177036</td>\n",
       "      <td>-0.042572</td>\n",
       "      <td>1.000000</td>\n",
       "      <td>0.009425</td>\n",
       "      <td>NaN</td>\n",
       "      <td>0.180836</td>\n",
       "      <td>-0.006083</td>\n",
       "      <td>-1.000000</td>\n",
       "      <td>0.054402</td>\n",
       "    </tr>\n",
       "    <tr>\n",
       "      <th>CTLD</th>\n",
       "      <td>0.240436</td>\n",
       "      <td>0.145880</td>\n",
       "      <td>-0.033532</td>\n",
       "      <td>0.044981</td>\n",
       "      <td>0.016444</td>\n",
       "      <td>0.122397</td>\n",
       "      <td>0.009425</td>\n",
       "      <td>1.000000</td>\n",
       "      <td>NaN</td>\n",
       "      <td>0.056727</td>\n",
       "      <td>0.029383</td>\n",
       "      <td>-0.009425</td>\n",
       "      <td>0.137541</td>\n",
       "    </tr>\n",
       "    <tr>\n",
       "      <th>HTTPS_in_Domain</th>\n",
       "      <td>NaN</td>\n",
       "      <td>NaN</td>\n",
       "      <td>NaN</td>\n",
       "      <td>NaN</td>\n",
       "      <td>NaN</td>\n",
       "      <td>NaN</td>\n",
       "      <td>NaN</td>\n",
       "      <td>NaN</td>\n",
       "      <td>NaN</td>\n",
       "      <td>NaN</td>\n",
       "      <td>NaN</td>\n",
       "      <td>NaN</td>\n",
       "      <td>NaN</td>\n",
       "    </tr>\n",
       "    <tr>\n",
       "      <th>Sensitive_Words</th>\n",
       "      <td>0.151409</td>\n",
       "      <td>-0.022739</td>\n",
       "      <td>0.031097</td>\n",
       "      <td>-0.019146</td>\n",
       "      <td>0.268797</td>\n",
       "      <td>-0.000093</td>\n",
       "      <td>0.180836</td>\n",
       "      <td>0.056727</td>\n",
       "      <td>NaN</td>\n",
       "      <td>1.000000</td>\n",
       "      <td>-0.015577</td>\n",
       "      <td>-0.180836</td>\n",
       "      <td>0.040490</td>\n",
       "    </tr>\n",
       "    <tr>\n",
       "      <th>Has_Tilde</th>\n",
       "      <td>0.072141</td>\n",
       "      <td>-0.003642</td>\n",
       "      <td>-0.014877</td>\n",
       "      <td>-0.006017</td>\n",
       "      <td>-0.011947</td>\n",
       "      <td>0.022632</td>\n",
       "      <td>-0.006083</td>\n",
       "      <td>0.029383</td>\n",
       "      <td>NaN</td>\n",
       "      <td>-0.015577</td>\n",
       "      <td>1.000000</td>\n",
       "      <td>0.006083</td>\n",
       "      <td>-0.010398</td>\n",
       "    </tr>\n",
       "    <tr>\n",
       "      <th>Has_Port</th>\n",
       "      <td>-0.087400</td>\n",
       "      <td>0.008881</td>\n",
       "      <td>0.017336</td>\n",
       "      <td>0.014675</td>\n",
       "      <td>-0.177036</td>\n",
       "      <td>0.042572</td>\n",
       "      <td>-1.000000</td>\n",
       "      <td>-0.009425</td>\n",
       "      <td>NaN</td>\n",
       "      <td>-0.180836</td>\n",
       "      <td>0.006083</td>\n",
       "      <td>1.000000</td>\n",
       "      <td>-0.054402</td>\n",
       "    </tr>\n",
       "    <tr>\n",
       "      <th>Result</th>\n",
       "      <td>0.062663</td>\n",
       "      <td>0.007357</td>\n",
       "      <td>-0.039824</td>\n",
       "      <td>-0.010665</td>\n",
       "      <td>0.037572</td>\n",
       "      <td>0.120638</td>\n",
       "      <td>0.054402</td>\n",
       "      <td>0.137541</td>\n",
       "      <td>NaN</td>\n",
       "      <td>0.040490</td>\n",
       "      <td>-0.010398</td>\n",
       "      <td>-0.054402</td>\n",
       "      <td>1.000000</td>\n",
       "    </tr>\n",
       "  </tbody>\n",
       "</table>\n",
       "</div>"
      ],
      "text/plain": [
       "                          Length of URL  Has_IP_address  Shortening_Service  \\\n",
       "Length of URL                  1.000000       -0.041203           -0.034529   \n",
       "Has_IP_address                -0.041203        1.000000           -0.021717   \n",
       "Shortening_Service            -0.034529       -0.021717            1.000000   \n",
       "Having_@_Symbol                0.117355       -0.008784           -0.026314   \n",
       "Double_Slash_Redirecting       0.290714       -0.017440            0.004121   \n",
       "Prefix-Suffix                  0.047705       -0.025483           -0.034758   \n",
       "Standard_Port                  0.087400       -0.008881           -0.017336   \n",
       "CTLD                           0.240436        0.145880           -0.033532   \n",
       "HTTPS_in_Domain                     NaN             NaN                 NaN   \n",
       "Sensitive_Words                0.151409       -0.022739            0.031097   \n",
       "Has_Tilde                      0.072141       -0.003642           -0.014877   \n",
       "Has_Port                      -0.087400        0.008881            0.017336   \n",
       "Result                         0.062663        0.007357           -0.039824   \n",
       "\n",
       "                          Having_@_Symbol  Double_Slash_Redirecting  \\\n",
       "Length of URL                    0.117355                  0.290714   \n",
       "Has_IP_address                  -0.008784                 -0.017440   \n",
       "Shortening_Service              -0.026314                  0.004121   \n",
       "Having_@_Symbol                  1.000000                  0.272156   \n",
       "Double_Slash_Redirecting         0.272156                  1.000000   \n",
       "Prefix-Suffix                   -0.016883                 -0.074779   \n",
       "Standard_Port                   -0.014675                  0.177036   \n",
       "CTLD                             0.044981                  0.016444   \n",
       "HTTPS_in_Domain                       NaN                       NaN   \n",
       "Sensitive_Words                 -0.019146                  0.268797   \n",
       "Has_Tilde                       -0.006017                 -0.011947   \n",
       "Has_Port                         0.014675                 -0.177036   \n",
       "Result                          -0.010665                  0.037572   \n",
       "\n",
       "                          Prefix-Suffix  Standard_Port      CTLD  \\\n",
       "Length of URL                  0.047705       0.087400  0.240436   \n",
       "Has_IP_address                -0.025483      -0.008881  0.145880   \n",
       "Shortening_Service            -0.034758      -0.017336 -0.033532   \n",
       "Having_@_Symbol               -0.016883      -0.014675  0.044981   \n",
       "Double_Slash_Redirecting      -0.074779       0.177036  0.016444   \n",
       "Prefix-Suffix                  1.000000      -0.042572  0.122397   \n",
       "Standard_Port                 -0.042572       1.000000  0.009425   \n",
       "CTLD                           0.122397       0.009425  1.000000   \n",
       "HTTPS_in_Domain                     NaN            NaN       NaN   \n",
       "Sensitive_Words               -0.000093       0.180836  0.056727   \n",
       "Has_Tilde                      0.022632      -0.006083  0.029383   \n",
       "Has_Port                       0.042572      -1.000000 -0.009425   \n",
       "Result                         0.120638       0.054402  0.137541   \n",
       "\n",
       "                          HTTPS_in_Domain  Sensitive_Words  Has_Tilde  \\\n",
       "Length of URL                         NaN         0.151409   0.072141   \n",
       "Has_IP_address                        NaN        -0.022739  -0.003642   \n",
       "Shortening_Service                    NaN         0.031097  -0.014877   \n",
       "Having_@_Symbol                       NaN        -0.019146  -0.006017   \n",
       "Double_Slash_Redirecting              NaN         0.268797  -0.011947   \n",
       "Prefix-Suffix                         NaN        -0.000093   0.022632   \n",
       "Standard_Port                         NaN         0.180836  -0.006083   \n",
       "CTLD                                  NaN         0.056727   0.029383   \n",
       "HTTPS_in_Domain                       NaN              NaN        NaN   \n",
       "Sensitive_Words                       NaN         1.000000  -0.015577   \n",
       "Has_Tilde                             NaN        -0.015577   1.000000   \n",
       "Has_Port                              NaN        -0.180836   0.006083   \n",
       "Result                                NaN         0.040490  -0.010398   \n",
       "\n",
       "                          Has_Port    Result  \n",
       "Length of URL            -0.087400  0.062663  \n",
       "Has_IP_address            0.008881  0.007357  \n",
       "Shortening_Service        0.017336 -0.039824  \n",
       "Having_@_Symbol           0.014675 -0.010665  \n",
       "Double_Slash_Redirecting -0.177036  0.037572  \n",
       "Prefix-Suffix             0.042572  0.120638  \n",
       "Standard_Port            -1.000000  0.054402  \n",
       "CTLD                     -0.009425  0.137541  \n",
       "HTTPS_in_Domain                NaN       NaN  \n",
       "Sensitive_Words          -0.180836  0.040490  \n",
       "Has_Tilde                 0.006083 -0.010398  \n",
       "Has_Port                  1.000000 -0.054402  \n",
       "Result                   -0.054402  1.000000  "
      ]
     },
     "execution_count": 14,
     "metadata": {},
     "output_type": "execute_result"
    }
   ],
   "source": [
    "corr=df.corr()\n",
    "corr"
   ]
  },
  {
   "cell_type": "code",
   "execution_count": 15,
   "metadata": {},
   "outputs": [
    {
     "data": {
      "text/plain": [
       "<Axes: >"
      ]
     },
     "execution_count": 15,
     "metadata": {},
     "output_type": "execute_result"
    },
    {
     "data": {
      "image/png": "[encoded data removed]",
      "text/plain": [
       "<Figure size 1300x1300 with 2 Axes>"
      ]
     },
     "metadata": {},
     "output_type": "display_data"
    }
   ],
   "source": [
    "# Set up the matplotlib figure\n",
    "f, ax = plt.subplots(figsize=(13, 13))\n",
    "\n",
    "# Generate a custom diverging colormap\n",
    "cmap = sns.diverging_palette(220, 10, as_cmap=True)\n",
    "\n",
    "# Draw the heatmap with the mask and correct aspect ratio\n",
    "sns.heatmap(corr, cmap=cmap, center=0,\n",
    "            square=True, linewidths=.5, cbar_kws={\"shrink\": .5})"
   ]
  }
 ],
 "metadata": {
  "kernelspec": {
   "display_name": "Python 3",
   "language": "python",
   "name": "python3"
  },
  "language_info": {
   "codemirror_mode": {
    "name": "ipython",
    "version": 3
   },
   "file_extension": ".py",
   "mimetype": "text/x-python",
   "name": "python",
   "nbconvert_exporter": "python",
   "pygments_lexer": "ipython3",
   "version": "3.10.6"
  },
  "orig_nbformat": 4
 },
 "nbformat": 4,
 "nbformat_minor": 2
}
