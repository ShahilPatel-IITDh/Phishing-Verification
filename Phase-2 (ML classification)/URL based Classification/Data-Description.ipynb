{
 "cells": [
  {
   "attachments": {},
   "cell_type": "markdown",
   "metadata": {},
   "source": [
    "Importing the Libraries for Data-Description"
   ]
  },
  {
   "cell_type": "code",
   "execution_count": 11,
   "metadata": {},
   "outputs": [],
   "source": [
    "import matplotlib.pyplot as plt\n",
    "import numpy as np\n",
    "import pandas as pd\n",
    "import seaborn as sns\n",
    "from sklearn.linear_model import LinearRegression"
   ]
  },
  {
   "attachments": {},
   "cell_type": "markdown",
   "metadata": {},
   "source": [
    "Read the data from 'dataset.csv' file and create a dataframe"
   ]
  },
  {
   "cell_type": "code",
   "execution_count": 12,
   "metadata": {},
   "outputs": [
    {
     "data": {
      "text/plain": [
       "(5027, 13)"
      ]
     },
     "execution_count": 12,
     "metadata": {},
     "output_type": "execute_result"
    }
   ],
   "source": [
    "df = pd.read_csv('dataset.csv')\n",
    "df.shape"
   ]
  },
  {
   "cell_type": "code",
   "execution_count": 13,
   "metadata": {},
   "outputs": [
    {
     "data": {
      "text/html": [
       "<div>\n",
       "<style scoped>\n",
       "    .dataframe tbody tr th:only-of-type {\n",
       "        vertical-align: middle;\n",
       "    }\n",
       "\n",
       "    .dataframe tbody tr th {\n",
       "        vertical-align: top;\n",
       "    }\n",
       "\n",
       "    .dataframe thead th {\n",
       "        text-align: right;\n",
       "    }\n",
       "</style>\n",
       "<table border=\"1\" class=\"dataframe\">\n",
       "  <thead>\n",
       "    <tr style=\"text-align: right;\">\n",
       "      <th></th>\n",
       "      <th>Length of URL</th>\n",
       "      <th>Has IP address</th>\n",
       "      <th>Shortening Service</th>\n",
       "      <th>Having @ Symbol</th>\n",
       "      <th>Double Slash Redirecting</th>\n",
       "      <th>Prefix-Suffix</th>\n",
       "      <th>Standard Port</th>\n",
       "      <th>CTLD</th>\n",
       "      <th>HTTPS in Domain</th>\n",
       "      <th>Sensitive Words</th>\n",
       "      <th>Has Tilde</th>\n",
       "      <th>Has Port</th>\n",
       "      <th>Result</th>\n",
       "    </tr>\n",
       "  </thead>\n",
       "  <tbody>\n",
       "    <tr>\n",
       "      <th>0</th>\n",
       "      <td>1</td>\n",
       "      <td>1</td>\n",
       "      <td>-1</td>\n",
       "      <td>1</td>\n",
       "      <td>1</td>\n",
       "      <td>-1</td>\n",
       "      <td>0</td>\n",
       "      <td>1</td>\n",
       "      <td>-1</td>\n",
       "      <td>1</td>\n",
       "      <td>1</td>\n",
       "      <td>-1</td>\n",
       "      <td>1</td>\n",
       "    </tr>\n",
       "    <tr>\n",
       "      <th>1</th>\n",
       "      <td>1</td>\n",
       "      <td>1</td>\n",
       "      <td>1</td>\n",
       "      <td>1</td>\n",
       "      <td>1</td>\n",
       "      <td>1</td>\n",
       "      <td>0</td>\n",
       "      <td>1</td>\n",
       "      <td>-1</td>\n",
       "      <td>-1</td>\n",
       "      <td>1</td>\n",
       "      <td>-1</td>\n",
       "      <td>1</td>\n",
       "    </tr>\n",
       "    <tr>\n",
       "      <th>2</th>\n",
       "      <td>1</td>\n",
       "      <td>1</td>\n",
       "      <td>1</td>\n",
       "      <td>1</td>\n",
       "      <td>1</td>\n",
       "      <td>1</td>\n",
       "      <td>0</td>\n",
       "      <td>1</td>\n",
       "      <td>-1</td>\n",
       "      <td>-1</td>\n",
       "      <td>1</td>\n",
       "      <td>-1</td>\n",
       "      <td>1</td>\n",
       "    </tr>\n",
       "    <tr>\n",
       "      <th>3</th>\n",
       "      <td>1</td>\n",
       "      <td>1</td>\n",
       "      <td>1</td>\n",
       "      <td>1</td>\n",
       "      <td>1</td>\n",
       "      <td>1</td>\n",
       "      <td>0</td>\n",
       "      <td>-1</td>\n",
       "      <td>-1</td>\n",
       "      <td>1</td>\n",
       "      <td>1</td>\n",
       "      <td>-1</td>\n",
       "      <td>1</td>\n",
       "    </tr>\n",
       "    <tr>\n",
       "      <th>4</th>\n",
       "      <td>1</td>\n",
       "      <td>1</td>\n",
       "      <td>1</td>\n",
       "      <td>1</td>\n",
       "      <td>1</td>\n",
       "      <td>1</td>\n",
       "      <td>0</td>\n",
       "      <td>0</td>\n",
       "      <td>-1</td>\n",
       "      <td>1</td>\n",
       "      <td>1</td>\n",
       "      <td>-1</td>\n",
       "      <td>1</td>\n",
       "    </tr>\n",
       "  </tbody>\n",
       "</table>\n",
       "</div>"
      ],
      "text/plain": [
       "  Length of URL  Has IP address  Shortening Service  Having @ Symbol  \\\n",
       "0             1               1                  -1                1   \n",
       "1             1               1                   1                1   \n",
       "2             1               1                   1                1   \n",
       "3             1               1                   1                1   \n",
       "4             1               1                   1                1   \n",
       "\n",
       "   Double Slash Redirecting  Prefix-Suffix  Standard Port  CTLD  \\\n",
       "0                         1             -1              0     1   \n",
       "1                         1              1              0     1   \n",
       "2                         1              1              0     1   \n",
       "3                         1              1              0    -1   \n",
       "4                         1              1              0     0   \n",
       "\n",
       "   HTTPS in Domain  Sensitive Words  Has Tilde  Has Port Result  \n",
       "0               -1                1          1        -1      1  \n",
       "1               -1               -1          1        -1      1  \n",
       "2               -1               -1          1        -1      1  \n",
       "3               -1                1          1        -1      1  \n",
       "4               -1                1          1        -1      1  "
      ]
     },
     "execution_count": 13,
     "metadata": {},
     "output_type": "execute_result"
    }
   ],
   "source": [
    "df.head()"
   ]
  },
  {
   "cell_type": "code",
   "execution_count": 14,
   "metadata": {},
   "outputs": [
    {
     "data": {
      "text/plain": [
       "Index(['Length of URL', ' Has IP address', ' Shortening Service',\n",
       "       ' Having @ Symbol', ' Double Slash Redirecting', ' Prefix-Suffix',\n",
       "       ' Standard Port', ' CTLD', ' HTTPS in Domain', ' Sensitive Words',\n",
       "       ' Has Tilde', ' Has Port', 'Result'],\n",
       "      dtype='object')"
      ]
     },
     "execution_count": 14,
     "metadata": {},
     "output_type": "execute_result"
    }
   ],
   "source": [
    "df.columns  "
   ]
  },
  {
   "attachments": {},
   "cell_type": "markdown",
   "metadata": {},
   "source": [
    "As the column names have leading white spaces, we will rename the columns"
   ]
  },
  {
   "cell_type": "code",
   "execution_count": 15,
   "metadata": {},
   "outputs": [],
   "source": [
    "df.rename(columns={' Has IP address':'Has_IP_address', ' Shortening Service':'Shortening_Service', ' Having @ Symbol':'Having_@_Symbol', ' Double Slash Redirecting':'Double_Slash_Redirecting', ' Prefix-Suffix':'Prefix-Suffix', ' Standard Port':'Standard_Port', ' CTLD':'CTLD', ' HTTPS in Domain':'HTTPS_in_Domain', ' Sensitive Words':'Sensitive_Words', ' Has Tilde':'Has_Tilde', ' Has Port':'Has_Port', ' Result':'Result'}, inplace=True)"
   ]
  },
  {
   "attachments": {},
   "cell_type": "markdown",
   "metadata": {},
   "source": [
    "As we had merged two csv files to create a dataset, we need to check the unique values present in each column"
   ]
  },
  {
   "cell_type": "code",
   "execution_count": 16,
   "metadata": {},
   "outputs": [],
   "source": [
    "# Investigate unique values in the each column\n",
    "unique_IP = df['Has_IP_address'].unique()\n",
    "unique_SS = df['Shortening_Service'].unique()\n",
    "unique_HAS = df['Having_@_Symbol'].unique()\n",
    "unique_DSR = df['Double_Slash_Redirecting'].unique()\n",
    "unique_PS = df['Prefix-Suffix'].unique()\n",
    "unique_SP = df['Standard_Port'].unique()\n",
    "unique_CTLD = df['CTLD'].unique()\n",
    "unique_HID = df['HTTPS_in_Domain'].unique()\n",
    "unique_SW = df['Sensitive_Words'].unique()\n",
    "unique_HT = df['Has_Tilde'].unique()\n",
    "unique_HP = df['Has_Port'].unique()\n",
    "unique_R = df['Result'].unique()"
   ]
  },
  {
   "cell_type": "code",
   "execution_count": 17,
   "metadata": {},
   "outputs": [
    {
     "name": "stdout",
     "output_type": "stream",
     "text": [
      "['1' '-1' 'Has IP address']\n",
      "['-1' '1' 'Shortening Service']\n",
      "['1' '-1' 'Having @ Symbol']\n",
      "['1' '-1' 'Double Slash Redirecting']\n",
      "['-1' '1' 'Prefix-Suffix']\n",
      "['0' '-1' 'Standard Port']\n",
      "['1' '-1' '0' 'CTLD']\n",
      "['-1' 'HTTPS in Domain']\n",
      "['1' '-1' 'Sensitive Words']\n",
      "['1' '-1' 'Has Tilde']\n",
      "['-1' '1' 'Has Port']\n",
      "['1' 'Result' '-1']\n"
     ]
    }
   ],
   "source": [
    "print(unique_IP)\n",
    "print(unique_SS)\n",
    "print(unique_HAS)\n",
    "print(unique_DSR)\n",
    "print(unique_PS)\n",
    "print(unique_SP)\n",
    "print(unique_CTLD)\n",
    "print(unique_HID)\n",
    "print(unique_SW)\n",
    "print(unique_HT)\n",
    "print(unique_HP)\n",
    "print(unique_R)"
   ]
  },
  {
   "attachments": {},
   "cell_type": "markdown",
   "metadata": {},
   "source": [
    "As there are white-space along with 1, 0, and -1 we need to remove rest of the things, and then convert the values to int "
   ]
  },
  {
   "cell_type": "code",
   "execution_count": 20,
   "metadata": {},
   "outputs": [],
   "source": [
    "validValues = {-1, 0, 1}\n",
    "\n",
    "for column in df.columns:\n",
    "    df[column] = pd.to_numeric(df[column], errors='coerce')\n",
    "    df = df[df[column].isin(validValues)]\n",
    "\n",
    "# Convert all columns to integers (again after the filtering)\n",
    "df = df.astype(int)"
   ]
  },
  {
   "cell_type": "code",
   "execution_count": 19,
   "metadata": {},
   "outputs": [
    {
     "name": "stdout",
     "output_type": "stream",
     "text": [
      "      Length of URL  Has_IP_address  Shortening_Service  Having_@_Symbol  \\\n",
      "0                 1               1                  -1                1   \n",
      "1                 1               1                   1                1   \n",
      "2                 1               1                   1                1   \n",
      "3                 1               1                   1                1   \n",
      "4                 1               1                   1                1   \n",
      "...             ...             ...                 ...              ...   \n",
      "5022              1               1                   1                1   \n",
      "5023              1               1                   1                1   \n",
      "5024              1               1                   1                1   \n",
      "5025              1               1                   1                1   \n",
      "5026              1               1                   1                1   \n",
      "\n",
      "      Double_Slash_Redirecting  Prefix-Suffix  Standard_Port  CTLD  \\\n",
      "0                            1             -1              0     1   \n",
      "1                            1              1              0     1   \n",
      "2                            1              1              0     1   \n",
      "3                            1              1              0    -1   \n",
      "4                            1              1              0     0   \n",
      "...                        ...            ...            ...   ...   \n",
      "5022                         1             -1              0     0   \n",
      "5023                         1             -1              0     0   \n",
      "5024                         1             -1              0     0   \n",
      "5025                         1             -1              0     0   \n",
      "5026                         1             -1              0     0   \n",
      "\n",
      "      HTTPS_in_Domain  Sensitive_Words  Has_Tilde  Has_Port  Result  \n",
      "0                  -1                1          1        -1       1  \n",
      "1                  -1               -1          1        -1       1  \n",
      "2                  -1               -1          1        -1       1  \n",
      "3                  -1                1          1        -1       1  \n",
      "4                  -1                1          1        -1       1  \n",
      "...               ...              ...        ...       ...     ...  \n",
      "5022               -1                1          1        -1      -1  \n",
      "5023               -1                1          1        -1      -1  \n",
      "5024               -1                1          1        -1      -1  \n",
      "5025               -1                1          1        -1      -1  \n",
      "5026               -1                1          1        -1      -1  \n",
      "\n",
      "[5026 rows x 13 columns]\n"
     ]
    }
   ],
   "source": [
    "# Now you can use the DataFrame with valid integer values (1, -1, and 0)\n",
    "print(df)"
   ]
  },
  {
   "attachments": {},
   "cell_type": "markdown",
   "metadata": {},
   "source": [
    "Again check for the unique values present in each column"
   ]
  },
  {
   "cell_type": "code",
   "execution_count": 21,
   "metadata": {},
   "outputs": [],
   "source": [
    "# Investigate unique values in the each column\n",
    "unique_IP_2 = df['Has_IP_address'].unique()\n",
    "unique_SS_2 = df['Shortening_Service'].unique()\n",
    "unique_HAS_2 = df['Having_@_Symbol'].unique()\n",
    "unique_DSR_2 = df['Double_Slash_Redirecting'].unique()\n",
    "unique_PS_2 = df['Prefix-Suffix'].unique()\n",
    "unique_SP_2 = df['Standard_Port'].unique()\n",
    "unique_CTLD_2 = df['CTLD'].unique()\n",
    "unique_HID_2 = df['HTTPS_in_Domain'].unique()\n",
    "unique_SW_2 = df['Sensitive_Words'].unique()\n",
    "unique_HT_2 = df['Has_Tilde'].unique()\n",
    "unique_HP_2 = df['Has_Port'].unique()\n",
    "unique_R_2 = df['Result'].unique()"
   ]
  },
  {
   "cell_type": "code",
   "execution_count": 22,
   "metadata": {},
   "outputs": [
    {
     "name": "stdout",
     "output_type": "stream",
     "text": [
      "[ 1 -1]\n",
      "[-1  1]\n",
      "[ 1 -1]\n",
      "[ 1 -1]\n",
      "[-1  1]\n",
      "[ 0 -1]\n",
      "[ 1 -1  0]\n",
      "[-1]\n",
      "[ 1 -1]\n",
      "[ 1 -1]\n",
      "[-1  1]\n",
      "[ 1 -1]\n"
     ]
    }
   ],
   "source": [
    "print(unique_IP_2)\n",
    "print(unique_SS_2)\n",
    "print(unique_HAS_2)\n",
    "print(unique_DSR_2)\n",
    "print(unique_PS_2)\n",
    "print(unique_SP_2)\n",
    "print(unique_CTLD_2)\n",
    "print(unique_HID_2)\n",
    "print(unique_SW_2)\n",
    "print(unique_HT_2)\n",
    "print(unique_HP_2)\n",
    "print(unique_R_2)"
   ]
  },
  {
   "cell_type": "code",
   "execution_count": 23,
   "metadata": {},
   "outputs": [
    {
     "data": {
      "text/plain": [
       "(5026, 13)"
      ]
     },
     "execution_count": 23,
     "metadata": {},
     "output_type": "execute_result"
    }
   ],
   "source": [
    "df.shape"
   ]
  },
  {
   "cell_type": "code",
   "execution_count": 24,
   "metadata": {},
   "outputs": [
    {
     "name": "stdout",
     "output_type": "stream",
     "text": [
      "number of 1 2713\n",
      "number of -1 2313\n"
     ]
    }
   ],
   "source": [
    "print(\"number of 1\",len(df[df[\"Result\"]==1]))\n",
    "print(\"number of -1\",len(df[df[\"Result\"]==-1]))"
   ]
  },
  {
   "attachments": {},
   "cell_type": "markdown",
   "metadata": {},
   "source": [
    "We now find the correlation between the columns values"
   ]
  },
  {
   "cell_type": "code",
   "execution_count": 25,
   "metadata": {},
   "outputs": [
    {
     "data": {
      "text/html": [
       "<div>\n",
       "<style scoped>\n",
       "    .dataframe tbody tr th:only-of-type {\n",
       "        vertical-align: middle;\n",
       "    }\n",
       "\n",
       "    .dataframe tbody tr th {\n",
       "        vertical-align: top;\n",
       "    }\n",
       "\n",
       "    .dataframe thead th {\n",
       "        text-align: right;\n",
       "    }\n",
       "</style>\n",
       "<table border=\"1\" class=\"dataframe\">\n",
       "  <thead>\n",
       "    <tr style=\"text-align: right;\">\n",
       "      <th></th>\n",
       "      <th>Length of URL</th>\n",
       "      <th>Has_IP_address</th>\n",
       "      <th>Shortening_Service</th>\n",
       "      <th>Having_@_Symbol</th>\n",
       "      <th>Double_Slash_Redirecting</th>\n",
       "      <th>Prefix-Suffix</th>\n",
       "      <th>Standard_Port</th>\n",
       "      <th>CTLD</th>\n",
       "      <th>HTTPS_in_Domain</th>\n",
       "      <th>Sensitive_Words</th>\n",
       "      <th>Has_Tilde</th>\n",
       "      <th>Has_Port</th>\n",
       "      <th>Result</th>\n",
       "    </tr>\n",
       "  </thead>\n",
       "  <tbody>\n",
       "    <tr>\n",
       "      <th>Length of URL</th>\n",
       "      <td>1.000000</td>\n",
       "      <td>-0.037023</td>\n",
       "      <td>-0.050387</td>\n",
       "      <td>0.139842</td>\n",
       "      <td>0.190540</td>\n",
       "      <td>0.126952</td>\n",
       "      <td>0.029635</td>\n",
       "      <td>0.217384</td>\n",
       "      <td>NaN</td>\n",
       "      <td>0.079310</td>\n",
       "      <td>0.058561</td>\n",
       "      <td>-0.026312</td>\n",
       "      <td>0.135408</td>\n",
       "    </tr>\n",
       "    <tr>\n",
       "      <th>Has_IP_address</th>\n",
       "      <td>-0.037023</td>\n",
       "      <td>1.000000</td>\n",
       "      <td>-0.017877</td>\n",
       "      <td>-0.007723</td>\n",
       "      <td>-0.011657</td>\n",
       "      <td>-0.038348</td>\n",
       "      <td>-0.004442</td>\n",
       "      <td>0.116156</td>\n",
       "      <td>NaN</td>\n",
       "      <td>-0.005635</td>\n",
       "      <td>-0.003220</td>\n",
       "      <td>0.004558</td>\n",
       "      <td>-0.010937</td>\n",
       "    </tr>\n",
       "    <tr>\n",
       "      <th>Shortening_Service</th>\n",
       "      <td>-0.050387</td>\n",
       "      <td>-0.017877</td>\n",
       "      <td>1.000000</td>\n",
       "      <td>-0.002416</td>\n",
       "      <td>0.035630</td>\n",
       "      <td>-0.078403</td>\n",
       "      <td>0.026375</td>\n",
       "      <td>-0.071654</td>\n",
       "      <td>NaN</td>\n",
       "      <td>0.053708</td>\n",
       "      <td>-0.011069</td>\n",
       "      <td>-0.024926</td>\n",
       "      <td>-0.141731</td>\n",
       "    </tr>\n",
       "    <tr>\n",
       "      <th>Having_@_Symbol</th>\n",
       "      <td>0.139842</td>\n",
       "      <td>-0.007723</td>\n",
       "      <td>-0.002416</td>\n",
       "      <td>1.000000</td>\n",
       "      <td>0.447844</td>\n",
       "      <td>-0.034293</td>\n",
       "      <td>-0.006598</td>\n",
       "      <td>0.023104</td>\n",
       "      <td>NaN</td>\n",
       "      <td>-0.001797</td>\n",
       "      <td>-0.004782</td>\n",
       "      <td>0.006770</td>\n",
       "      <td>-0.057423</td>\n",
       "    </tr>\n",
       "    <tr>\n",
       "      <th>Double_Slash_Redirecting</th>\n",
       "      <td>0.190540</td>\n",
       "      <td>-0.011657</td>\n",
       "      <td>0.035630</td>\n",
       "      <td>0.447844</td>\n",
       "      <td>1.000000</td>\n",
       "      <td>-0.076828</td>\n",
       "      <td>0.031201</td>\n",
       "      <td>-0.002632</td>\n",
       "      <td>NaN</td>\n",
       "      <td>0.168289</td>\n",
       "      <td>-0.007218</td>\n",
       "      <td>-0.029904</td>\n",
       "      <td>-0.141663</td>\n",
       "    </tr>\n",
       "    <tr>\n",
       "      <th>Prefix-Suffix</th>\n",
       "      <td>0.126952</td>\n",
       "      <td>-0.038348</td>\n",
       "      <td>-0.078403</td>\n",
       "      <td>-0.034293</td>\n",
       "      <td>-0.076828</td>\n",
       "      <td>1.000000</td>\n",
       "      <td>-0.032759</td>\n",
       "      <td>0.116914</td>\n",
       "      <td>NaN</td>\n",
       "      <td>-0.032445</td>\n",
       "      <td>-0.002203</td>\n",
       "      <td>0.033613</td>\n",
       "      <td>0.380456</td>\n",
       "    </tr>\n",
       "    <tr>\n",
       "      <th>Standard_Port</th>\n",
       "      <td>0.029635</td>\n",
       "      <td>-0.004442</td>\n",
       "      <td>0.026375</td>\n",
       "      <td>-0.006598</td>\n",
       "      <td>0.031201</td>\n",
       "      <td>-0.032759</td>\n",
       "      <td>1.000000</td>\n",
       "      <td>0.005104</td>\n",
       "      <td>NaN</td>\n",
       "      <td>0.111299</td>\n",
       "      <td>-0.002750</td>\n",
       "      <td>-0.974582</td>\n",
       "      <td>-0.056879</td>\n",
       "    </tr>\n",
       "    <tr>\n",
       "      <th>CTLD</th>\n",
       "      <td>0.217384</td>\n",
       "      <td>0.116156</td>\n",
       "      <td>-0.071654</td>\n",
       "      <td>0.023104</td>\n",
       "      <td>-0.002632</td>\n",
       "      <td>0.116914</td>\n",
       "      <td>0.005104</td>\n",
       "      <td>1.000000</td>\n",
       "      <td>NaN</td>\n",
       "      <td>-0.003882</td>\n",
       "      <td>0.015564</td>\n",
       "      <td>-0.010066</td>\n",
       "      <td>0.315811</td>\n",
       "    </tr>\n",
       "    <tr>\n",
       "      <th>HTTPS_in_Domain</th>\n",
       "      <td>NaN</td>\n",
       "      <td>NaN</td>\n",
       "      <td>NaN</td>\n",
       "      <td>NaN</td>\n",
       "      <td>NaN</td>\n",
       "      <td>NaN</td>\n",
       "      <td>NaN</td>\n",
       "      <td>NaN</td>\n",
       "      <td>NaN</td>\n",
       "      <td>NaN</td>\n",
       "      <td>NaN</td>\n",
       "      <td>NaN</td>\n",
       "      <td>NaN</td>\n",
       "    </tr>\n",
       "    <tr>\n",
       "      <th>Sensitive_Words</th>\n",
       "      <td>0.079310</td>\n",
       "      <td>-0.005635</td>\n",
       "      <td>0.053708</td>\n",
       "      <td>-0.001797</td>\n",
       "      <td>0.168289</td>\n",
       "      <td>-0.032445</td>\n",
       "      <td>0.111299</td>\n",
       "      <td>-0.003882</td>\n",
       "      <td>NaN</td>\n",
       "      <td>1.000000</td>\n",
       "      <td>-0.010927</td>\n",
       "      <td>-0.121406</td>\n",
       "      <td>-0.108400</td>\n",
       "    </tr>\n",
       "    <tr>\n",
       "      <th>Has_Tilde</th>\n",
       "      <td>0.058561</td>\n",
       "      <td>-0.003220</td>\n",
       "      <td>-0.011069</td>\n",
       "      <td>-0.004782</td>\n",
       "      <td>-0.007218</td>\n",
       "      <td>-0.002203</td>\n",
       "      <td>-0.002750</td>\n",
       "      <td>0.015564</td>\n",
       "      <td>NaN</td>\n",
       "      <td>-0.010927</td>\n",
       "      <td>1.000000</td>\n",
       "      <td>0.002822</td>\n",
       "      <td>-0.041227</td>\n",
       "    </tr>\n",
       "    <tr>\n",
       "      <th>Has_Port</th>\n",
       "      <td>-0.026312</td>\n",
       "      <td>0.004558</td>\n",
       "      <td>-0.024926</td>\n",
       "      <td>0.006770</td>\n",
       "      <td>-0.029904</td>\n",
       "      <td>0.033613</td>\n",
       "      <td>-0.974582</td>\n",
       "      <td>-0.010066</td>\n",
       "      <td>NaN</td>\n",
       "      <td>-0.121406</td>\n",
       "      <td>0.002822</td>\n",
       "      <td>1.000000</td>\n",
       "      <td>0.058362</td>\n",
       "    </tr>\n",
       "    <tr>\n",
       "      <th>Result</th>\n",
       "      <td>0.135408</td>\n",
       "      <td>-0.010937</td>\n",
       "      <td>-0.141731</td>\n",
       "      <td>-0.057423</td>\n",
       "      <td>-0.141663</td>\n",
       "      <td>0.380456</td>\n",
       "      <td>-0.056879</td>\n",
       "      <td>0.315811</td>\n",
       "      <td>NaN</td>\n",
       "      <td>-0.108400</td>\n",
       "      <td>-0.041227</td>\n",
       "      <td>0.058362</td>\n",
       "      <td>1.000000</td>\n",
       "    </tr>\n",
       "  </tbody>\n",
       "</table>\n",
       "</div>"
      ],
      "text/plain": [
       "                          Length of URL  Has_IP_address  Shortening_Service  \\\n",
       "Length of URL                  1.000000       -0.037023           -0.050387   \n",
       "Has_IP_address                -0.037023        1.000000           -0.017877   \n",
       "Shortening_Service            -0.050387       -0.017877            1.000000   \n",
       "Having_@_Symbol                0.139842       -0.007723           -0.002416   \n",
       "Double_Slash_Redirecting       0.190540       -0.011657            0.035630   \n",
       "Prefix-Suffix                  0.126952       -0.038348           -0.078403   \n",
       "Standard_Port                  0.029635       -0.004442            0.026375   \n",
       "CTLD                           0.217384        0.116156           -0.071654   \n",
       "HTTPS_in_Domain                     NaN             NaN                 NaN   \n",
       "Sensitive_Words                0.079310       -0.005635            0.053708   \n",
       "Has_Tilde                      0.058561       -0.003220           -0.011069   \n",
       "Has_Port                      -0.026312        0.004558           -0.024926   \n",
       "Result                         0.135408       -0.010937           -0.141731   \n",
       "\n",
       "                          Having_@_Symbol  Double_Slash_Redirecting  \\\n",
       "Length of URL                    0.139842                  0.190540   \n",
       "Has_IP_address                  -0.007723                 -0.011657   \n",
       "Shortening_Service              -0.002416                  0.035630   \n",
       "Having_@_Symbol                  1.000000                  0.447844   \n",
       "Double_Slash_Redirecting         0.447844                  1.000000   \n",
       "Prefix-Suffix                   -0.034293                 -0.076828   \n",
       "Standard_Port                   -0.006598                  0.031201   \n",
       "CTLD                             0.023104                 -0.002632   \n",
       "HTTPS_in_Domain                       NaN                       NaN   \n",
       "Sensitive_Words                 -0.001797                  0.168289   \n",
       "Has_Tilde                       -0.004782                 -0.007218   \n",
       "Has_Port                         0.006770                 -0.029904   \n",
       "Result                          -0.057423                 -0.141663   \n",
       "\n",
       "                          Prefix-Suffix  Standard_Port      CTLD  \\\n",
       "Length of URL                  0.126952       0.029635  0.217384   \n",
       "Has_IP_address                -0.038348      -0.004442  0.116156   \n",
       "Shortening_Service            -0.078403       0.026375 -0.071654   \n",
       "Having_@_Symbol               -0.034293      -0.006598  0.023104   \n",
       "Double_Slash_Redirecting      -0.076828       0.031201 -0.002632   \n",
       "Prefix-Suffix                  1.000000      -0.032759  0.116914   \n",
       "Standard_Port                 -0.032759       1.000000  0.005104   \n",
       "CTLD                           0.116914       0.005104  1.000000   \n",
       "HTTPS_in_Domain                     NaN            NaN       NaN   \n",
       "Sensitive_Words               -0.032445       0.111299 -0.003882   \n",
       "Has_Tilde                     -0.002203      -0.002750  0.015564   \n",
       "Has_Port                       0.033613      -0.974582 -0.010066   \n",
       "Result                         0.380456      -0.056879  0.315811   \n",
       "\n",
       "                          HTTPS_in_Domain  Sensitive_Words  Has_Tilde  \\\n",
       "Length of URL                         NaN         0.079310   0.058561   \n",
       "Has_IP_address                        NaN        -0.005635  -0.003220   \n",
       "Shortening_Service                    NaN         0.053708  -0.011069   \n",
       "Having_@_Symbol                       NaN        -0.001797  -0.004782   \n",
       "Double_Slash_Redirecting              NaN         0.168289  -0.007218   \n",
       "Prefix-Suffix                         NaN        -0.032445  -0.002203   \n",
       "Standard_Port                         NaN         0.111299  -0.002750   \n",
       "CTLD                                  NaN        -0.003882   0.015564   \n",
       "HTTPS_in_Domain                       NaN              NaN        NaN   \n",
       "Sensitive_Words                       NaN         1.000000  -0.010927   \n",
       "Has_Tilde                             NaN        -0.010927   1.000000   \n",
       "Has_Port                              NaN        -0.121406   0.002822   \n",
       "Result                                NaN        -0.108400  -0.041227   \n",
       "\n",
       "                          Has_Port    Result  \n",
       "Length of URL            -0.026312  0.135408  \n",
       "Has_IP_address            0.004558 -0.010937  \n",
       "Shortening_Service       -0.024926 -0.141731  \n",
       "Having_@_Symbol           0.006770 -0.057423  \n",
       "Double_Slash_Redirecting -0.029904 -0.141663  \n",
       "Prefix-Suffix             0.033613  0.380456  \n",
       "Standard_Port            -0.974582 -0.056879  \n",
       "CTLD                     -0.010066  0.315811  \n",
       "HTTPS_in_Domain                NaN       NaN  \n",
       "Sensitive_Words          -0.121406 -0.108400  \n",
       "Has_Tilde                 0.002822 -0.041227  \n",
       "Has_Port                  1.000000  0.058362  \n",
       "Result                    0.058362  1.000000  "
      ]
     },
     "execution_count": 25,
     "metadata": {},
     "output_type": "execute_result"
    }
   ],
   "source": [
    "corr=df.corr()\n",
    "corr"
   ]
  },
  {
   "cell_type": "code",
   "execution_count": 26,
   "metadata": {},
   "outputs": [
    {
     "data": {
      "text/plain": [
       "<Axes: >"
      ]
     },
     "execution_count": 26,
     "metadata": {},
     "output_type": "execute_result"
    },
    {
     "data": {
      "image/png": "[encoded data removed]",
      "text/plain": [
       "<Figure size 1300x1300 with 2 Axes>"
      ]
     },
     "metadata": {},
     "output_type": "display_data"
    }
   ],
   "source": [
    "# Set up the matplotlib figure\n",
    "f, ax = plt.subplots(figsize=(13, 13))\n",
    "\n",
    "# Generate a custom diverging colormap\n",
    "cmap = sns.diverging_palette(220, 10, as_cmap=True)\n",
    "\n",
    "# Draw the heatmap with the mask and correct aspect ratio\n",
    "sns.heatmap(corr, cmap=cmap, center=0, square=True, linewidths=.5, cbar_kws={\"shrink\": .5})"
   ]
  }
 ],
 "metadata": {
  "kernelspec": {
   "display_name": "Python 3",
   "language": "python",
   "name": "python3"
  },
  "language_info": {
   "codemirror_mode": {
    "name": "ipython",
    "version": 3
   },
   "file_extension": ".py",
   "mimetype": "text/x-python",
   "name": "python",
   "nbconvert_exporter": "python",
   "pygments_lexer": "ipython3",
   "version": "3.10.6"
  },
  "orig_nbformat": 4
 },
 "nbformat": 4,
 "nbformat_minor": 2
}
