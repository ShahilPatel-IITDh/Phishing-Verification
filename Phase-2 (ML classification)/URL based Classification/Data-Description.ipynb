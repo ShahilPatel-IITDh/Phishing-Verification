{
 "cells": [
  {
   "attachments": {},
   "cell_type": "markdown",
   "metadata": {},
   "source": [
    "Importing the Libraries for Data-Description"
   ]
  },
  {
   "cell_type": "code",
   "execution_count": 1,
   "metadata": {},
   "outputs": [],
   "source": [
    "import matplotlib.pyplot as plt\n",
    "import numpy as np\n",
    "import pandas as pd\n",
    "import seaborn as sns\n",
    "from sklearn.linear_model import LinearRegression"
   ]
  },
  {
   "attachments": {},
   "cell_type": "markdown",
   "metadata": {},
   "source": [
    "Read the data from 'dataset.csv' file and create a dataframe"
   ]
  },
  {
   "cell_type": "code",
   "execution_count": 2,
   "metadata": {},
   "outputs": [
    {
     "data": {
      "text/plain": [
       "(6052, 12)"
      ]
     },
     "execution_count": 2,
     "metadata": {},
     "output_type": "execute_result"
    }
   ],
   "source": [
    "df = pd.read_csv('dataset.csv')\n",
    "df.shape"
   ]
  },
  {
   "cell_type": "code",
   "execution_count": 3,
   "metadata": {},
   "outputs": [
    {
     "data": {
      "text/html": [
       "<div>\n",
       "<style scoped>\n",
       "    .dataframe tbody tr th:only-of-type {\n",
       "        vertical-align: middle;\n",
       "    }\n",
       "\n",
       "    .dataframe tbody tr th {\n",
       "        vertical-align: top;\n",
       "    }\n",
       "\n",
       "    .dataframe thead th {\n",
       "        text-align: right;\n",
       "    }\n",
       "</style>\n",
       "<table border=\"1\" class=\"dataframe\">\n",
       "  <thead>\n",
       "    <tr style=\"text-align: right;\">\n",
       "      <th></th>\n",
       "      <th>Length of URL</th>\n",
       "      <th>Has IP address</th>\n",
       "      <th>Shortening Service</th>\n",
       "      <th>Having @ Symbol</th>\n",
       "      <th>Double Slash Redirecting</th>\n",
       "      <th>Prefix-Suffix</th>\n",
       "      <th>CTLD</th>\n",
       "      <th>HTTPS in Domain</th>\n",
       "      <th>Sensitive Words</th>\n",
       "      <th>Has Tilde</th>\n",
       "      <th>Has Port</th>\n",
       "      <th>Result</th>\n",
       "    </tr>\n",
       "  </thead>\n",
       "  <tbody>\n",
       "    <tr>\n",
       "      <th>0</th>\n",
       "      <td>1</td>\n",
       "      <td>1</td>\n",
       "      <td>-1</td>\n",
       "      <td>1</td>\n",
       "      <td>1</td>\n",
       "      <td>-1</td>\n",
       "      <td>1</td>\n",
       "      <td>-1</td>\n",
       "      <td>1</td>\n",
       "      <td>1</td>\n",
       "      <td>-1</td>\n",
       "      <td>1</td>\n",
       "    </tr>\n",
       "    <tr>\n",
       "      <th>1</th>\n",
       "      <td>1</td>\n",
       "      <td>1</td>\n",
       "      <td>1</td>\n",
       "      <td>1</td>\n",
       "      <td>1</td>\n",
       "      <td>1</td>\n",
       "      <td>1</td>\n",
       "      <td>-1</td>\n",
       "      <td>-1</td>\n",
       "      <td>1</td>\n",
       "      <td>-1</td>\n",
       "      <td>1</td>\n",
       "    </tr>\n",
       "    <tr>\n",
       "      <th>2</th>\n",
       "      <td>1</td>\n",
       "      <td>1</td>\n",
       "      <td>1</td>\n",
       "      <td>1</td>\n",
       "      <td>1</td>\n",
       "      <td>1</td>\n",
       "      <td>1</td>\n",
       "      <td>-1</td>\n",
       "      <td>-1</td>\n",
       "      <td>1</td>\n",
       "      <td>-1</td>\n",
       "      <td>1</td>\n",
       "    </tr>\n",
       "    <tr>\n",
       "      <th>3</th>\n",
       "      <td>1</td>\n",
       "      <td>1</td>\n",
       "      <td>1</td>\n",
       "      <td>1</td>\n",
       "      <td>1</td>\n",
       "      <td>1</td>\n",
       "      <td>-1</td>\n",
       "      <td>-1</td>\n",
       "      <td>1</td>\n",
       "      <td>1</td>\n",
       "      <td>-1</td>\n",
       "      <td>1</td>\n",
       "    </tr>\n",
       "    <tr>\n",
       "      <th>4</th>\n",
       "      <td>1</td>\n",
       "      <td>1</td>\n",
       "      <td>1</td>\n",
       "      <td>1</td>\n",
       "      <td>1</td>\n",
       "      <td>1</td>\n",
       "      <td>0</td>\n",
       "      <td>-1</td>\n",
       "      <td>1</td>\n",
       "      <td>1</td>\n",
       "      <td>-1</td>\n",
       "      <td>1</td>\n",
       "    </tr>\n",
       "  </tbody>\n",
       "</table>\n",
       "</div>"
      ],
      "text/plain": [
       "  Length of URL Has IP address Shortening Service Having @ Symbol  \\\n",
       "0             1              1                 -1               1   \n",
       "1             1              1                  1               1   \n",
       "2             1              1                  1               1   \n",
       "3             1              1                  1               1   \n",
       "4             1              1                  1               1   \n",
       "\n",
       "  Double Slash Redirecting Prefix-Suffix CTLD HTTPS in Domain Sensitive Words  \\\n",
       "0                        1            -1    1              -1               1   \n",
       "1                        1             1    1              -1              -1   \n",
       "2                        1             1    1              -1              -1   \n",
       "3                        1             1   -1              -1               1   \n",
       "4                        1             1    0              -1               1   \n",
       "\n",
       "  Has Tilde Has Port Result  \n",
       "0         1       -1      1  \n",
       "1         1       -1      1  \n",
       "2         1       -1      1  \n",
       "3         1       -1      1  \n",
       "4         1       -1      1  "
      ]
     },
     "execution_count": 3,
     "metadata": {},
     "output_type": "execute_result"
    }
   ],
   "source": [
    "df.head()"
   ]
  },
  {
   "cell_type": "code",
   "execution_count": 4,
   "metadata": {},
   "outputs": [
    {
     "data": {
      "text/plain": [
       "Index(['Length of URL', 'Has IP address', 'Shortening Service',\n",
       "       'Having @ Symbol', 'Double Slash Redirecting', 'Prefix-Suffix', 'CTLD',\n",
       "       'HTTPS in Domain', 'Sensitive Words', 'Has Tilde', 'Has Port',\n",
       "       'Result'],\n",
       "      dtype='object')"
      ]
     },
     "execution_count": 4,
     "metadata": {},
     "output_type": "execute_result"
    }
   ],
   "source": [
    "df.columns  "
   ]
  },
  {
   "attachments": {},
   "cell_type": "markdown",
   "metadata": {},
   "source": [
    "As the column names have leading white spaces, we will rename the columns"
   ]
  },
  {
   "cell_type": "code",
   "execution_count": 9,
   "metadata": {},
   "outputs": [],
   "source": [
    "df.rename(columns={'Length of URL':'Length of URL', 'Has IP address':'Has_IP_address', 'Shortening Service':'Shortening_Service', 'Having @ Symbol':'Having_@_Symbol', 'Double Slash Redirecting':'Double_Slash_Redirecting', 'Prefix-Suffix':'Prefix-Suffix', 'CTLD':'CTLD', 'HTTPS in Domain':'HTTPS_in_Domain', 'Sensitive Words':'Sensitive_Words', 'Has Tilde':'Has_Tilde', 'Has Port':'Has_Port', 'Result':'Result'}, inplace=True)"
   ]
  },
  {
   "attachments": {},
   "cell_type": "markdown",
   "metadata": {},
   "source": [
    "As we had merged two csv files to create a dataset, we need to check the unique values present in each column"
   ]
  },
  {
   "cell_type": "code",
   "execution_count": 10,
   "metadata": {},
   "outputs": [],
   "source": [
    "# Investigate unique values in the each column\n",
    "unique_IP = df['Has_IP_address'].unique()\n",
    "unique_SS = df['Shortening_Service'].unique()\n",
    "unique_HAS = df['Having_@_Symbol'].unique()\n",
    "unique_DSR = df['Double_Slash_Redirecting'].unique()\n",
    "unique_PS = df['Prefix-Suffix'].unique()\n",
    "unique_CTLD = df['CTLD'].unique()\n",
    "unique_HID = df['HTTPS_in_Domain'].unique()\n",
    "unique_SW = df['Sensitive_Words'].unique()\n",
    "unique_HT = df['Has_Tilde'].unique()\n",
    "unique_HP = df['Has_Port'].unique()\n",
    "unique_R = df['Result'].unique()"
   ]
  },
  {
   "cell_type": "code",
   "execution_count": 11,
   "metadata": {},
   "outputs": [
    {
     "name": "stdout",
     "output_type": "stream",
     "text": [
      "['1' '-1' 'Has IP address']\n",
      "['-1' '1' 'Shortening Service']\n",
      "['1' '-1' 'Having @ Symbol']\n",
      "['1' '-1' 'Double Slash Redirecting']\n",
      "['-1' '1' 'Prefix-Suffix']\n",
      "['1' '-1' '0' 'CTLD']\n",
      "['-1' 'HTTPS in Domain']\n",
      "['1' '-1' 'Sensitive Words']\n",
      "['1' '-1' 'Has Tilde']\n",
      "['-1' '1' 'Has Port']\n",
      "['1' 'Result' '-1']\n"
     ]
    }
   ],
   "source": [
    "print(unique_IP)\n",
    "print(unique_SS)\n",
    "print(unique_HAS)\n",
    "print(unique_DSR)\n",
    "print(unique_PS)\n",
    "print(unique_CTLD)\n",
    "print(unique_HID)\n",
    "print(unique_SW)\n",
    "print(unique_HT)\n",
    "print(unique_HP)\n",
    "print(unique_R)"
   ]
  },
  {
   "attachments": {},
   "cell_type": "markdown",
   "metadata": {},
   "source": [
    "As there are white-space along with 1, 0, and -1 we need to remove rest of the things, and then convert the values to int "
   ]
  },
  {
   "cell_type": "code",
   "execution_count": 12,
   "metadata": {},
   "outputs": [
    {
     "name": "stderr",
     "output_type": "stream",
     "text": [
      "/tmp/ipykernel_14078/837780899.py:4: SettingWithCopyWarning: \n",
      "A value is trying to be set on a copy of a slice from a DataFrame.\n",
      "Try using .loc[row_indexer,col_indexer] = value instead\n",
      "\n",
      "See the caveats in the documentation: https://pandas.pydata.org/pandas-docs/stable/user_guide/indexing.html#returning-a-view-versus-a-copy\n",
      "  df[column] = pd.to_numeric(df[column], errors='coerce')\n"
     ]
    }
   ],
   "source": [
    "validValues = {-1, 0, 1}\n",
    "\n",
    "for column in df.columns:\n",
    "    df[column] = pd.to_numeric(df[column], errors='coerce')\n",
    "    df = df[df[column].isin(validValues)]\n",
    "\n",
    "# Convert all columns to integers (again after the filtering)\n",
    "df = df.astype(int)"
   ]
  },
  {
   "cell_type": "code",
   "execution_count": 13,
   "metadata": {},
   "outputs": [
    {
     "name": "stdout",
     "output_type": "stream",
     "text": [
      "      Length of URL  Has_IP_address  Shortening_Service  Having_@_Symbol  \\\n",
      "0                 1               1                  -1                1   \n",
      "1                 1               1                   1                1   \n",
      "2                 1               1                   1                1   \n",
      "3                 1               1                   1                1   \n",
      "4                 1               1                   1                1   \n",
      "...             ...             ...                 ...              ...   \n",
      "6047              1               1                   1                1   \n",
      "6048              1               1                   1                1   \n",
      "6049              1               1                   1                1   \n",
      "6050              1               1                   1                1   \n",
      "6051              1               1                   1                1   \n",
      "\n",
      "      Double_Slash_Redirecting  Prefix-Suffix  CTLD  HTTPS_in_Domain  \\\n",
      "0                            1             -1     1               -1   \n",
      "1                            1              1     1               -1   \n",
      "2                            1              1     1               -1   \n",
      "3                            1              1    -1               -1   \n",
      "4                            1              1     0               -1   \n",
      "...                        ...            ...   ...              ...   \n",
      "6047                         1              1     0               -1   \n",
      "6048                         1              1     0               -1   \n",
      "6049                         1              1     0               -1   \n",
      "6050                         1              1     0               -1   \n",
      "6051                         1              1     1               -1   \n",
      "\n",
      "      Sensitive_Words  Has_Tilde  Has_Port  Result  \n",
      "0                   1          1        -1       1  \n",
      "1                  -1          1        -1       1  \n",
      "2                  -1          1        -1       1  \n",
      "3                   1          1        -1       1  \n",
      "4                   1          1        -1       1  \n",
      "...               ...        ...       ...     ...  \n",
      "6047                1          1        -1      -1  \n",
      "6048                1          1        -1      -1  \n",
      "6049                1          1        -1      -1  \n",
      "6050                1          1        -1      -1  \n",
      "6051                1          1        -1      -1  \n",
      "\n",
      "[6051 rows x 12 columns]\n"
     ]
    }
   ],
   "source": [
    "# Now you can use the DataFrame with valid integer values (1, -1, and 0)\n",
    "print(df)"
   ]
  },
  {
   "attachments": {},
   "cell_type": "markdown",
   "metadata": {},
   "source": [
    "Again check for the unique values present in each column"
   ]
  },
  {
   "cell_type": "code",
   "execution_count": 14,
   "metadata": {},
   "outputs": [],
   "source": [
    "# Investigate unique values in the each column\n",
    "unique_IP_2 = df['Has_IP_address'].unique()\n",
    "unique_SS_2 = df['Shortening_Service'].unique()\n",
    "unique_HAS_2 = df['Having_@_Symbol'].unique()\n",
    "unique_DSR_2 = df['Double_Slash_Redirecting'].unique()\n",
    "unique_PS_2 = df['Prefix-Suffix'].unique()\n",
    "unique_CTLD_2 = df['CTLD'].unique()\n",
    "unique_HID_2 = df['HTTPS_in_Domain'].unique()\n",
    "unique_SW_2 = df['Sensitive_Words'].unique()\n",
    "unique_HT_2 = df['Has_Tilde'].unique()\n",
    "unique_HP_2 = df['Has_Port'].unique()\n",
    "unique_R_2 = df['Result'].unique()"
   ]
  },
  {
   "cell_type": "code",
   "execution_count": 15,
   "metadata": {},
   "outputs": [
    {
     "name": "stdout",
     "output_type": "stream",
     "text": [
      "[ 1 -1]\n",
      "[-1  1]\n",
      "[ 1 -1]\n",
      "[ 1 -1]\n",
      "[-1  1]\n",
      "[ 1 -1  0]\n",
      "[-1]\n",
      "[ 1 -1]\n",
      "[ 1 -1]\n",
      "[-1  1]\n",
      "[ 1 -1]\n"
     ]
    }
   ],
   "source": [
    "print(unique_IP_2)\n",
    "print(unique_SS_2)\n",
    "print(unique_HAS_2)\n",
    "print(unique_DSR_2)\n",
    "print(unique_PS_2)\n",
    "print(unique_CTLD_2)\n",
    "print(unique_HID_2)\n",
    "print(unique_SW_2)\n",
    "print(unique_HT_2)\n",
    "print(unique_HP_2)\n",
    "print(unique_R_2)"
   ]
  },
  {
   "cell_type": "code",
   "execution_count": 16,
   "metadata": {},
   "outputs": [
    {
     "data": {
      "text/plain": [
       "(6051, 12)"
      ]
     },
     "execution_count": 16,
     "metadata": {},
     "output_type": "execute_result"
    }
   ],
   "source": [
    "df.shape"
   ]
  },
  {
   "cell_type": "code",
   "execution_count": 17,
   "metadata": {},
   "outputs": [
    {
     "name": "stdout",
     "output_type": "stream",
     "text": [
      "number of 1 3387\n",
      "number of -1 2664\n"
     ]
    }
   ],
   "source": [
    "print(\"number of 1\",len(df[df[\"Result\"]==1]))\n",
    "print(\"number of -1\",len(df[df[\"Result\"]==-1]))"
   ]
  },
  {
   "attachments": {},
   "cell_type": "markdown",
   "metadata": {},
   "source": [
    "We now find the correlation between the columns values"
   ]
  },
  {
   "cell_type": "code",
   "execution_count": 18,
   "metadata": {},
   "outputs": [
    {
     "data": {
      "text/html": [
       "<div>\n",
       "<style scoped>\n",
       "    .dataframe tbody tr th:only-of-type {\n",
       "        vertical-align: middle;\n",
       "    }\n",
       "\n",
       "    .dataframe tbody tr th {\n",
       "        vertical-align: top;\n",
       "    }\n",
       "\n",
       "    .dataframe thead th {\n",
       "        text-align: right;\n",
       "    }\n",
       "</style>\n",
       "<table border=\"1\" class=\"dataframe\">\n",
       "  <thead>\n",
       "    <tr style=\"text-align: right;\">\n",
       "      <th></th>\n",
       "      <th>Length of URL</th>\n",
       "      <th>Has_IP_address</th>\n",
       "      <th>Shortening_Service</th>\n",
       "      <th>Having_@_Symbol</th>\n",
       "      <th>Double_Slash_Redirecting</th>\n",
       "      <th>Prefix-Suffix</th>\n",
       "      <th>CTLD</th>\n",
       "      <th>HTTPS_in_Domain</th>\n",
       "      <th>Sensitive_Words</th>\n",
       "      <th>Has_Tilde</th>\n",
       "      <th>Has_Port</th>\n",
       "      <th>Result</th>\n",
       "    </tr>\n",
       "  </thead>\n",
       "  <tbody>\n",
       "    <tr>\n",
       "      <th>Length of URL</th>\n",
       "      <td>1.000000</td>\n",
       "      <td>-0.033295</td>\n",
       "      <td>-0.039357</td>\n",
       "      <td>0.137133</td>\n",
       "      <td>0.194181</td>\n",
       "      <td>0.068244</td>\n",
       "      <td>0.185203</td>\n",
       "      <td>NaN</td>\n",
       "      <td>0.066572</td>\n",
       "      <td>0.067161</td>\n",
       "      <td>-0.029377</td>\n",
       "      <td>0.086165</td>\n",
       "    </tr>\n",
       "    <tr>\n",
       "      <th>Has_IP_address</th>\n",
       "      <td>-0.033295</td>\n",
       "      <td>1.000000</td>\n",
       "      <td>-0.017064</td>\n",
       "      <td>-0.007343</td>\n",
       "      <td>-0.011026</td>\n",
       "      <td>-0.037825</td>\n",
       "      <td>0.116544</td>\n",
       "      <td>NaN</td>\n",
       "      <td>-0.008137</td>\n",
       "      <td>0.041526</td>\n",
       "      <td>0.004095</td>\n",
       "      <td>-0.013340</td>\n",
       "    </tr>\n",
       "    <tr>\n",
       "      <th>Shortening_Service</th>\n",
       "      <td>-0.039357</td>\n",
       "      <td>-0.017064</td>\n",
       "      <td>1.000000</td>\n",
       "      <td>0.001226</td>\n",
       "      <td>0.052910</td>\n",
       "      <td>-0.081451</td>\n",
       "      <td>-0.070826</td>\n",
       "      <td>NaN</td>\n",
       "      <td>0.056564</td>\n",
       "      <td>0.000414</td>\n",
       "      <td>-0.021847</td>\n",
       "      <td>-0.141979</td>\n",
       "    </tr>\n",
       "    <tr>\n",
       "      <th>Having_@_Symbol</th>\n",
       "      <td>0.137133</td>\n",
       "      <td>-0.007343</td>\n",
       "      <td>0.001226</td>\n",
       "      <td>1.000000</td>\n",
       "      <td>0.390813</td>\n",
       "      <td>-0.038885</td>\n",
       "      <td>0.022226</td>\n",
       "      <td>NaN</td>\n",
       "      <td>-0.001422</td>\n",
       "      <td>-0.005616</td>\n",
       "      <td>0.006244</td>\n",
       "      <td>-0.049303</td>\n",
       "    </tr>\n",
       "    <tr>\n",
       "      <th>Double_Slash_Redirecting</th>\n",
       "      <td>0.194181</td>\n",
       "      <td>-0.011026</td>\n",
       "      <td>0.052910</td>\n",
       "      <td>0.390813</td>\n",
       "      <td>1.000000</td>\n",
       "      <td>-0.073918</td>\n",
       "      <td>0.000242</td>\n",
       "      <td>NaN</td>\n",
       "      <td>0.160760</td>\n",
       "      <td>0.011713</td>\n",
       "      <td>-0.026889</td>\n",
       "      <td>-0.132321</td>\n",
       "    </tr>\n",
       "    <tr>\n",
       "      <th>Prefix-Suffix</th>\n",
       "      <td>0.068244</td>\n",
       "      <td>-0.037825</td>\n",
       "      <td>-0.081451</td>\n",
       "      <td>-0.038885</td>\n",
       "      <td>-0.073918</td>\n",
       "      <td>1.000000</td>\n",
       "      <td>0.138016</td>\n",
       "      <td>NaN</td>\n",
       "      <td>-0.015008</td>\n",
       "      <td>-0.014072</td>\n",
       "      <td>0.032167</td>\n",
       "      <td>0.418135</td>\n",
       "    </tr>\n",
       "    <tr>\n",
       "      <th>CTLD</th>\n",
       "      <td>0.185203</td>\n",
       "      <td>0.116544</td>\n",
       "      <td>-0.070826</td>\n",
       "      <td>0.022226</td>\n",
       "      <td>0.000242</td>\n",
       "      <td>0.138016</td>\n",
       "      <td>1.000000</td>\n",
       "      <td>NaN</td>\n",
       "      <td>0.001726</td>\n",
       "      <td>0.000162</td>\n",
       "      <td>-0.008103</td>\n",
       "      <td>0.322491</td>\n",
       "    </tr>\n",
       "    <tr>\n",
       "      <th>HTTPS_in_Domain</th>\n",
       "      <td>NaN</td>\n",
       "      <td>NaN</td>\n",
       "      <td>NaN</td>\n",
       "      <td>NaN</td>\n",
       "      <td>NaN</td>\n",
       "      <td>NaN</td>\n",
       "      <td>NaN</td>\n",
       "      <td>NaN</td>\n",
       "      <td>NaN</td>\n",
       "      <td>NaN</td>\n",
       "      <td>NaN</td>\n",
       "      <td>NaN</td>\n",
       "    </tr>\n",
       "    <tr>\n",
       "      <th>Sensitive_Words</th>\n",
       "      <td>0.066572</td>\n",
       "      <td>-0.008137</td>\n",
       "      <td>0.056564</td>\n",
       "      <td>-0.001422</td>\n",
       "      <td>0.160760</td>\n",
       "      <td>-0.015008</td>\n",
       "      <td>0.001726</td>\n",
       "      <td>NaN</td>\n",
       "      <td>1.000000</td>\n",
       "      <td>-0.013759</td>\n",
       "      <td>-0.100395</td>\n",
       "      <td>-0.072281</td>\n",
       "    </tr>\n",
       "    <tr>\n",
       "      <th>Has_Tilde</th>\n",
       "      <td>0.067161</td>\n",
       "      <td>0.041526</td>\n",
       "      <td>0.000414</td>\n",
       "      <td>-0.005616</td>\n",
       "      <td>0.011713</td>\n",
       "      <td>-0.014072</td>\n",
       "      <td>0.000162</td>\n",
       "      <td>NaN</td>\n",
       "      <td>-0.013759</td>\n",
       "      <td>1.000000</td>\n",
       "      <td>0.003132</td>\n",
       "      <td>-0.047074</td>\n",
       "    </tr>\n",
       "    <tr>\n",
       "      <th>Has_Port</th>\n",
       "      <td>-0.029377</td>\n",
       "      <td>0.004095</td>\n",
       "      <td>-0.021847</td>\n",
       "      <td>0.006244</td>\n",
       "      <td>-0.026889</td>\n",
       "      <td>0.032167</td>\n",
       "      <td>-0.008103</td>\n",
       "      <td>NaN</td>\n",
       "      <td>-0.100395</td>\n",
       "      <td>0.003132</td>\n",
       "      <td>1.000000</td>\n",
       "      <td>0.052337</td>\n",
       "    </tr>\n",
       "    <tr>\n",
       "      <th>Result</th>\n",
       "      <td>0.086165</td>\n",
       "      <td>-0.013340</td>\n",
       "      <td>-0.141979</td>\n",
       "      <td>-0.049303</td>\n",
       "      <td>-0.132321</td>\n",
       "      <td>0.418135</td>\n",
       "      <td>0.322491</td>\n",
       "      <td>NaN</td>\n",
       "      <td>-0.072281</td>\n",
       "      <td>-0.047074</td>\n",
       "      <td>0.052337</td>\n",
       "      <td>1.000000</td>\n",
       "    </tr>\n",
       "  </tbody>\n",
       "</table>\n",
       "</div>"
      ],
      "text/plain": [
       "                          Length of URL  Has_IP_address  Shortening_Service  \\\n",
       "Length of URL                  1.000000       -0.033295           -0.039357   \n",
       "Has_IP_address                -0.033295        1.000000           -0.017064   \n",
       "Shortening_Service            -0.039357       -0.017064            1.000000   \n",
       "Having_@_Symbol                0.137133       -0.007343            0.001226   \n",
       "Double_Slash_Redirecting       0.194181       -0.011026            0.052910   \n",
       "Prefix-Suffix                  0.068244       -0.037825           -0.081451   \n",
       "CTLD                           0.185203        0.116544           -0.070826   \n",
       "HTTPS_in_Domain                     NaN             NaN                 NaN   \n",
       "Sensitive_Words                0.066572       -0.008137            0.056564   \n",
       "Has_Tilde                      0.067161        0.041526            0.000414   \n",
       "Has_Port                      -0.029377        0.004095           -0.021847   \n",
       "Result                         0.086165       -0.013340           -0.141979   \n",
       "\n",
       "                          Having_@_Symbol  Double_Slash_Redirecting  \\\n",
       "Length of URL                    0.137133                  0.194181   \n",
       "Has_IP_address                  -0.007343                 -0.011026   \n",
       "Shortening_Service               0.001226                  0.052910   \n",
       "Having_@_Symbol                  1.000000                  0.390813   \n",
       "Double_Slash_Redirecting         0.390813                  1.000000   \n",
       "Prefix-Suffix                   -0.038885                 -0.073918   \n",
       "CTLD                             0.022226                  0.000242   \n",
       "HTTPS_in_Domain                       NaN                       NaN   \n",
       "Sensitive_Words                 -0.001422                  0.160760   \n",
       "Has_Tilde                       -0.005616                  0.011713   \n",
       "Has_Port                         0.006244                 -0.026889   \n",
       "Result                          -0.049303                 -0.132321   \n",
       "\n",
       "                          Prefix-Suffix      CTLD  HTTPS_in_Domain  \\\n",
       "Length of URL                  0.068244  0.185203              NaN   \n",
       "Has_IP_address                -0.037825  0.116544              NaN   \n",
       "Shortening_Service            -0.081451 -0.070826              NaN   \n",
       "Having_@_Symbol               -0.038885  0.022226              NaN   \n",
       "Double_Slash_Redirecting      -0.073918  0.000242              NaN   \n",
       "Prefix-Suffix                  1.000000  0.138016              NaN   \n",
       "CTLD                           0.138016  1.000000              NaN   \n",
       "HTTPS_in_Domain                     NaN       NaN              NaN   \n",
       "Sensitive_Words               -0.015008  0.001726              NaN   \n",
       "Has_Tilde                     -0.014072  0.000162              NaN   \n",
       "Has_Port                       0.032167 -0.008103              NaN   \n",
       "Result                         0.418135  0.322491              NaN   \n",
       "\n",
       "                          Sensitive_Words  Has_Tilde  Has_Port    Result  \n",
       "Length of URL                    0.066572   0.067161 -0.029377  0.086165  \n",
       "Has_IP_address                  -0.008137   0.041526  0.004095 -0.013340  \n",
       "Shortening_Service               0.056564   0.000414 -0.021847 -0.141979  \n",
       "Having_@_Symbol                 -0.001422  -0.005616  0.006244 -0.049303  \n",
       "Double_Slash_Redirecting         0.160760   0.011713 -0.026889 -0.132321  \n",
       "Prefix-Suffix                   -0.015008  -0.014072  0.032167  0.418135  \n",
       "CTLD                             0.001726   0.000162 -0.008103  0.322491  \n",
       "HTTPS_in_Domain                       NaN        NaN       NaN       NaN  \n",
       "Sensitive_Words                  1.000000  -0.013759 -0.100395 -0.072281  \n",
       "Has_Tilde                       -0.013759   1.000000  0.003132 -0.047074  \n",
       "Has_Port                        -0.100395   0.003132  1.000000  0.052337  \n",
       "Result                          -0.072281  -0.047074  0.052337  1.000000  "
      ]
     },
     "execution_count": 18,
     "metadata": {},
     "output_type": "execute_result"
    }
   ],
   "source": [
    "corr=df.corr()\n",
    "corr"
   ]
  },
  {
   "cell_type": "code",
   "execution_count": 19,
   "metadata": {},
   "outputs": [
    {
     "data": {
      "text/plain": [
       "<Axes: >"
      ]
     },
     "execution_count": 19,
     "metadata": {},
     "output_type": "execute_result"
    },
    {
     "data": {
      "image/png": "[encoded data removed]",
      "text/plain": [
       "<Figure size 1300x1300 with 2 Axes>"
      ]
     },
     "metadata": {},
     "output_type": "display_data"
    }
   ],
   "source": [
    "# Set up the matplotlib figure\n",
    "f, ax = plt.subplots(figsize=(13, 13))\n",
    "\n",
    "# Generate a custom diverging colormap\n",
    "cmap = sns.diverging_palette(220, 10, as_cmap=True)\n",
    "\n",
    "# Draw the heatmap with the mask and correct aspect ratio\n",
    "sns.heatmap(corr, cmap=cmap, center=0, square=True, linewidths=.5, cbar_kws={\"shrink\": .5})"
   ]
  }
 ],
 "metadata": {
  "kernelspec": {
   "display_name": "Python 3",
   "language": "python",
   "name": "python3"
  },
  "language_info": {
   "codemirror_mode": {
    "name": "ipython",
    "version": 3
   },
   "file_extension": ".py",
   "mimetype": "text/x-python",
   "name": "python",
   "nbconvert_exporter": "python",
   "pygments_lexer": "ipython3",
   "version": "3.10.12"
  },
  "orig_nbformat": 4
 },
 "nbformat": 4,
 "nbformat_minor": 2
}
