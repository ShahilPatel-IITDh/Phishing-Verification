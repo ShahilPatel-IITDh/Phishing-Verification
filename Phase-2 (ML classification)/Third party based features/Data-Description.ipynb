{
 "cells": [
  {
   "attachments": {},
   "cell_type": "markdown",
   "metadata": {},
   "source": [
    "Importing the Libraries for Data-Description"
   ]
  },
  {
   "cell_type": "code",
   "execution_count": 1,
   "metadata": {},
   "outputs": [],
   "source": [
    "import matplotlib.pyplot as plt\n",
    "import numpy as np\n",
    "import pandas as pd\n",
    "import seaborn as sns\n",
    "from sklearn.linear_model import LinearRegression"
   ]
  },
  {
   "attachments": {},
   "cell_type": "markdown",
   "metadata": {},
   "source": [
    "Read the data from 'dataset.csv' file and create a dataframe"
   ]
  },
  {
   "cell_type": "code",
   "execution_count": 2,
   "metadata": {},
   "outputs": [
    {
     "data": {
      "text/plain": [
       "(5707, 4)"
      ]
     },
     "execution_count": 2,
     "metadata": {},
     "output_type": "execute_result"
    }
   ],
   "source": [
    "df = pd.read_csv('dataset.csv')\n",
    "df.shape"
   ]
  },
  {
   "cell_type": "code",
   "execution_count": 3,
   "metadata": {},
   "outputs": [
    {
     "data": {
      "text/html": [
       "<div>\n",
       "<style scoped>\n",
       "    .dataframe tbody tr th:only-of-type {\n",
       "        vertical-align: middle;\n",
       "    }\n",
       "\n",
       "    .dataframe tbody tr th {\n",
       "        vertical-align: top;\n",
       "    }\n",
       "\n",
       "    .dataframe thead th {\n",
       "        text-align: right;\n",
       "    }\n",
       "</style>\n",
       "<table border=\"1\" class=\"dataframe\">\n",
       "  <thead>\n",
       "    <tr style=\"text-align: right;\">\n",
       "      <th></th>\n",
       "      <th>Current Domain Age</th>\n",
       "      <th>Matching Domain Name</th>\n",
       "      <th>Length of Domain</th>\n",
       "      <th>Result</th>\n",
       "    </tr>\n",
       "  </thead>\n",
       "  <tbody>\n",
       "    <tr>\n",
       "      <th>0</th>\n",
       "      <td>1</td>\n",
       "      <td>1</td>\n",
       "      <td>1</td>\n",
       "      <td>1</td>\n",
       "    </tr>\n",
       "    <tr>\n",
       "      <th>1</th>\n",
       "      <td>1</td>\n",
       "      <td>-1</td>\n",
       "      <td>1</td>\n",
       "      <td>1</td>\n",
       "    </tr>\n",
       "    <tr>\n",
       "      <th>2</th>\n",
       "      <td>1</td>\n",
       "      <td>-1</td>\n",
       "      <td>1</td>\n",
       "      <td>1</td>\n",
       "    </tr>\n",
       "    <tr>\n",
       "      <th>3</th>\n",
       "      <td>-1</td>\n",
       "      <td>-1</td>\n",
       "      <td>-1</td>\n",
       "      <td>1</td>\n",
       "    </tr>\n",
       "    <tr>\n",
       "      <th>4</th>\n",
       "      <td>1</td>\n",
       "      <td>-1</td>\n",
       "      <td>1</td>\n",
       "      <td>1</td>\n",
       "    </tr>\n",
       "  </tbody>\n",
       "</table>\n",
       "</div>"
      ],
      "text/plain": [
       "  Current Domain Age Matching Domain Name Length of Domain Result\n",
       "0                  1                    1                1      1\n",
       "1                  1                   -1                1      1\n",
       "2                  1                   -1                1      1\n",
       "3                 -1                   -1               -1      1\n",
       "4                  1                   -1                1      1"
      ]
     },
     "execution_count": 3,
     "metadata": {},
     "output_type": "execute_result"
    }
   ],
   "source": [
    "df.head()"
   ]
  },
  {
   "cell_type": "code",
   "execution_count": 4,
   "metadata": {},
   "outputs": [
    {
     "data": {
      "text/plain": [
       "Index(['Current Domain Age', 'Matching Domain Name', 'Length of Domain',\n",
       "       'Result'],\n",
       "      dtype='object')"
      ]
     },
     "execution_count": 4,
     "metadata": {},
     "output_type": "execute_result"
    }
   ],
   "source": [
    "df.columns"
   ]
  },
  {
   "attachments": {},
   "cell_type": "markdown",
   "metadata": {},
   "source": [
    "As the column names have leading white spaces, we will rename the columns"
   ]
  },
  {
   "attachments": {},
   "cell_type": "markdown",
   "metadata": {},
   "source": [
    "As we had merged two csv files to create a dataset, we need to check the unique values present in each column"
   ]
  },
  {
   "cell_type": "code",
   "execution_count": 5,
   "metadata": {},
   "outputs": [],
   "source": [
    "# Investigate unique values in the each column\n",
    "unique_Domain_Age = df['Current Domain Age'].unique()\n",
    "unique_Domain_Name = df['Matching Domain Name'].unique()\n",
    "unique_Length_Domain = df['Length of Domain'].unique()\n",
    "unique_R = df['Result'].unique()"
   ]
  },
  {
   "cell_type": "code",
   "execution_count": 6,
   "metadata": {},
   "outputs": [
    {
     "name": "stdout",
     "output_type": "stream",
     "text": [
      "['1' '-1' '0' 'Current Domain Age']\n",
      "['1' '-1' '0' 'Matching Domain Name']\n",
      "['1' '-1' '0' 'Length of Domain']\n",
      "['1' 'Result' '-1']\n"
     ]
    }
   ],
   "source": [
    "print(unique_Domain_Age)\n",
    "print(unique_Domain_Name)\n",
    "print(unique_Length_Domain)\n",
    "print(unique_R)"
   ]
  },
  {
   "attachments": {},
   "cell_type": "markdown",
   "metadata": {},
   "source": [
    "As there are white-space along with 1, 0, and -1 we need to remove rest of the things, and then convert the values to int "
   ]
  },
  {
   "cell_type": "code",
   "execution_count": 7,
   "metadata": {},
   "outputs": [],
   "source": [
    "validValues = {-1, 0, 1}\n",
    "\n",
    "for column in df.columns:\n",
    "    df[column] = pd.to_numeric(df[column], errors='coerce')\n",
    "    df = df[df[column].isin(validValues)]\n",
    "\n",
    "# Convert all columns to integers (again after the filtering)\n",
    "df = df.astype(int)"
   ]
  },
  {
   "cell_type": "code",
   "execution_count": 8,
   "metadata": {},
   "outputs": [
    {
     "name": "stdout",
     "output_type": "stream",
     "text": [
      "      Current Domain Age  Matching Domain Name  Length of Domain  Result\n",
      "0                      1                     1                 1       1\n",
      "1                      1                    -1                 1       1\n",
      "2                      1                    -1                 1       1\n",
      "3                     -1                    -1                -1       1\n",
      "4                      1                    -1                 1       1\n",
      "...                  ...                   ...               ...     ...\n",
      "5702                   1                    -1                 1      -1\n",
      "5703                   1                    -1                 1      -1\n",
      "5704                   0                     0                 0      -1\n",
      "5705                   1                    -1                 1      -1\n",
      "5706                   1                    -1                 1      -1\n",
      "\n",
      "[5706 rows x 4 columns]\n"
     ]
    }
   ],
   "source": [
    "# Now you can use the DataFrame with valid integer values (1, -1, and 0)\n",
    "print(df)"
   ]
  },
  {
   "attachments": {},
   "cell_type": "markdown",
   "metadata": {},
   "source": [
    "Again check for the unique values present in each column"
   ]
  },
  {
   "cell_type": "code",
   "execution_count": 9,
   "metadata": {},
   "outputs": [
    {
     "name": "stdout",
     "output_type": "stream",
     "text": [
      "[ 1 -1  0]\n",
      "[ 1 -1  0]\n",
      "[ 1 -1  0]\n",
      "[ 1 -1]\n"
     ]
    }
   ],
   "source": [
    "# Investigate unique values in the each column\n",
    "unique_Domain_Age = df['Current Domain Age'].unique()\n",
    "unique_Domain_Name = df['Matching Domain Name'].unique()\n",
    "unique_Length_Domain = df['Length of Domain'].unique()\n",
    "unique_R = df['Result'].unique()\n",
    "\n",
    "print(unique_Domain_Age)\n",
    "print(unique_Domain_Name)\n",
    "print(unique_Length_Domain)\n",
    "print(unique_R)"
   ]
  },
  {
   "cell_type": "code",
   "execution_count": 10,
   "metadata": {},
   "outputs": [
    {
     "data": {
      "text/plain": [
       "(5706, 4)"
      ]
     },
     "execution_count": 10,
     "metadata": {},
     "output_type": "execute_result"
    }
   ],
   "source": [
    "df.shape"
   ]
  },
  {
   "cell_type": "code",
   "execution_count": 11,
   "metadata": {},
   "outputs": [
    {
     "name": "stdout",
     "output_type": "stream",
     "text": [
      "number of 1 3287\n",
      "number of -1 2419\n"
     ]
    }
   ],
   "source": [
    "print(\"number of 1\",len(df[df[\"Result\"]==1]))\n",
    "print(\"number of -1\",len(df[df[\"Result\"]==-1]))"
   ]
  },
  {
   "attachments": {},
   "cell_type": "markdown",
   "metadata": {},
   "source": [
    "We now find the correlation between the columns values"
   ]
  },
  {
   "cell_type": "code",
   "execution_count": 12,
   "metadata": {},
   "outputs": [
    {
     "data": {
      "text/html": [
       "<div>\n",
       "<style scoped>\n",
       "    .dataframe tbody tr th:only-of-type {\n",
       "        vertical-align: middle;\n",
       "    }\n",
       "\n",
       "    .dataframe tbody tr th {\n",
       "        vertical-align: top;\n",
       "    }\n",
       "\n",
       "    .dataframe thead th {\n",
       "        text-align: right;\n",
       "    }\n",
       "</style>\n",
       "<table border=\"1\" class=\"dataframe\">\n",
       "  <thead>\n",
       "    <tr style=\"text-align: right;\">\n",
       "      <th></th>\n",
       "      <th>Current Domain Age</th>\n",
       "      <th>Matching Domain Name</th>\n",
       "      <th>Length of Domain</th>\n",
       "      <th>Result</th>\n",
       "    </tr>\n",
       "  </thead>\n",
       "  <tbody>\n",
       "    <tr>\n",
       "      <th>Current Domain Age</th>\n",
       "      <td>1.000000</td>\n",
       "      <td>-0.103153</td>\n",
       "      <td>0.627861</td>\n",
       "      <td>0.252931</td>\n",
       "    </tr>\n",
       "    <tr>\n",
       "      <th>Matching Domain Name</th>\n",
       "      <td>-0.103153</td>\n",
       "      <td>1.000000</td>\n",
       "      <td>-0.178523</td>\n",
       "      <td>0.159789</td>\n",
       "    </tr>\n",
       "    <tr>\n",
       "      <th>Length of Domain</th>\n",
       "      <td>0.627861</td>\n",
       "      <td>-0.178523</td>\n",
       "      <td>1.000000</td>\n",
       "      <td>0.080454</td>\n",
       "    </tr>\n",
       "    <tr>\n",
       "      <th>Result</th>\n",
       "      <td>0.252931</td>\n",
       "      <td>0.159789</td>\n",
       "      <td>0.080454</td>\n",
       "      <td>1.000000</td>\n",
       "    </tr>\n",
       "  </tbody>\n",
       "</table>\n",
       "</div>"
      ],
      "text/plain": [
       "                      Current Domain Age  Matching Domain Name  \\\n",
       "Current Domain Age              1.000000             -0.103153   \n",
       "Matching Domain Name           -0.103153              1.000000   \n",
       "Length of Domain                0.627861             -0.178523   \n",
       "Result                          0.252931              0.159789   \n",
       "\n",
       "                      Length of Domain    Result  \n",
       "Current Domain Age            0.627861  0.252931  \n",
       "Matching Domain Name         -0.178523  0.159789  \n",
       "Length of Domain              1.000000  0.080454  \n",
       "Result                        0.080454  1.000000  "
      ]
     },
     "execution_count": 12,
     "metadata": {},
     "output_type": "execute_result"
    }
   ],
   "source": [
    "corr=df.corr()\n",
    "corr"
   ]
  },
  {
   "cell_type": "code",
   "execution_count": 13,
   "metadata": {},
   "outputs": [
    {
     "data": {
      "text/plain": [
       "<Axes: >"
      ]
     },
     "execution_count": 13,
     "metadata": {},
     "output_type": "execute_result"
    },
    {
     "data": {
      "image/png": "[encoded data removed]",
      "text/plain": [
       "<Figure size 1300x1300 with 2 Axes>"
      ]
     },
     "metadata": {},
     "output_type": "display_data"
    }
   ],
   "source": [
    "# Set up the matplotlib figure\n",
    "f, ax = plt.subplots(figsize=(13, 13))\n",
    "\n",
    "# Generate a custom diverging colormap\n",
    "cmap = sns.diverging_palette(220, 10, as_cmap=True)\n",
    "\n",
    "# Draw the heatmap with the mask and correct aspect ratio\n",
    "sns.heatmap(corr, cmap=cmap, center=0, square=True, linewidths=.5, cbar_kws={\"shrink\": .5})"
   ]
  }
 ],
 "metadata": {
  "kernelspec": {
   "display_name": "Python 3",
   "language": "python",
   "name": "python3"
  },
  "language_info": {
   "codemirror_mode": {
    "name": "ipython",
    "version": 3
   },
   "file_extension": ".py",
   "mimetype": "text/x-python",
   "name": "python",
   "nbconvert_exporter": "python",
   "pygments_lexer": "ipython3",
   "version": "3.10.12"
  },
  "orig_nbformat": 4
 },
 "nbformat": 4,
 "nbformat_minor": 2
}
