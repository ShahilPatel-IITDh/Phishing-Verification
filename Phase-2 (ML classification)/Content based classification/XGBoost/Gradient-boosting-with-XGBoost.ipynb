{
 "cells": [
  {
   "cell_type": "code",
   "execution_count": 1,
   "metadata": {},
   "outputs": [
    {
     "name": "stderr",
     "output_type": "stream",
     "text": [
      "/home/administrator/.local/lib/python3.8/site-packages/sklearn/experimental/enable_hist_gradient_boosting.py:15: UserWarning: Since version 1.0, it is not needed to import enable_hist_gradient_boosting anymore. HistGradientBoostingClassifier and HistGradientBoostingRegressor are now stable and can be normally imported from sklearn.ensemble.\n",
      "  warnings.warn(\n"
     ]
    }
   ],
   "source": [
    "import pandas as pd\n",
    "import sklearn\n",
    "import os\n",
    "from sklearn.model_selection import train_test_split\n",
    "from sklearn import preprocessing\n",
    "from sklearn.metrics import confusion_matrix\n",
    "from sklearn.metrics import accuracy_score\n",
    "from sklearn.metrics import classification_report\n",
    "from sklearn.model_selection import KFold\n",
    "from sklearn.tree import DecisionTreeClassifier\n",
    "from sklearn.model_selection import cross_validate\n",
    "from sklearn.neural_network import MLPClassifier\n",
    "from sklearn.neighbors import KNeighborsClassifier\n",
    "from sklearn.ensemble import RandomForestClassifier\n",
    "from sklearn import svm , preprocessing\n",
    "from sklearn.ensemble import AdaBoostClassifier\n",
    "from sklearn.linear_model import LogisticRegression\n",
    "from sklearn.ensemble import GradientBoostingClassifier\n",
    "from xgboost import XGBClassifier\n",
    "from sklearn.ensemble import GradientBoostingClassifier\n",
    "from sklearn.experimental import enable_hist_gradient_boosting\n",
    "from sklearn.ensemble import HistGradientBoostingClassifier\n",
    "from lightgbm import LGBMClassifier\n",
    "from catboost import CatBoostClassifier"
   ]
  },
  {
   "cell_type": "code",
   "execution_count": 2,
   "metadata": {},
   "outputs": [],
   "source": [
    "def mean_score(scoring):\n",
    "    return {i:j.mean() for i,j in scoring.items()}"
   ]
  },
  {
   "cell_type": "code",
   "execution_count": 3,
   "metadata": {},
   "outputs": [],
   "source": [
    "# Get the parent directory of the current folder\n",
    "parent_dir = os.path.abspath(os.path.join(os.getcwd(), os.pardir))\n",
    "\n",
    "# Specify the file path for dataset.csv in the parent folder\n",
    "filename = os.path.join(parent_dir, \"dataset.csv\")\n",
    "df = pd.read_csv(filename)"
   ]
  },
  {
   "cell_type": "code",
   "execution_count": 4,
   "metadata": {},
   "outputs": [
    {
     "data": {
      "text/plain": [
       "(9713, 11)"
      ]
     },
     "execution_count": 4,
     "metadata": {},
     "output_type": "execute_result"
    }
   ],
   "source": [
    "df.shape"
   ]
  },
  {
   "cell_type": "code",
   "execution_count": 5,
   "metadata": {},
   "outputs": [],
   "source": [
    "data_no_duplicates = df.drop_duplicates()\n",
    "df = data_no_duplicates.dropna()"
   ]
  },
  {
   "cell_type": "code",
   "execution_count": 6,
   "metadata": {},
   "outputs": [
    {
     "data": {
      "text/plain": [
       "(6072, 11)"
      ]
     },
     "execution_count": 6,
     "metadata": {},
     "output_type": "execute_result"
    }
   ],
   "source": [
    "df.shape"
   ]
  },
  {
   "cell_type": "code",
   "execution_count": 7,
   "metadata": {},
   "outputs": [],
   "source": [
    "df = df.drop('PhishID', axis = 1)"
   ]
  },
  {
   "cell_type": "code",
   "execution_count": 8,
   "metadata": {},
   "outputs": [
    {
     "name": "stdout",
     "output_type": "stream",
     "text": [
      "['0' '1' '-1' 'frequency_of_a_tags']\n",
      "['0' '-1' '1' 'frequency_of_alltags']\n",
      "['1' 'presence_of_iframes']\n",
      "['1' '0' '-1' 'presence_of_popups']\n",
      "['1' 'right_click_disabling' '-1']\n",
      "['-1' '1' '0' 'checking_sfh']\n",
      "['-1' '1' '0' 'request_url']\n",
      "['-1' '0' '1' 'url-of-anchor']\n",
      "['-1' '1' '0' 'links_in_meta_img']\n",
      "['1' 'Result' '-1']\n"
     ]
    }
   ],
   "source": [
    "# Investigate unique values in the each column\n",
    "unique_frequency_a = df['frequency_of_a_tags'].unique()\n",
    "unique_all = df['frequency_of_alltags'].unique()\n",
    "unique_iframes = df['presence_of_iframes'].unique()\n",
    "unique_popups = df['presence_of_popups'].unique()\n",
    "unique_rightclick = df['right_click_disabling'].unique()\n",
    "# unique_redirects = df['num_of_redirects'].unique()\n",
    "# unique_cookies = df['checking_cookies'].unique()\n",
    "unique_sfh = df['checking_sfh'].unique()\n",
    "unique_request = df['request_url'].unique()\n",
    "unique_url = df['url-of-anchor'].unique()\n",
    "unique_meta = df['links_in_meta_img'].unique()\n",
    "unique_R = df['Result'].unique()\n",
    "\n",
    "print(unique_frequency_a)\n",
    "print(unique_all)\n",
    "print(unique_iframes)\n",
    "print(unique_popups)\n",
    "print(unique_rightclick)\n",
    "# print(unique_redirects)\n",
    "# print(unique_cookies)\n",
    "print(unique_sfh)\n",
    "print(unique_request)\n",
    "print(unique_url)\n",
    "print(unique_meta)\n",
    "print(unique_R)"
   ]
  },
  {
   "cell_type": "code",
   "execution_count": 9,
   "metadata": {},
   "outputs": [],
   "source": [
    "validValues = {-1, 0, 1}\n",
    "\n",
    "for column in df.columns:\n",
    "    df[column] = pd.to_numeric(df[column], errors='coerce')\n",
    "    df = df[df[column].isin(validValues)]\n",
    "\n",
    "# Convert all columns to integers (again after the filtering)\n",
    "df = df.astype(int)"
   ]
  },
  {
   "cell_type": "code",
   "execution_count": 10,
   "metadata": {},
   "outputs": [
    {
     "data": {
      "text/plain": [
       "(6071, 10)"
      ]
     },
     "execution_count": 10,
     "metadata": {},
     "output_type": "execute_result"
    }
   ],
   "source": [
    "df.shape"
   ]
  },
  {
   "cell_type": "code",
   "execution_count": 11,
   "metadata": {},
   "outputs": [
    {
     "data": {
      "text/html": [
       "<div>\n",
       "<style scoped>\n",
       "    .dataframe tbody tr th:only-of-type {\n",
       "        vertical-align: middle;\n",
       "    }\n",
       "\n",
       "    .dataframe tbody tr th {\n",
       "        vertical-align: top;\n",
       "    }\n",
       "\n",
       "    .dataframe thead th {\n",
       "        text-align: right;\n",
       "    }\n",
       "</style>\n",
       "<table border=\"1\" class=\"dataframe\">\n",
       "  <thead>\n",
       "    <tr style=\"text-align: right;\">\n",
       "      <th></th>\n",
       "      <th>frequency_of_a_tags</th>\n",
       "      <th>frequency_of_alltags</th>\n",
       "      <th>presence_of_iframes</th>\n",
       "      <th>presence_of_popups</th>\n",
       "      <th>right_click_disabling</th>\n",
       "      <th>checking_sfh</th>\n",
       "      <th>request_url</th>\n",
       "      <th>url-of-anchor</th>\n",
       "      <th>links_in_meta_img</th>\n",
       "      <th>Result</th>\n",
       "    </tr>\n",
       "  </thead>\n",
       "  <tbody>\n",
       "    <tr>\n",
       "      <th>3948</th>\n",
       "      <td>1</td>\n",
       "      <td>0</td>\n",
       "      <td>1</td>\n",
       "      <td>1</td>\n",
       "      <td>1</td>\n",
       "      <td>-1</td>\n",
       "      <td>1</td>\n",
       "      <td>1</td>\n",
       "      <td>0</td>\n",
       "      <td>1</td>\n",
       "    </tr>\n",
       "    <tr>\n",
       "      <th>3599</th>\n",
       "      <td>0</td>\n",
       "      <td>0</td>\n",
       "      <td>1</td>\n",
       "      <td>1</td>\n",
       "      <td>1</td>\n",
       "      <td>1</td>\n",
       "      <td>1</td>\n",
       "      <td>1</td>\n",
       "      <td>-1</td>\n",
       "      <td>1</td>\n",
       "    </tr>\n",
       "    <tr>\n",
       "      <th>5771</th>\n",
       "      <td>-1</td>\n",
       "      <td>0</td>\n",
       "      <td>1</td>\n",
       "      <td>1</td>\n",
       "      <td>1</td>\n",
       "      <td>-1</td>\n",
       "      <td>-1</td>\n",
       "      <td>-1</td>\n",
       "      <td>-1</td>\n",
       "      <td>-1</td>\n",
       "    </tr>\n",
       "    <tr>\n",
       "      <th>830</th>\n",
       "      <td>0</td>\n",
       "      <td>0</td>\n",
       "      <td>1</td>\n",
       "      <td>1</td>\n",
       "      <td>1</td>\n",
       "      <td>-1</td>\n",
       "      <td>-1</td>\n",
       "      <td>-1</td>\n",
       "      <td>-1</td>\n",
       "      <td>1</td>\n",
       "    </tr>\n",
       "    <tr>\n",
       "      <th>1216</th>\n",
       "      <td>0</td>\n",
       "      <td>0</td>\n",
       "      <td>1</td>\n",
       "      <td>1</td>\n",
       "      <td>1</td>\n",
       "      <td>-1</td>\n",
       "      <td>1</td>\n",
       "      <td>0</td>\n",
       "      <td>1</td>\n",
       "      <td>1</td>\n",
       "    </tr>\n",
       "  </tbody>\n",
       "</table>\n",
       "</div>"
      ],
      "text/plain": [
       "      frequency_of_a_tags  frequency_of_alltags  presence_of_iframes  \\\n",
       "3948                    1                     0                    1   \n",
       "3599                    0                     0                    1   \n",
       "5771                   -1                     0                    1   \n",
       "830                     0                     0                    1   \n",
       "1216                    0                     0                    1   \n",
       "\n",
       "      presence_of_popups  right_click_disabling  checking_sfh  request_url  \\\n",
       "3948                   1                      1            -1            1   \n",
       "3599                   1                      1             1            1   \n",
       "5771                   1                      1            -1           -1   \n",
       "830                    1                      1            -1           -1   \n",
       "1216                   1                      1            -1            1   \n",
       "\n",
       "      url-of-anchor  links_in_meta_img  Result  \n",
       "3948              1                  0       1  \n",
       "3599              1                 -1       1  \n",
       "5771             -1                 -1      -1  \n",
       "830              -1                 -1       1  \n",
       "1216              0                  1       1  "
      ]
     },
     "execution_count": 11,
     "metadata": {},
     "output_type": "execute_result"
    }
   ],
   "source": [
    "df = sklearn.utils.shuffle(df)\n",
    "X = df.drop(\"Result\",axis=1).values\n",
    "X = preprocessing.scale(X)\n",
    "y = df['Result'].values\n",
    "df.head()"
   ]
  },
  {
   "cell_type": "code",
   "execution_count": 12,
   "metadata": {},
   "outputs": [],
   "source": [
    "scoring = {'accuracy': 'accuracy',\n",
    "           'recall': 'recall',\n",
    "           'precision': 'precision',\n",
    "           'f1': 'f1'}\n",
    "fold_count=10"
   ]
  },
  {
   "attachments": {},
   "cell_type": "markdown",
   "metadata": {},
   "source": [
    "## XGBoost"
   ]
  },
  {
   "cell_type": "code",
   "execution_count": 13,
   "metadata": {},
   "outputs": [],
   "source": [
    "from sklearn.preprocessing import LabelEncoder\n",
    "# Map the class labels to 0 and 1 using LabelEncoder\n",
    "label_encoder = LabelEncoder()\n",
    "y_encoded = label_encoder.fit_transform(y)"
   ]
  },
  {
   "cell_type": "code",
   "execution_count": 14,
   "metadata": {},
   "outputs": [],
   "source": [
    "# Create an XGBoost classifier\n",
    "XGB_clf = XGBClassifier()"
   ]
  },
  {
   "cell_type": "code",
   "execution_count": 15,
   "metadata": {},
   "outputs": [],
   "source": [
    "from sklearn.model_selection import cross_val_score\n",
    "# Perform cross-validation\n",
    "fold_count = 10\n",
    "scoring = 'accuracy'  # Replace 'accuracy' with your desired scoring metric\n",
    "cross_val_scores = cross_val_score(XGB_clf, X, y_encoded, cv=fold_count, scoring=scoring)\n"
   ]
  },
  {
   "cell_type": "code",
   "execution_count": 16,
   "metadata": {},
   "outputs": [],
   "source": [
    "import numpy as np\n",
    "# Calculate the mean score\n",
    "XGB_clf_score = np.mean(cross_val_scores)"
   ]
  },
  {
   "cell_type": "code",
   "execution_count": 17,
   "metadata": {},
   "outputs": [
    {
     "name": "stdout",
     "output_type": "stream",
     "text": [
      "XGBoost Classifier score: 0.7438651586751063\n"
     ]
    }
   ],
   "source": [
    "print(\"XGBoost Classifier score: \" + str(XGB_clf_score))"
   ]
  }
 ],
 "metadata": {
  "kernelspec": {
   "display_name": "Python 3",
   "language": "python",
   "name": "python3"
  },
  "language_info": {
   "codemirror_mode": {
    "name": "ipython",
    "version": 3
   },
   "file_extension": ".py",
   "mimetype": "text/x-python",
   "name": "python",
   "nbconvert_exporter": "python",
   "pygments_lexer": "ipython3",
   "version": "3.8.10"
  },
  "orig_nbformat": 4
 },
 "nbformat": 4,
 "nbformat_minor": 2
}
