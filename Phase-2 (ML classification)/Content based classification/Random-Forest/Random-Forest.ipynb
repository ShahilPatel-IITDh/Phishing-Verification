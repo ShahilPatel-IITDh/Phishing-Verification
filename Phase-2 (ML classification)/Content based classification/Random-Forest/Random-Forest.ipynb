{
 "cells": [
  {
   "cell_type": "code",
   "execution_count": 1,
   "metadata": {},
   "outputs": [
    {
     "name": "stderr",
     "output_type": "stream",
     "text": [
      "/home/administrator/.local/lib/python3.10/site-packages/sklearn/experimental/enable_hist_gradient_boosting.py:16: UserWarning: Since version 1.0, it is not needed to import enable_hist_gradient_boosting anymore. HistGradientBoostingClassifier and HistGradientBoostingRegressor are now stable and can be normally imported from sklearn.ensemble.\n",
      "  warnings.warn(\n"
     ]
    }
   ],
   "source": [
    "import pandas as pd\n",
    "import sklearn\n",
    "import os\n",
    "from sklearn.model_selection import train_test_split\n",
    "from sklearn import preprocessing\n",
    "from sklearn.metrics import confusion_matrix\n",
    "from sklearn.metrics import accuracy_score\n",
    "from sklearn.metrics import classification_report\n",
    "from sklearn.model_selection import KFold\n",
    "from sklearn.tree import DecisionTreeClassifier\n",
    "from sklearn.model_selection import cross_validate\n",
    "from sklearn.neural_network import MLPClassifier\n",
    "from sklearn.neighbors import KNeighborsClassifier\n",
    "from sklearn.ensemble import RandomForestClassifier\n",
    "from sklearn import svm , preprocessing\n",
    "from sklearn.ensemble import AdaBoostClassifier\n",
    "from sklearn.linear_model import LogisticRegression\n",
    "from sklearn.ensemble import GradientBoostingClassifier\n",
    "from xgboost import XGBClassifier\n",
    "from sklearn.ensemble import GradientBoostingClassifier\n",
    "from sklearn.experimental import enable_hist_gradient_boosting\n",
    "from sklearn.ensemble import HistGradientBoostingClassifier\n",
    "from lightgbm import LGBMClassifier\n",
    "from catboost import CatBoostClassifier"
   ]
  },
  {
   "attachments": {},
   "cell_type": "markdown",
   "metadata": {},
   "source": [
    "## Function to calculate the scores"
   ]
  },
  {
   "cell_type": "code",
   "execution_count": 2,
   "metadata": {},
   "outputs": [],
   "source": [
    "def mean_score(scoring):\n",
    "    return {i:j.mean() for i,j in scoring.items()}"
   ]
  },
  {
   "attachments": {},
   "cell_type": "markdown",
   "metadata": {},
   "source": [
    "## Loading the data\n",
    "- Load the data and clean it for unique values, later shuffle it with specific seeding"
   ]
  },
  {
   "cell_type": "code",
   "execution_count": 3,
   "metadata": {},
   "outputs": [],
   "source": [
    "# Get the parent directory of the current folder\n",
    "parent_dir = os.path.abspath(os.path.join(os.getcwd(), os.pardir))\n",
    "\n",
    "# Specify the file path for dataset.csv in the parent folder\n",
    "filename = os.path.join(parent_dir, \"dataset.csv\")\n",
    "df = pd.read_csv(filename)"
   ]
  },
  {
   "attachments": {},
   "cell_type": "markdown",
   "metadata": {},
   "source": [
    "## Data Preprocessing"
   ]
  },
  {
   "cell_type": "code",
   "execution_count": 4,
   "metadata": {},
   "outputs": [
    {
     "data": {
      "text/plain": [
       "Index(['frequency_of_a_tags', 'frequency_of_alltags', 'presence_of_iframes',\n",
       "       'presence_of_popups', 'right_click_disabling', 'num_of_redirects',\n",
       "       'checking_cookies', 'checking_sfh', 'request_url', 'url-of-anchor',\n",
       "       'links_in_meta_img', 'Result'],\n",
       "      dtype='object')"
      ]
     },
     "execution_count": 4,
     "metadata": {},
     "output_type": "execute_result"
    }
   ],
   "source": [
    "df.columns "
   ]
  },
  {
   "cell_type": "code",
   "execution_count": 5,
   "metadata": {},
   "outputs": [],
   "source": [
    "data_no_duplicates = df.drop_duplicates()\n",
    "df = data_no_duplicates.dropna()"
   ]
  },
  {
   "cell_type": "code",
   "execution_count": 6,
   "metadata": {},
   "outputs": [
    {
     "name": "stdout",
     "output_type": "stream",
     "text": [
      "['-1' '1' 'frequency_of_a_tags']\n",
      "['-1' '1' 'frequency_of_alltags']\n",
      "['1' 'presence_of_iframes']\n",
      "['1' 'presence_of_popups']\n",
      "['1' 'right_click_disabling']\n",
      "['0' '1' '-99' '-1' 'num_of_redirects']\n",
      "['1' '-1' 'checking_cookies' '-99']\n",
      "['-1' 'checking_sfh']\n",
      "['-1' '1' '0' 'request_url']\n",
      "['-1' '0' '1' 'url-of-anchor']\n",
      "['-1' '1' '0' 'links_in_meta_img']\n",
      "['1' 'Result' '-1']\n"
     ]
    }
   ],
   "source": [
    "# Investigate unique values in the each column\n",
    "unique_frequency_a = df['frequency_of_a_tags'].unique()\n",
    "unique_all = df['frequency_of_alltags'].unique()\n",
    "unique_iframes = df['presence_of_iframes'].unique()\n",
    "unique_popups = df['presence_of_popups'].unique()\n",
    "unique_rightclick = df['right_click_disabling'].unique()\n",
    "unique_redirects = df['num_of_redirects'].unique()\n",
    "unique_cookies = df['checking_cookies'].unique()\n",
    "unique_sfh = df['checking_sfh'].unique()\n",
    "unique_request = df['request_url'].unique()\n",
    "unique_url = df['url-of-anchor'].unique()\n",
    "unique_meta = df['links_in_meta_img'].unique()\n",
    "unique_R = df['Result'].unique()\n",
    "\n",
    "print(unique_frequency_a)\n",
    "print(unique_all)\n",
    "print(unique_iframes)\n",
    "print(unique_popups)\n",
    "print(unique_rightclick)\n",
    "print(unique_redirects)\n",
    "print(unique_cookies)\n",
    "print(unique_sfh)\n",
    "print(unique_request)\n",
    "print(unique_url)\n",
    "print(unique_meta)\n",
    "print(unique_R)"
   ]
  },
  {
   "attachments": {},
   "cell_type": "markdown",
   "metadata": {},
   "source": [
    "### Remove all the values other than {-1, 0, 1} from the data"
   ]
  },
  {
   "cell_type": "code",
   "execution_count": 7,
   "metadata": {},
   "outputs": [
    {
     "name": "stderr",
     "output_type": "stream",
     "text": [
      "/tmp/ipykernel_35029/837780899.py:4: SettingWithCopyWarning: \n",
      "A value is trying to be set on a copy of a slice from a DataFrame.\n",
      "Try using .loc[row_indexer,col_indexer] = value instead\n",
      "\n",
      "See the caveats in the documentation: https://pandas.pydata.org/pandas-docs/stable/user_guide/indexing.html#returning-a-view-versus-a-copy\n",
      "  df[column] = pd.to_numeric(df[column], errors='coerce')\n"
     ]
    }
   ],
   "source": [
    "validValues = {-1, 0, 1}\n",
    "\n",
    "for column in df.columns:\n",
    "    df[column] = pd.to_numeric(df[column], errors='coerce')\n",
    "    df = df[df[column].isin(validValues)]\n",
    "\n",
    "# Convert all columns to integers (again after the filtering)\n",
    "df = df.astype(int)"
   ]
  },
  {
   "cell_type": "code",
   "execution_count": 8,
   "metadata": {},
   "outputs": [
    {
     "name": "stdout",
     "output_type": "stream",
     "text": [
      "      frequency_of_a_tags  frequency_of_alltags  presence_of_iframes  \\\n",
      "0                      -1                    -1                    1   \n",
      "2                       1                     1                    1   \n",
      "7                      -1                    -1                    1   \n",
      "12                      1                     1                    1   \n",
      "15                      1                     1                    1   \n",
      "25                      1                     1                    1   \n",
      "28                     -1                    -1                    1   \n",
      "36                     -1                    -1                    1   \n",
      "56                     -1                    -1                    1   \n",
      "60                      1                     1                    1   \n",
      "62                     -1                     1                    1   \n",
      "66                     -1                     1                    1   \n",
      "86                      1                    -1                    1   \n",
      "89                     -1                    -1                    1   \n",
      "100                    -1                    -1                    1   \n",
      "103                    -1                    -1                    1   \n",
      "104                     1                    -1                    1   \n",
      "123                    -1                    -1                    1   \n",
      "125                    -1                    -1                    1   \n",
      "183                    -1                    -1                    1   \n",
      "184                    -1                    -1                    1   \n",
      "200                    -1                    -1                    1   \n",
      "217                    -1                    -1                    1   \n",
      "236                    -1                    -1                    1   \n",
      "278                    -1                    -1                    1   \n",
      "286                     1                    -1                    1   \n",
      "317                    -1                    -1                    1   \n",
      "341                     1                     1                    1   \n",
      "342                     1                     1                    1   \n",
      "362                     1                     1                    1   \n",
      "366                    -1                    -1                    1   \n",
      "371                    -1                    -1                    1   \n",
      "396                    -1                    -1                    1   \n",
      "405                    -1                    -1                    1   \n",
      "408                     1                    -1                    1   \n",
      "501                    -1                     1                    1   \n",
      "523                    -1                    -1                    1   \n",
      "541                    -1                    -1                    1   \n",
      "552                    -1                    -1                    1   \n",
      "568                     1                     1                    1   \n",
      "584                    -1                    -1                    1   \n",
      "590                     1                    -1                    1   \n",
      "595                    -1                     1                    1   \n",
      "596                    -1                    -1                    1   \n",
      "608                     1                    -1                    1   \n",
      "629                    -1                    -1                    1   \n",
      "662                    -1                    -1                    1   \n",
      "921                    -1                    -1                    1   \n",
      "954                    -1                    -1                    1   \n",
      "1026                   -1                    -1                    1   \n",
      "1044                    1                    -1                    1   \n",
      "1104                   -1                    -1                    1   \n",
      "1117                    1                     1                    1   \n",
      "\n",
      "      presence_of_popups  right_click_disabling  num_of_redirects  \\\n",
      "0                      1                      1                 0   \n",
      "2                      1                      1                 0   \n",
      "7                      1                      1                 0   \n",
      "12                     1                      1                 0   \n",
      "15                     1                      1                 1   \n",
      "25                     1                      1                 1   \n",
      "28                     1                      1                 1   \n",
      "36                     1                      1                 1   \n",
      "56                     1                      1                -1   \n",
      "60                     1                      1                 1   \n",
      "62                     1                      1                 1   \n",
      "66                     1                      1                 1   \n",
      "86                     1                      1                 1   \n",
      "89                     1                      1                 0   \n",
      "100                    1                      1                 1   \n",
      "103                    1                      1                 1   \n",
      "104                    1                      1                 1   \n",
      "123                    1                      1                 0   \n",
      "125                    1                      1                 0   \n",
      "183                    1                      1                 1   \n",
      "184                    1                      1                 0   \n",
      "200                    1                      1                 1   \n",
      "217                    1                      1                 0   \n",
      "236                    1                      1                 0   \n",
      "278                    1                      1                 0   \n",
      "286                    1                      1                 1   \n",
      "317                    1                      1                 1   \n",
      "341                    1                      1                 1   \n",
      "342                    1                      1                 0   \n",
      "362                    1                      1                 1   \n",
      "366                    1                      1                 1   \n",
      "371                    1                      1                 1   \n",
      "396                    1                      1                 1   \n",
      "405                    1                      1                 1   \n",
      "408                    1                      1                 1   \n",
      "501                    1                      1                 1   \n",
      "523                    1                      1                 1   \n",
      "541                    1                      1                -1   \n",
      "552                    1                      1                 0   \n",
      "568                    1                      1                 1   \n",
      "584                    1                      1                 1   \n",
      "590                    1                      1                 1   \n",
      "595                    1                      1                 1   \n",
      "596                    1                      1                -1   \n",
      "608                    1                      1                 0   \n",
      "629                    1                      1                 1   \n",
      "662                    1                      1                 0   \n",
      "921                    1                      1                 1   \n",
      "954                    1                      1                 1   \n",
      "1026                   1                      1                 0   \n",
      "1044                   1                      1                 1   \n",
      "1104                   1                      1                 0   \n",
      "1117                   1                      1                 1   \n",
      "\n",
      "      checking_cookies  checking_sfh  request_url  url-of-anchor  \\\n",
      "0                    1            -1           -1             -1   \n",
      "2                    1            -1            1             -1   \n",
      "7                    1            -1           -1             -1   \n",
      "12                  -1            -1            1              0   \n",
      "15                  -1            -1            1              0   \n",
      "25                  -1            -1            0              0   \n",
      "28                   1            -1           -1             -1   \n",
      "36                   1            -1           -1             -1   \n",
      "56                   1            -1           -1             -1   \n",
      "60                  -1            -1           -1             -1   \n",
      "62                  -1            -1           -1             -1   \n",
      "66                   1            -1            0             -1   \n",
      "86                  -1            -1           -1              0   \n",
      "89                  -1            -1           -1             -1   \n",
      "100                 -1            -1            1              0   \n",
      "103                  1            -1            0              1   \n",
      "104                  1            -1           -1             -1   \n",
      "123                 -1            -1            1             -1   \n",
      "125                 -1            -1           -1              1   \n",
      "183                  1            -1            1              1   \n",
      "184                  1            -1            1              1   \n",
      "200                 -1            -1            1              0   \n",
      "217                 -1            -1            1             -1   \n",
      "236                  1            -1            1             -1   \n",
      "278                  1            -1           -1             -1   \n",
      "286                 -1            -1            1              0   \n",
      "317                 -1            -1            1              1   \n",
      "341                  1            -1            1              0   \n",
      "342                 -1            -1            1              0   \n",
      "362                 -1            -1            1             -1   \n",
      "366                 -1            -1            1             -1   \n",
      "371                 -1            -1           -1             -1   \n",
      "396                  1            -1           -1             -1   \n",
      "405                 -1            -1           -1             -1   \n",
      "408                  1            -1           -1             -1   \n",
      "501                  1            -1           -1             -1   \n",
      "523                 -1            -1            1             -1   \n",
      "541                  1            -1            1             -1   \n",
      "552                  1            -1            1             -1   \n",
      "568                 -1            -1            1              0   \n",
      "584                 -1            -1           -1             -1   \n",
      "590                  1            -1            1              1   \n",
      "595                  1            -1            1              0   \n",
      "596                 -1            -1           -1             -1   \n",
      "608                  1            -1           -1             -1   \n",
      "629                  1            -1            1             -1   \n",
      "662                 -1            -1            1              0   \n",
      "921                  1            -1           -1             -1   \n",
      "954                 -1            -1           -1             -1   \n",
      "1026                -1            -1           -1             -1   \n",
      "1044                 1            -1           -1              1   \n",
      "1104                -1            -1           -1             -1   \n",
      "1117                -1            -1            1             -1   \n",
      "\n",
      "      links_in_meta_img  Result  \n",
      "0                    -1       1  \n",
      "2                     1       1  \n",
      "7                     0       1  \n",
      "12                    1       1  \n",
      "15                    1       1  \n",
      "25                    1       1  \n",
      "28                    0       1  \n",
      "36                    1       1  \n",
      "56                   -1       1  \n",
      "60                    1       1  \n",
      "62                    1       1  \n",
      "66                    1       1  \n",
      "86                    0       1  \n",
      "89                   -1       1  \n",
      "100                   1       1  \n",
      "103                   0       1  \n",
      "104                  -1       1  \n",
      "123                   0       1  \n",
      "125                   0       1  \n",
      "183                  -1       1  \n",
      "184                  -1       1  \n",
      "200                  -1       1  \n",
      "217                   1       1  \n",
      "236                  -1       1  \n",
      "278                   1       1  \n",
      "286                   0       1  \n",
      "317                  -1       1  \n",
      "341                   0       1  \n",
      "342                   0       1  \n",
      "362                   0       1  \n",
      "366                   0       1  \n",
      "371                   0       1  \n",
      "396                  -1       1  \n",
      "405                  -1       1  \n",
      "408                   0       1  \n",
      "501                   1       1  \n",
      "523                   1       1  \n",
      "541                   1       1  \n",
      "552                   1       1  \n",
      "568                   0       1  \n",
      "584                   1       1  \n",
      "590                  -1       1  \n",
      "595                   1       1  \n",
      "596                  -1       1  \n",
      "608                   1       1  \n",
      "629                  -1       1  \n",
      "662                   1       1  \n",
      "921                  -1      -1  \n",
      "954                   1      -1  \n",
      "1026                 -1      -1  \n",
      "1044                  0      -1  \n",
      "1104                  1      -1  \n",
      "1117                  1      -1  \n"
     ]
    }
   ],
   "source": [
    "# Now you can use the DataFrame with valid integer values (1, -1, and 0)\n",
    "print(df)"
   ]
  },
  {
   "cell_type": "code",
   "execution_count": 9,
   "metadata": {},
   "outputs": [
    {
     "data": {
      "text/plain": [
       "(53, 12)"
      ]
     },
     "execution_count": 9,
     "metadata": {},
     "output_type": "execute_result"
    }
   ],
   "source": [
    "df.shape"
   ]
  },
  {
   "attachments": {},
   "cell_type": "markdown",
   "metadata": {},
   "source": [
    "### Data Preprocessing\n",
    "- Shuffle the data, and split it into train and test data"
   ]
  },
  {
   "cell_type": "code",
   "execution_count": 10,
   "metadata": {},
   "outputs": [
    {
     "data": {
      "text/html": [
       "<div>\n",
       "<style scoped>\n",
       "    .dataframe tbody tr th:only-of-type {\n",
       "        vertical-align: middle;\n",
       "    }\n",
       "\n",
       "    .dataframe tbody tr th {\n",
       "        vertical-align: top;\n",
       "    }\n",
       "\n",
       "    .dataframe thead th {\n",
       "        text-align: right;\n",
       "    }\n",
       "</style>\n",
       "<table border=\"1\" class=\"dataframe\">\n",
       "  <thead>\n",
       "    <tr style=\"text-align: right;\">\n",
       "      <th></th>\n",
       "      <th>frequency_of_a_tags</th>\n",
       "      <th>frequency_of_alltags</th>\n",
       "      <th>presence_of_iframes</th>\n",
       "      <th>presence_of_popups</th>\n",
       "      <th>right_click_disabling</th>\n",
       "      <th>num_of_redirects</th>\n",
       "      <th>checking_cookies</th>\n",
       "      <th>checking_sfh</th>\n",
       "      <th>request_url</th>\n",
       "      <th>url-of-anchor</th>\n",
       "      <th>links_in_meta_img</th>\n",
       "      <th>Result</th>\n",
       "    </tr>\n",
       "  </thead>\n",
       "  <tbody>\n",
       "    <tr>\n",
       "      <th>366</th>\n",
       "      <td>-1</td>\n",
       "      <td>-1</td>\n",
       "      <td>1</td>\n",
       "      <td>1</td>\n",
       "      <td>1</td>\n",
       "      <td>1</td>\n",
       "      <td>-1</td>\n",
       "      <td>-1</td>\n",
       "      <td>1</td>\n",
       "      <td>-1</td>\n",
       "      <td>0</td>\n",
       "      <td>1</td>\n",
       "    </tr>\n",
       "    <tr>\n",
       "      <th>1104</th>\n",
       "      <td>-1</td>\n",
       "      <td>-1</td>\n",
       "      <td>1</td>\n",
       "      <td>1</td>\n",
       "      <td>1</td>\n",
       "      <td>0</td>\n",
       "      <td>-1</td>\n",
       "      <td>-1</td>\n",
       "      <td>-1</td>\n",
       "      <td>-1</td>\n",
       "      <td>1</td>\n",
       "      <td>-1</td>\n",
       "    </tr>\n",
       "    <tr>\n",
       "      <th>200</th>\n",
       "      <td>-1</td>\n",
       "      <td>-1</td>\n",
       "      <td>1</td>\n",
       "      <td>1</td>\n",
       "      <td>1</td>\n",
       "      <td>1</td>\n",
       "      <td>-1</td>\n",
       "      <td>-1</td>\n",
       "      <td>1</td>\n",
       "      <td>0</td>\n",
       "      <td>-1</td>\n",
       "      <td>1</td>\n",
       "    </tr>\n",
       "    <tr>\n",
       "      <th>100</th>\n",
       "      <td>-1</td>\n",
       "      <td>-1</td>\n",
       "      <td>1</td>\n",
       "      <td>1</td>\n",
       "      <td>1</td>\n",
       "      <td>1</td>\n",
       "      <td>-1</td>\n",
       "      <td>-1</td>\n",
       "      <td>1</td>\n",
       "      <td>0</td>\n",
       "      <td>1</td>\n",
       "      <td>1</td>\n",
       "    </tr>\n",
       "    <tr>\n",
       "      <th>552</th>\n",
       "      <td>-1</td>\n",
       "      <td>-1</td>\n",
       "      <td>1</td>\n",
       "      <td>1</td>\n",
       "      <td>1</td>\n",
       "      <td>0</td>\n",
       "      <td>1</td>\n",
       "      <td>-1</td>\n",
       "      <td>1</td>\n",
       "      <td>-1</td>\n",
       "      <td>1</td>\n",
       "      <td>1</td>\n",
       "    </tr>\n",
       "  </tbody>\n",
       "</table>\n",
       "</div>"
      ],
      "text/plain": [
       "      frequency_of_a_tags  frequency_of_alltags  presence_of_iframes  \\\n",
       "366                    -1                    -1                    1   \n",
       "1104                   -1                    -1                    1   \n",
       "200                    -1                    -1                    1   \n",
       "100                    -1                    -1                    1   \n",
       "552                    -1                    -1                    1   \n",
       "\n",
       "      presence_of_popups  right_click_disabling  num_of_redirects  \\\n",
       "366                    1                      1                 1   \n",
       "1104                   1                      1                 0   \n",
       "200                    1                      1                 1   \n",
       "100                    1                      1                 1   \n",
       "552                    1                      1                 0   \n",
       "\n",
       "      checking_cookies  checking_sfh  request_url  url-of-anchor  \\\n",
       "366                 -1            -1            1             -1   \n",
       "1104                -1            -1           -1             -1   \n",
       "200                 -1            -1            1              0   \n",
       "100                 -1            -1            1              0   \n",
       "552                  1            -1            1             -1   \n",
       "\n",
       "      links_in_meta_img  Result  \n",
       "366                   0       1  \n",
       "1104                  1      -1  \n",
       "200                  -1       1  \n",
       "100                   1       1  \n",
       "552                   1       1  "
      ]
     },
     "execution_count": 10,
     "metadata": {},
     "output_type": "execute_result"
    }
   ],
   "source": [
    "df = sklearn.utils.shuffle(df)\n",
    "X = df.drop(\"Result\",axis=1).values\n",
    "X = preprocessing.scale(X)\n",
    "y = df['Result'].values\n",
    "df.head()"
   ]
  },
  {
   "attachments": {},
   "cell_type": "markdown",
   "metadata": {},
   "source": [
    "## Evalution Metrics"
   ]
  },
  {
   "cell_type": "code",
   "execution_count": 11,
   "metadata": {},
   "outputs": [],
   "source": [
    "scoring = {'accuracy': 'accuracy',\n",
    "           'recall': 'recall',\n",
    "           'precision': 'precision',\n",
    "           'f1': 'f1'}\n",
    "fold_count=10"
   ]
  },
  {
   "attachments": {},
   "cell_type": "markdown",
   "metadata": {},
   "source": [
    "## Random Forest"
   ]
  },
  {
   "cell_type": "code",
   "execution_count": 12,
   "metadata": {},
   "outputs": [
    {
     "name": "stderr",
     "output_type": "stream",
     "text": [
      "/home/administrator/.local/lib/python3.10/site-packages/sklearn/model_selection/_split.py:700: UserWarning: The least populated class in y has only 6 members, which is less than n_splits=10.\n",
      "  warnings.warn(\n"
     ]
    },
    {
     "name": "stdout",
     "output_type": "stream",
     "text": [
      "fit time = 0.6307787418365478\n",
      "score time = 0.05594546794891357\n",
      "accuracy = 0.8733333333333333\n",
      "recall = 0.9800000000000001\n",
      "precision = 0.8866666666666667\n",
      "f1 = 0.9284848484848485\n"
     ]
    }
   ],
   "source": [
    "rforest_clf=RandomForestClassifier()\n",
    "cross_val_scores = cross_validate(rforest_clf, X, y, cv=fold_count, scoring=scoring)\n",
    "rforest_clf_score = mean_score(cross_val_scores)\n",
    "\n",
    "print(f\"fit time = {rforest_clf_score['fit_time']}\")\n",
    "print(f\"score time = {rforest_clf_score['score_time']}\")\n",
    "print(f\"accuracy = {rforest_clf_score['test_accuracy']}\")\n",
    "print(f\"recall = {rforest_clf_score['test_recall']}\")\n",
    "print(f\"precision = {rforest_clf_score['test_precision']}\")\n",
    "print(f\"f1 = {rforest_clf_score['test_f1']}\")"
   ]
  }
 ],
 "metadata": {
  "kernelspec": {
   "display_name": "Python 3",
   "language": "python",
   "name": "python3"
  },
  "language_info": {
   "codemirror_mode": {
    "name": "ipython",
    "version": 3
   },
   "file_extension": ".py",
   "mimetype": "text/x-python",
   "name": "python",
   "nbconvert_exporter": "python",
   "pygments_lexer": "ipython3",
   "version": "3.10.12"
  },
  "orig_nbformat": 4
 },
 "nbformat": 4,
 "nbformat_minor": 2
}
