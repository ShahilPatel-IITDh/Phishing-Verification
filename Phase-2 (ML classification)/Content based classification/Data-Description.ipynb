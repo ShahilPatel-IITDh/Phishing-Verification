{
 "cells": [
  {
   "attachments": {},
   "cell_type": "markdown",
   "metadata": {},
   "source": [
    "Importing the Libraries for Data-Description"
   ]
  },
  {
   "cell_type": "code",
   "execution_count": 39,
   "metadata": {},
   "outputs": [],
   "source": [
    "import matplotlib.pyplot as plt\n",
    "import numpy as np\n",
    "import pandas as pd\n",
    "import seaborn as sns\n",
    "from sklearn.linear_model import LinearRegression"
   ]
  },
  {
   "attachments": {},
   "cell_type": "markdown",
   "metadata": {},
   "source": [
    "Read the data from 'dataset.csv' file and create a dataframe"
   ]
  },
  {
   "cell_type": "code",
   "execution_count": 40,
   "metadata": {},
   "outputs": [
    {
     "data": {
      "text/plain": [
       "(9713, 11)"
      ]
     },
     "execution_count": 40,
     "metadata": {},
     "output_type": "execute_result"
    }
   ],
   "source": [
    "df = pd.read_csv('dataset.csv')\n",
    "df.shape"
   ]
  },
  {
   "cell_type": "code",
   "execution_count": 41,
   "metadata": {},
   "outputs": [
    {
     "data": {
      "text/html": [
       "<div>\n",
       "<style scoped>\n",
       "    .dataframe tbody tr th:only-of-type {\n",
       "        vertical-align: middle;\n",
       "    }\n",
       "\n",
       "    .dataframe tbody tr th {\n",
       "        vertical-align: top;\n",
       "    }\n",
       "\n",
       "    .dataframe thead th {\n",
       "        text-align: right;\n",
       "    }\n",
       "</style>\n",
       "<table border=\"1\" class=\"dataframe\">\n",
       "  <thead>\n",
       "    <tr style=\"text-align: right;\">\n",
       "      <th></th>\n",
       "      <th>PhishID</th>\n",
       "      <th>frequency_of_a_tags</th>\n",
       "      <th>frequency_of_alltags</th>\n",
       "      <th>presence_of_iframes</th>\n",
       "      <th>presence_of_popups</th>\n",
       "      <th>right_click_disabling</th>\n",
       "      <th>checking_sfh</th>\n",
       "      <th>request_url</th>\n",
       "      <th>url-of-anchor</th>\n",
       "      <th>links_in_meta_img</th>\n",
       "      <th>Result</th>\n",
       "    </tr>\n",
       "  </thead>\n",
       "  <tbody>\n",
       "    <tr>\n",
       "      <th>0</th>\n",
       "      <td>8220112</td>\n",
       "      <td>0</td>\n",
       "      <td>0</td>\n",
       "      <td>1</td>\n",
       "      <td>1</td>\n",
       "      <td>1</td>\n",
       "      <td>-1</td>\n",
       "      <td>-1</td>\n",
       "      <td>-1</td>\n",
       "      <td>-1</td>\n",
       "      <td>1</td>\n",
       "    </tr>\n",
       "    <tr>\n",
       "      <th>1</th>\n",
       "      <td>8210845</td>\n",
       "      <td>1</td>\n",
       "      <td>0</td>\n",
       "      <td>1</td>\n",
       "      <td>1</td>\n",
       "      <td>1</td>\n",
       "      <td>-1</td>\n",
       "      <td>1</td>\n",
       "      <td>-1</td>\n",
       "      <td>1</td>\n",
       "      <td>1</td>\n",
       "    </tr>\n",
       "    <tr>\n",
       "      <th>2</th>\n",
       "      <td>8210844</td>\n",
       "      <td>1</td>\n",
       "      <td>0</td>\n",
       "      <td>1</td>\n",
       "      <td>1</td>\n",
       "      <td>1</td>\n",
       "      <td>-1</td>\n",
       "      <td>1</td>\n",
       "      <td>-1</td>\n",
       "      <td>1</td>\n",
       "      <td>1</td>\n",
       "    </tr>\n",
       "    <tr>\n",
       "      <th>3</th>\n",
       "      <td>8202280</td>\n",
       "      <td>1</td>\n",
       "      <td>0</td>\n",
       "      <td>1</td>\n",
       "      <td>1</td>\n",
       "      <td>1</td>\n",
       "      <td>-1</td>\n",
       "      <td>-1</td>\n",
       "      <td>0</td>\n",
       "      <td>1</td>\n",
       "      <td>1</td>\n",
       "    </tr>\n",
       "    <tr>\n",
       "      <th>4</th>\n",
       "      <td>8193253</td>\n",
       "      <td>0</td>\n",
       "      <td>0</td>\n",
       "      <td>1</td>\n",
       "      <td>1</td>\n",
       "      <td>1</td>\n",
       "      <td>-1</td>\n",
       "      <td>-1</td>\n",
       "      <td>-1</td>\n",
       "      <td>1</td>\n",
       "      <td>1</td>\n",
       "    </tr>\n",
       "  </tbody>\n",
       "</table>\n",
       "</div>"
      ],
      "text/plain": [
       "   PhishID frequency_of_a_tags frequency_of_alltags presence_of_iframes  \\\n",
       "0  8220112                   0                    0                   1   \n",
       "1  8210845                   1                    0                   1   \n",
       "2  8210844                   1                    0                   1   \n",
       "3  8202280                   1                    0                   1   \n",
       "4  8193253                   0                    0                   1   \n",
       "\n",
       "  presence_of_popups right_click_disabling checking_sfh request_url  \\\n",
       "0                  1                     1           -1          -1   \n",
       "1                  1                     1           -1           1   \n",
       "2                  1                     1           -1           1   \n",
       "3                  1                     1           -1          -1   \n",
       "4                  1                     1           -1          -1   \n",
       "\n",
       "  url-of-anchor links_in_meta_img Result  \n",
       "0            -1                -1      1  \n",
       "1            -1                 1      1  \n",
       "2            -1                 1      1  \n",
       "3             0                 1      1  \n",
       "4            -1                 1      1  "
      ]
     },
     "execution_count": 41,
     "metadata": {},
     "output_type": "execute_result"
    }
   ],
   "source": [
    "df.head()"
   ]
  },
  {
   "cell_type": "code",
   "execution_count": 42,
   "metadata": {},
   "outputs": [
    {
     "data": {
      "text/plain": [
       "Index(['PhishID', 'frequency_of_a_tags', 'frequency_of_alltags',\n",
       "       'presence_of_iframes', 'presence_of_popups', 'right_click_disabling',\n",
       "       'checking_sfh', 'request_url', 'url-of-anchor', 'links_in_meta_img',\n",
       "       'Result'],\n",
       "      dtype='object')"
      ]
     },
     "execution_count": 42,
     "metadata": {},
     "output_type": "execute_result"
    }
   ],
   "source": [
    "df.columns"
   ]
  },
  {
   "cell_type": "code",
   "execution_count": 43,
   "metadata": {},
   "outputs": [],
   "source": [
    "data_no_duplicates = df.drop_duplicates()\n",
    "df = data_no_duplicates.dropna()"
   ]
  },
  {
   "attachments": {},
   "cell_type": "markdown",
   "metadata": {},
   "source": [
    "As the column names have leading white spaces, we will rename the columns"
   ]
  },
  {
   "cell_type": "code",
   "execution_count": 44,
   "metadata": {},
   "outputs": [
    {
     "data": {
      "text/plain": [
       "(6072, 11)"
      ]
     },
     "execution_count": 44,
     "metadata": {},
     "output_type": "execute_result"
    }
   ],
   "source": [
    "df.shape"
   ]
  },
  {
   "cell_type": "code",
   "execution_count": 45,
   "metadata": {},
   "outputs": [],
   "source": [
    "df = df.drop('PhishID', axis = 1)"
   ]
  },
  {
   "attachments": {},
   "cell_type": "markdown",
   "metadata": {},
   "source": [
    "As we had merged two csv files to create a dataset, we need to check the unique values present in each column"
   ]
  },
  {
   "cell_type": "code",
   "execution_count": 46,
   "metadata": {},
   "outputs": [
    {
     "name": "stdout",
     "output_type": "stream",
     "text": [
      "['0' '1' '-1' 'frequency_of_a_tags']\n",
      "['0' '-1' '1' 'frequency_of_alltags']\n",
      "['1' 'presence_of_iframes']\n",
      "['1' '0' '-1' 'presence_of_popups']\n",
      "['1' 'right_click_disabling' '-1']\n",
      "['-1' '1' '0' 'checking_sfh']\n",
      "['-1' '1' '0' 'request_url']\n",
      "['-1' '0' '1' 'url-of-anchor']\n",
      "['-1' '1' '0' 'links_in_meta_img']\n",
      "['1' 'Result' '-1']\n"
     ]
    }
   ],
   "source": [
    "# Investigate unique values in the each column\n",
    "unique_frequency_a = df['frequency_of_a_tags'].unique()\n",
    "unique_all = df['frequency_of_alltags'].unique()\n",
    "unique_iframes = df['presence_of_iframes'].unique()\n",
    "unique_popups = df['presence_of_popups'].unique()\n",
    "unique_rightclick = df['right_click_disabling'].unique()\n",
    "# unique_redirects = df['num_of_redirects'].unique()\n",
    "# unique_cookies = df['checking_cookies'].unique()\n",
    "unique_sfh = df['checking_sfh'].unique()\n",
    "unique_request = df['request_url'].unique()\n",
    "unique_url = df['url-of-anchor'].unique()\n",
    "unique_meta = df['links_in_meta_img'].unique()\n",
    "unique_R = df['Result'].unique()\n",
    "\n",
    "print(unique_frequency_a)\n",
    "print(unique_all)\n",
    "print(unique_iframes)\n",
    "print(unique_popups)\n",
    "print(unique_rightclick)\n",
    "# print(unique_redirects)\n",
    "# print(unique_cookies)\n",
    "print(unique_sfh)\n",
    "print(unique_request)\n",
    "print(unique_url)\n",
    "print(unique_meta)\n",
    "print(unique_R)"
   ]
  },
  {
   "attachments": {},
   "cell_type": "markdown",
   "metadata": {},
   "source": [
    "As there are white-space along with 1, 0, and -1 we need to remove rest of the things, and then convert the values to int "
   ]
  },
  {
   "cell_type": "code",
   "execution_count": 47,
   "metadata": {},
   "outputs": [],
   "source": [
    "validValues = {-1, 0, 1}\n",
    "\n",
    "for column in df.columns:\n",
    "    df[column] = pd.to_numeric(df[column], errors='coerce')\n",
    "    df = df[df[column].isin(validValues)]\n",
    "\n",
    "# Convert all columns to integers (again after the filtering)\n",
    "df = df.astype(int)"
   ]
  },
  {
   "cell_type": "code",
   "execution_count": 48,
   "metadata": {},
   "outputs": [
    {
     "name": "stdout",
     "output_type": "stream",
     "text": [
      "      frequency_of_a_tags  frequency_of_alltags  presence_of_iframes  \\\n",
      "0                       0                     0                    1   \n",
      "1                       1                     0                    1   \n",
      "2                       1                     0                    1   \n",
      "3                       1                     0                    1   \n",
      "4                       0                     0                    1   \n",
      "...                   ...                   ...                  ...   \n",
      "6875                   -1                     0                    1   \n",
      "6876                   -1                     0                    1   \n",
      "6877                   -1                     0                    1   \n",
      "6878                   -1                     0                    1   \n",
      "6879                    0                     0                    1   \n",
      "\n",
      "      presence_of_popups  right_click_disabling  checking_sfh  request_url  \\\n",
      "0                      1                      1            -1           -1   \n",
      "1                      1                      1            -1            1   \n",
      "2                      1                      1            -1            1   \n",
      "3                      1                      1            -1           -1   \n",
      "4                      1                      1            -1           -1   \n",
      "...                  ...                    ...           ...          ...   \n",
      "6875                   1                      1            -1            1   \n",
      "6876                   1                      1            -1           -1   \n",
      "6877                   1                      1            -1           -1   \n",
      "6878                   1                      1            -1           -1   \n",
      "6879                   0                      1            -1            1   \n",
      "\n",
      "      url-of-anchor  links_in_meta_img  Result  \n",
      "0                -1                 -1       1  \n",
      "1                -1                  1       1  \n",
      "2                -1                  1       1  \n",
      "3                 0                  1       1  \n",
      "4                -1                  1       1  \n",
      "...             ...                ...     ...  \n",
      "6875             -1                  0      -1  \n",
      "6876             -1                  1      -1  \n",
      "6877             -1                  1      -1  \n",
      "6878             -1                  0      -1  \n",
      "6879              1                  1      -1  \n",
      "\n",
      "[6071 rows x 10 columns]\n"
     ]
    }
   ],
   "source": [
    "# Now you can use the DataFrame with valid integer values (1, -1, and 0)\n",
    "print(df)"
   ]
  },
  {
   "attachments": {},
   "cell_type": "markdown",
   "metadata": {},
   "source": [
    "Again check for the unique values present in each column"
   ]
  },
  {
   "cell_type": "code",
   "execution_count": 49,
   "metadata": {},
   "outputs": [
    {
     "name": "stdout",
     "output_type": "stream",
     "text": [
      "[ 0  1 -1]\n",
      "[ 0 -1  1]\n",
      "[1]\n",
      "[ 1  0 -1]\n",
      "[ 1 -1]\n",
      "[-1  1  0]\n",
      "[-1  1  0]\n",
      "[-1  0  1]\n",
      "[-1  1  0]\n",
      "[ 1 -1]\n"
     ]
    }
   ],
   "source": [
    "# Investigate unique values in the each column\n",
    "unique_frequency_a = df['frequency_of_a_tags'].unique()\n",
    "unique_all = df['frequency_of_alltags'].unique()\n",
    "unique_iframes = df['presence_of_iframes'].unique()\n",
    "unique_popups = df['presence_of_popups'].unique()\n",
    "unique_rightclick = df['right_click_disabling'].unique()\n",
    "# unique_redirects = df['num_of_redirects'].unique()\n",
    "# unique_cookies = df['checking_cookies'].unique()\n",
    "unique_sfh = df['checking_sfh'].unique()\n",
    "unique_request = df['request_url'].unique()\n",
    "unique_url = df['url-of-anchor'].unique()\n",
    "unique_meta = df['links_in_meta_img'].unique()\n",
    "unique_R = df['Result'].unique()\n",
    "\n",
    "print(unique_frequency_a)\n",
    "print(unique_all)\n",
    "print(unique_iframes)\n",
    "print(unique_popups)\n",
    "print(unique_rightclick)\n",
    "# print(unique_redirects)\n",
    "# print(unique_cookies)\n",
    "print(unique_sfh)\n",
    "print(unique_request)\n",
    "print(unique_url)\n",
    "print(unique_meta)\n",
    "print(unique_R)"
   ]
  },
  {
   "cell_type": "code",
   "execution_count": 50,
   "metadata": {},
   "outputs": [
    {
     "data": {
      "text/plain": [
       "(6071, 10)"
      ]
     },
     "execution_count": 50,
     "metadata": {},
     "output_type": "execute_result"
    }
   ],
   "source": [
    "df.shape"
   ]
  },
  {
   "cell_type": "code",
   "execution_count": 51,
   "metadata": {},
   "outputs": [
    {
     "name": "stdout",
     "output_type": "stream",
     "text": [
      "number of 1 3406\n",
      "number of -1 2665\n"
     ]
    }
   ],
   "source": [
    "print(\"number of 1\",len(df[df[\"Result\"]==1]))\n",
    "print(\"number of -1\",len(df[df[\"Result\"]==-1]))"
   ]
  },
  {
   "attachments": {},
   "cell_type": "markdown",
   "metadata": {},
   "source": [
    "##### Cleaning Data for NULL and duplicates "
   ]
  },
  {
   "attachments": {},
   "cell_type": "markdown",
   "metadata": {},
   "source": [
    "We now find the correlation between the columns values"
   ]
  },
  {
   "cell_type": "code",
   "execution_count": 52,
   "metadata": {},
   "outputs": [
    {
     "data": {
      "text/plain": [
       "(6071, 10)"
      ]
     },
     "execution_count": 52,
     "metadata": {},
     "output_type": "execute_result"
    }
   ],
   "source": [
    "df.shape"
   ]
  },
  {
   "cell_type": "code",
   "execution_count": 53,
   "metadata": {},
   "outputs": [
    {
     "data": {
      "text/html": [
       "<div>\n",
       "<style scoped>\n",
       "    .dataframe tbody tr th:only-of-type {\n",
       "        vertical-align: middle;\n",
       "    }\n",
       "\n",
       "    .dataframe tbody tr th {\n",
       "        vertical-align: top;\n",
       "    }\n",
       "\n",
       "    .dataframe thead th {\n",
       "        text-align: right;\n",
       "    }\n",
       "</style>\n",
       "<table border=\"1\" class=\"dataframe\">\n",
       "  <thead>\n",
       "    <tr style=\"text-align: right;\">\n",
       "      <th></th>\n",
       "      <th>frequency_of_a_tags</th>\n",
       "      <th>frequency_of_alltags</th>\n",
       "      <th>presence_of_iframes</th>\n",
       "      <th>presence_of_popups</th>\n",
       "      <th>right_click_disabling</th>\n",
       "      <th>checking_sfh</th>\n",
       "      <th>request_url</th>\n",
       "      <th>url-of-anchor</th>\n",
       "      <th>links_in_meta_img</th>\n",
       "      <th>Result</th>\n",
       "    </tr>\n",
       "  </thead>\n",
       "  <tbody>\n",
       "    <tr>\n",
       "      <th>frequency_of_a_tags</th>\n",
       "      <td>1.000000</td>\n",
       "      <td>0.017140</td>\n",
       "      <td>NaN</td>\n",
       "      <td>-0.051515</td>\n",
       "      <td>-0.008130</td>\n",
       "      <td>0.162804</td>\n",
       "      <td>0.175096</td>\n",
       "      <td>0.472279</td>\n",
       "      <td>0.155424</td>\n",
       "      <td>0.066345</td>\n",
       "    </tr>\n",
       "    <tr>\n",
       "      <th>frequency_of_alltags</th>\n",
       "      <td>0.017140</td>\n",
       "      <td>1.000000</td>\n",
       "      <td>NaN</td>\n",
       "      <td>-0.009283</td>\n",
       "      <td>-0.001436</td>\n",
       "      <td>0.012293</td>\n",
       "      <td>0.045735</td>\n",
       "      <td>-0.012361</td>\n",
       "      <td>0.048085</td>\n",
       "      <td>0.038435</td>\n",
       "    </tr>\n",
       "    <tr>\n",
       "      <th>presence_of_iframes</th>\n",
       "      <td>NaN</td>\n",
       "      <td>NaN</td>\n",
       "      <td>NaN</td>\n",
       "      <td>NaN</td>\n",
       "      <td>NaN</td>\n",
       "      <td>NaN</td>\n",
       "      <td>NaN</td>\n",
       "      <td>NaN</td>\n",
       "      <td>NaN</td>\n",
       "      <td>NaN</td>\n",
       "    </tr>\n",
       "    <tr>\n",
       "      <th>presence_of_popups</th>\n",
       "      <td>-0.051515</td>\n",
       "      <td>-0.009283</td>\n",
       "      <td>NaN</td>\n",
       "      <td>1.000000</td>\n",
       "      <td>-0.018153</td>\n",
       "      <td>0.002614</td>\n",
       "      <td>-0.161626</td>\n",
       "      <td>-0.145650</td>\n",
       "      <td>-0.106695</td>\n",
       "      <td>0.009158</td>\n",
       "    </tr>\n",
       "    <tr>\n",
       "      <th>right_click_disabling</th>\n",
       "      <td>-0.008130</td>\n",
       "      <td>-0.001436</td>\n",
       "      <td>NaN</td>\n",
       "      <td>-0.018153</td>\n",
       "      <td>1.000000</td>\n",
       "      <td>0.024040</td>\n",
       "      <td>0.058645</td>\n",
       "      <td>-0.016824</td>\n",
       "      <td>0.068189</td>\n",
       "      <td>0.059907</td>\n",
       "    </tr>\n",
       "    <tr>\n",
       "      <th>checking_sfh</th>\n",
       "      <td>0.162804</td>\n",
       "      <td>0.012293</td>\n",
       "      <td>NaN</td>\n",
       "      <td>0.002614</td>\n",
       "      <td>0.024040</td>\n",
       "      <td>1.000000</td>\n",
       "      <td>0.413381</td>\n",
       "      <td>0.469765</td>\n",
       "      <td>-0.020586</td>\n",
       "      <td>-0.339948</td>\n",
       "    </tr>\n",
       "    <tr>\n",
       "      <th>request_url</th>\n",
       "      <td>0.175096</td>\n",
       "      <td>0.045735</td>\n",
       "      <td>NaN</td>\n",
       "      <td>-0.161626</td>\n",
       "      <td>0.058645</td>\n",
       "      <td>0.413381</td>\n",
       "      <td>1.000000</td>\n",
       "      <td>0.542415</td>\n",
       "      <td>0.202413</td>\n",
       "      <td>-0.162593</td>\n",
       "    </tr>\n",
       "    <tr>\n",
       "      <th>url-of-anchor</th>\n",
       "      <td>0.472279</td>\n",
       "      <td>-0.012361</td>\n",
       "      <td>NaN</td>\n",
       "      <td>-0.145650</td>\n",
       "      <td>-0.016824</td>\n",
       "      <td>0.469765</td>\n",
       "      <td>0.542415</td>\n",
       "      <td>1.000000</td>\n",
       "      <td>0.079631</td>\n",
       "      <td>-0.257270</td>\n",
       "    </tr>\n",
       "    <tr>\n",
       "      <th>links_in_meta_img</th>\n",
       "      <td>0.155424</td>\n",
       "      <td>0.048085</td>\n",
       "      <td>NaN</td>\n",
       "      <td>-0.106695</td>\n",
       "      <td>0.068189</td>\n",
       "      <td>-0.020586</td>\n",
       "      <td>0.202413</td>\n",
       "      <td>0.079631</td>\n",
       "      <td>1.000000</td>\n",
       "      <td>0.223810</td>\n",
       "    </tr>\n",
       "    <tr>\n",
       "      <th>Result</th>\n",
       "      <td>0.066345</td>\n",
       "      <td>0.038435</td>\n",
       "      <td>NaN</td>\n",
       "      <td>0.009158</td>\n",
       "      <td>0.059907</td>\n",
       "      <td>-0.339948</td>\n",
       "      <td>-0.162593</td>\n",
       "      <td>-0.257270</td>\n",
       "      <td>0.223810</td>\n",
       "      <td>1.000000</td>\n",
       "    </tr>\n",
       "  </tbody>\n",
       "</table>\n",
       "</div>"
      ],
      "text/plain": [
       "                       frequency_of_a_tags  frequency_of_alltags  \\\n",
       "frequency_of_a_tags               1.000000              0.017140   \n",
       "frequency_of_alltags              0.017140              1.000000   \n",
       "presence_of_iframes                    NaN                   NaN   \n",
       "presence_of_popups               -0.051515             -0.009283   \n",
       "right_click_disabling            -0.008130             -0.001436   \n",
       "checking_sfh                      0.162804              0.012293   \n",
       "request_url                       0.175096              0.045735   \n",
       "url-of-anchor                     0.472279             -0.012361   \n",
       "links_in_meta_img                 0.155424              0.048085   \n",
       "Result                            0.066345              0.038435   \n",
       "\n",
       "                       presence_of_iframes  presence_of_popups  \\\n",
       "frequency_of_a_tags                    NaN           -0.051515   \n",
       "frequency_of_alltags                   NaN           -0.009283   \n",
       "presence_of_iframes                    NaN                 NaN   \n",
       "presence_of_popups                     NaN            1.000000   \n",
       "right_click_disabling                  NaN           -0.018153   \n",
       "checking_sfh                           NaN            0.002614   \n",
       "request_url                            NaN           -0.161626   \n",
       "url-of-anchor                          NaN           -0.145650   \n",
       "links_in_meta_img                      NaN           -0.106695   \n",
       "Result                                 NaN            0.009158   \n",
       "\n",
       "                       right_click_disabling  checking_sfh  request_url  \\\n",
       "frequency_of_a_tags                -0.008130      0.162804     0.175096   \n",
       "frequency_of_alltags               -0.001436      0.012293     0.045735   \n",
       "presence_of_iframes                      NaN           NaN          NaN   \n",
       "presence_of_popups                 -0.018153      0.002614    -0.161626   \n",
       "right_click_disabling               1.000000      0.024040     0.058645   \n",
       "checking_sfh                        0.024040      1.000000     0.413381   \n",
       "request_url                         0.058645      0.413381     1.000000   \n",
       "url-of-anchor                      -0.016824      0.469765     0.542415   \n",
       "links_in_meta_img                   0.068189     -0.020586     0.202413   \n",
       "Result                              0.059907     -0.339948    -0.162593   \n",
       "\n",
       "                       url-of-anchor  links_in_meta_img    Result  \n",
       "frequency_of_a_tags         0.472279           0.155424  0.066345  \n",
       "frequency_of_alltags       -0.012361           0.048085  0.038435  \n",
       "presence_of_iframes              NaN                NaN       NaN  \n",
       "presence_of_popups         -0.145650          -0.106695  0.009158  \n",
       "right_click_disabling      -0.016824           0.068189  0.059907  \n",
       "checking_sfh                0.469765          -0.020586 -0.339948  \n",
       "request_url                 0.542415           0.202413 -0.162593  \n",
       "url-of-anchor               1.000000           0.079631 -0.257270  \n",
       "links_in_meta_img           0.079631           1.000000  0.223810  \n",
       "Result                     -0.257270           0.223810  1.000000  "
      ]
     },
     "execution_count": 53,
     "metadata": {},
     "output_type": "execute_result"
    }
   ],
   "source": [
    "corr=df.corr()\n",
    "corr"
   ]
  },
  {
   "cell_type": "code",
   "execution_count": 54,
   "metadata": {},
   "outputs": [
    {
     "data": {
      "text/plain": [
       "<Axes: >"
      ]
     },
     "execution_count": 54,
     "metadata": {},
     "output_type": "execute_result"
    },
    {
     "data": {
      "image/png": "[encoded data removed]",
      "text/plain": [
       "<Figure size 1300x1300 with 2 Axes>"
      ]
     },
     "metadata": {},
     "output_type": "display_data"
    }
   ],
   "source": [
    "# Set up the matplotlib figure\n",
    "f, ax = plt.subplots(figsize=(13, 13))\n",
    "\n",
    "# Generate a custom diverging colormap\n",
    "cmap = sns.diverging_palette(220, 10, as_cmap=True)\n",
    "\n",
    "# Draw the heatmap with the mask and correct aspect ratio\n",
    "sns.heatmap(corr, cmap=cmap, center=0, square=True, linewidths=.5, cbar_kws={\"shrink\": .5})"
   ]
  }
 ],
 "metadata": {
  "kernelspec": {
   "display_name": "Python 3",
   "language": "python",
   "name": "python3"
  },
  "language_info": {
   "codemirror_mode": {
    "name": "ipython",
    "version": 3
   },
   "file_extension": ".py",
   "mimetype": "text/x-python",
   "name": "python",
   "nbconvert_exporter": "python",
   "pygments_lexer": "ipython3",
   "version": "3.10.12"
  },
  "orig_nbformat": 4
 },
 "nbformat": 4,
 "nbformat_minor": 2
}
