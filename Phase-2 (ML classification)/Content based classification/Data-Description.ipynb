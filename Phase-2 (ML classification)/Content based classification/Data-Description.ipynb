{
 "cells": [
  {
   "attachments": {},
   "cell_type": "markdown",
   "metadata": {},
   "source": [
    "Importing the Libraries for Data-Description"
   ]
  },
  {
   "cell_type": "code",
   "execution_count": 1,
   "metadata": {},
   "outputs": [],
   "source": [
    "import matplotlib.pyplot as plt\n",
    "import numpy as np\n",
    "import pandas as pd\n",
    "import seaborn as sns\n",
    "from sklearn.linear_model import LinearRegression"
   ]
  },
  {
   "attachments": {},
   "cell_type": "markdown",
   "metadata": {},
   "source": [
    "Read the data from 'dataset.csv' file and create a dataframe"
   ]
  },
  {
   "cell_type": "code",
   "execution_count": 2,
   "metadata": {},
   "outputs": [
    {
     "data": {
      "text/plain": [
       "(1172, 12)"
      ]
     },
     "execution_count": 2,
     "metadata": {},
     "output_type": "execute_result"
    }
   ],
   "source": [
    "df = pd.read_csv('dataset.csv')\n",
    "df.shape"
   ]
  },
  {
   "cell_type": "code",
   "execution_count": 3,
   "metadata": {},
   "outputs": [
    {
     "data": {
      "text/html": [
       "<div>\n",
       "<style scoped>\n",
       "    .dataframe tbody tr th:only-of-type {\n",
       "        vertical-align: middle;\n",
       "    }\n",
       "\n",
       "    .dataframe tbody tr th {\n",
       "        vertical-align: top;\n",
       "    }\n",
       "\n",
       "    .dataframe thead th {\n",
       "        text-align: right;\n",
       "    }\n",
       "</style>\n",
       "<table border=\"1\" class=\"dataframe\">\n",
       "  <thead>\n",
       "    <tr style=\"text-align: right;\">\n",
       "      <th></th>\n",
       "      <th>frequency_of_a_tags</th>\n",
       "      <th>frequency_of_alltags</th>\n",
       "      <th>presence_of_iframes</th>\n",
       "      <th>presence_of_popups</th>\n",
       "      <th>right_click_disabling</th>\n",
       "      <th>num_of_redirects</th>\n",
       "      <th>checking_cookies</th>\n",
       "      <th>checking_sfh</th>\n",
       "      <th>request_url</th>\n",
       "      <th>url-of-anchor</th>\n",
       "      <th>links_in_meta_img</th>\n",
       "      <th>Result</th>\n",
       "    </tr>\n",
       "  </thead>\n",
       "  <tbody>\n",
       "    <tr>\n",
       "      <th>0</th>\n",
       "      <td>-1</td>\n",
       "      <td>-1</td>\n",
       "      <td>1</td>\n",
       "      <td>1</td>\n",
       "      <td>1</td>\n",
       "      <td>0</td>\n",
       "      <td>1</td>\n",
       "      <td>-1</td>\n",
       "      <td>-1</td>\n",
       "      <td>-1</td>\n",
       "      <td>-1</td>\n",
       "      <td>1</td>\n",
       "    </tr>\n",
       "    <tr>\n",
       "      <th>1</th>\n",
       "      <td>1</td>\n",
       "      <td>1</td>\n",
       "      <td>1</td>\n",
       "      <td>1</td>\n",
       "      <td>1</td>\n",
       "      <td>NaN</td>\n",
       "      <td>1</td>\n",
       "      <td>-1</td>\n",
       "      <td>1</td>\n",
       "      <td>-1</td>\n",
       "      <td>1</td>\n",
       "      <td>1</td>\n",
       "    </tr>\n",
       "    <tr>\n",
       "      <th>2</th>\n",
       "      <td>1</td>\n",
       "      <td>1</td>\n",
       "      <td>1</td>\n",
       "      <td>1</td>\n",
       "      <td>1</td>\n",
       "      <td>0</td>\n",
       "      <td>1</td>\n",
       "      <td>-1</td>\n",
       "      <td>1</td>\n",
       "      <td>-1</td>\n",
       "      <td>1</td>\n",
       "      <td>1</td>\n",
       "    </tr>\n",
       "    <tr>\n",
       "      <th>3</th>\n",
       "      <td>1</td>\n",
       "      <td>1</td>\n",
       "      <td>1</td>\n",
       "      <td>1</td>\n",
       "      <td>1</td>\n",
       "      <td>NaN</td>\n",
       "      <td>-1</td>\n",
       "      <td>-1</td>\n",
       "      <td>-1</td>\n",
       "      <td>0</td>\n",
       "      <td>1</td>\n",
       "      <td>1</td>\n",
       "    </tr>\n",
       "    <tr>\n",
       "      <th>4</th>\n",
       "      <td>1</td>\n",
       "      <td>-1</td>\n",
       "      <td>1</td>\n",
       "      <td>1</td>\n",
       "      <td>1</td>\n",
       "      <td>NaN</td>\n",
       "      <td>1</td>\n",
       "      <td>-1</td>\n",
       "      <td>-1</td>\n",
       "      <td>-1</td>\n",
       "      <td>1</td>\n",
       "      <td>1</td>\n",
       "    </tr>\n",
       "  </tbody>\n",
       "</table>\n",
       "</div>"
      ],
      "text/plain": [
       "  frequency_of_a_tags frequency_of_alltags presence_of_iframes  \\\n",
       "0                  -1                   -1                   1   \n",
       "1                   1                    1                   1   \n",
       "2                   1                    1                   1   \n",
       "3                   1                    1                   1   \n",
       "4                   1                   -1                   1   \n",
       "\n",
       "  presence_of_popups right_click_disabling num_of_redirects checking_cookies  \\\n",
       "0                  1                     1                0                1   \n",
       "1                  1                     1              NaN                1   \n",
       "2                  1                     1                0                1   \n",
       "3                  1                     1              NaN               -1   \n",
       "4                  1                     1              NaN                1   \n",
       "\n",
       "  checking_sfh request_url url-of-anchor links_in_meta_img Result  \n",
       "0           -1          -1            -1                -1      1  \n",
       "1           -1           1            -1                 1      1  \n",
       "2           -1           1            -1                 1      1  \n",
       "3           -1          -1             0                 1      1  \n",
       "4           -1          -1            -1                 1      1  "
      ]
     },
     "execution_count": 3,
     "metadata": {},
     "output_type": "execute_result"
    }
   ],
   "source": [
    "df.head()"
   ]
  },
  {
   "cell_type": "code",
   "execution_count": 4,
   "metadata": {},
   "outputs": [
    {
     "data": {
      "text/plain": [
       "Index(['frequency_of_a_tags', 'frequency_of_alltags', 'presence_of_iframes',\n",
       "       'presence_of_popups', 'right_click_disabling', 'num_of_redirects',\n",
       "       'checking_cookies', 'checking_sfh', 'request_url', 'url-of-anchor',\n",
       "       'links_in_meta_img', 'Result'],\n",
       "      dtype='object')"
      ]
     },
     "execution_count": 4,
     "metadata": {},
     "output_type": "execute_result"
    }
   ],
   "source": [
    "df.columns"
   ]
  },
  {
   "attachments": {},
   "cell_type": "markdown",
   "metadata": {},
   "source": [
    "As the column names have leading white spaces, we will rename the columns"
   ]
  },
  {
   "attachments": {},
   "cell_type": "markdown",
   "metadata": {},
   "source": [
    "As we had merged two csv files to create a dataset, we need to check the unique values present in each column"
   ]
  },
  {
   "cell_type": "code",
   "execution_count": 5,
   "metadata": {},
   "outputs": [
    {
     "name": "stdout",
     "output_type": "stream",
     "text": [
      "['-1' '1' nan 'frequency_of_a_tags']\n",
      "['-1' '1' nan 'frequency_of_alltags']\n",
      "['1' 'presence_of_iframes']\n",
      "['1' nan '-1' 'presence_of_popups']\n",
      "['1' 'right_click_disabling' '-1']\n",
      "['0' nan '1' '-1' '-99' 'num_of_redirects']\n",
      "['1' '-1' '-99' 'checking_cookies']\n",
      "['-1' '1' '0' 'checking_sfh']\n",
      "['-1' '1' '0' 'request_url']\n",
      "['-1' '0' '1' 'url-of-anchor']\n",
      "['-1' '1' '0' 'links_in_meta_img']\n",
      "['1' 'Result' '-1']\n"
     ]
    }
   ],
   "source": [
    "# Investigate unique values in the each column\n",
    "unique_frequency_a = df['frequency_of_a_tags'].unique()\n",
    "unique_all = df['frequency_of_alltags'].unique()\n",
    "unique_iframes = df['presence_of_iframes'].unique()\n",
    "unique_popups = df['presence_of_popups'].unique()\n",
    "unique_rightclick = df['right_click_disabling'].unique()\n",
    "unique_redirects = df['num_of_redirects'].unique()\n",
    "unique_cookies = df['checking_cookies'].unique()\n",
    "unique_sfh = df['checking_sfh'].unique()\n",
    "unique_request = df['request_url'].unique()\n",
    "unique_url = df['url-of-anchor'].unique()\n",
    "unique_meta = df['links_in_meta_img'].unique()\n",
    "unique_R = df['Result'].unique()\n",
    "\n",
    "print(unique_frequency_a)\n",
    "print(unique_all)\n",
    "print(unique_iframes)\n",
    "print(unique_popups)\n",
    "print(unique_rightclick)\n",
    "print(unique_redirects)\n",
    "print(unique_cookies)\n",
    "print(unique_sfh)\n",
    "print(unique_request)\n",
    "print(unique_url)\n",
    "print(unique_meta)\n",
    "print(unique_R)"
   ]
  },
  {
   "attachments": {},
   "cell_type": "markdown",
   "metadata": {},
   "source": [
    "As there are white-space along with 1, 0, and -1 we need to remove rest of the things, and then convert the values to int "
   ]
  },
  {
   "cell_type": "code",
   "execution_count": 6,
   "metadata": {},
   "outputs": [],
   "source": [
    "validValues = {-1, 0, 1}\n",
    "\n",
    "for column in df.columns:\n",
    "    df[column] = pd.to_numeric(df[column], errors='coerce')\n",
    "    df = df[df[column].isin(validValues)]\n",
    "\n",
    "# Convert all columns to integers (again after the filtering)\n",
    "df = df.astype(int)"
   ]
  },
  {
   "cell_type": "code",
   "execution_count": 7,
   "metadata": {},
   "outputs": [
    {
     "name": "stdout",
     "output_type": "stream",
     "text": [
      "      frequency_of_a_tags  frequency_of_alltags  presence_of_iframes  \\\n",
      "0                      -1                    -1                    1   \n",
      "2                       1                     1                    1   \n",
      "7                      -1                    -1                    1   \n",
      "12                      1                     1                    1   \n",
      "13                      1                     1                    1   \n",
      "...                   ...                   ...                  ...   \n",
      "954                    -1                    -1                    1   \n",
      "1026                   -1                    -1                    1   \n",
      "1044                    1                    -1                    1   \n",
      "1104                   -1                    -1                    1   \n",
      "1117                    1                     1                    1   \n",
      "\n",
      "      presence_of_popups  right_click_disabling  num_of_redirects  \\\n",
      "0                      1                      1                 0   \n",
      "2                      1                      1                 0   \n",
      "7                      1                      1                 0   \n",
      "12                     1                      1                 0   \n",
      "13                     1                      1                 0   \n",
      "...                  ...                    ...               ...   \n",
      "954                    1                      1                 1   \n",
      "1026                   1                      1                 0   \n",
      "1044                   1                      1                 1   \n",
      "1104                   1                      1                 0   \n",
      "1117                   1                      1                 1   \n",
      "\n",
      "      checking_cookies  checking_sfh  request_url  url-of-anchor  \\\n",
      "0                    1            -1           -1             -1   \n",
      "2                    1            -1            1             -1   \n",
      "7                    1            -1           -1             -1   \n",
      "12                  -1            -1            1              0   \n",
      "13                  -1            -1            1              0   \n",
      "...                ...           ...          ...            ...   \n",
      "954                 -1            -1           -1             -1   \n",
      "1026                -1            -1           -1             -1   \n",
      "1044                 1            -1           -1              1   \n",
      "1104                -1            -1           -1             -1   \n",
      "1117                -1            -1            1             -1   \n",
      "\n",
      "      links_in_meta_img  Result  \n",
      "0                    -1       1  \n",
      "2                     1       1  \n",
      "7                     0       1  \n",
      "12                    1       1  \n",
      "13                    1       1  \n",
      "...                 ...     ...  \n",
      "954                   1      -1  \n",
      "1026                 -1      -1  \n",
      "1044                  0      -1  \n",
      "1104                  1      -1  \n",
      "1117                  1      -1  \n",
      "\n",
      "[88 rows x 12 columns]\n"
     ]
    }
   ],
   "source": [
    "# Now you can use the DataFrame with valid integer values (1, -1, and 0)\n",
    "print(df)"
   ]
  },
  {
   "attachments": {},
   "cell_type": "markdown",
   "metadata": {},
   "source": [
    "Again check for the unique values present in each column"
   ]
  },
  {
   "cell_type": "code",
   "execution_count": 8,
   "metadata": {},
   "outputs": [
    {
     "name": "stdout",
     "output_type": "stream",
     "text": [
      "[-1  1]\n",
      "[-1  1]\n",
      "[1]\n",
      "[1]\n",
      "[1]\n",
      "[ 0  1 -1]\n",
      "[ 1 -1]\n",
      "[-1]\n",
      "[-1  1  0]\n",
      "[-1  0  1]\n",
      "[-1  1  0]\n",
      "[ 1 -1]\n"
     ]
    }
   ],
   "source": [
    "# Investigate unique values in the each column\n",
    "unique_frequency_a = df['frequency_of_a_tags'].unique()\n",
    "unique_all = df['frequency_of_alltags'].unique()\n",
    "unique_iframes = df['presence_of_iframes'].unique()\n",
    "unique_popups = df['presence_of_popups'].unique()\n",
    "unique_rightclick = df['right_click_disabling'].unique()\n",
    "unique_redirects = df['num_of_redirects'].unique()\n",
    "unique_cookies = df['checking_cookies'].unique()\n",
    "unique_sfh = df['checking_sfh'].unique()\n",
    "unique_request = df['request_url'].unique()\n",
    "unique_url = df['url-of-anchor'].unique()\n",
    "unique_meta = df['links_in_meta_img'].unique()\n",
    "unique_R = df['Result'].unique()\n",
    "\n",
    "print(unique_frequency_a)\n",
    "print(unique_all)\n",
    "print(unique_iframes)\n",
    "print(unique_popups)\n",
    "print(unique_rightclick)\n",
    "print(unique_redirects)\n",
    "print(unique_cookies)\n",
    "print(unique_sfh)\n",
    "print(unique_request)\n",
    "print(unique_url)\n",
    "print(unique_meta)\n",
    "print(unique_R)"
   ]
  },
  {
   "cell_type": "code",
   "execution_count": 9,
   "metadata": {},
   "outputs": [
    {
     "data": {
      "text/plain": [
       "(88, 12)"
      ]
     },
     "execution_count": 9,
     "metadata": {},
     "output_type": "execute_result"
    }
   ],
   "source": [
    "df.shape"
   ]
  },
  {
   "cell_type": "code",
   "execution_count": 10,
   "metadata": {},
   "outputs": [
    {
     "name": "stdout",
     "output_type": "stream",
     "text": [
      "number of 1 82\n",
      "number of -1 6\n"
     ]
    }
   ],
   "source": [
    "print(\"number of 1\",len(df[df[\"Result\"]==1]))\n",
    "print(\"number of -1\",len(df[df[\"Result\"]==-1]))"
   ]
  },
  {
   "attachments": {},
   "cell_type": "markdown",
   "metadata": {},
   "source": [
    "##### Cleaning Data for NULL and duplicates "
   ]
  },
  {
   "cell_type": "code",
   "execution_count": 12,
   "metadata": {},
   "outputs": [],
   "source": [
    "data_no_duplicates = df.drop_duplicates()\n",
    "data_cleaned = data_no_duplicates.dropna()"
   ]
  },
  {
   "attachments": {},
   "cell_type": "markdown",
   "metadata": {},
   "source": [
    "We now find the correlation between the columns values"
   ]
  },
  {
   "cell_type": "code",
   "execution_count": 13,
   "metadata": {},
   "outputs": [
    {
     "data": {
      "text/html": [
       "<div>\n",
       "<style scoped>\n",
       "    .dataframe tbody tr th:only-of-type {\n",
       "        vertical-align: middle;\n",
       "    }\n",
       "\n",
       "    .dataframe tbody tr th {\n",
       "        vertical-align: top;\n",
       "    }\n",
       "\n",
       "    .dataframe thead th {\n",
       "        text-align: right;\n",
       "    }\n",
       "</style>\n",
       "<table border=\"1\" class=\"dataframe\">\n",
       "  <thead>\n",
       "    <tr style=\"text-align: right;\">\n",
       "      <th></th>\n",
       "      <th>frequency_of_a_tags</th>\n",
       "      <th>frequency_of_alltags</th>\n",
       "      <th>presence_of_iframes</th>\n",
       "      <th>presence_of_popups</th>\n",
       "      <th>right_click_disabling</th>\n",
       "      <th>num_of_redirects</th>\n",
       "      <th>checking_cookies</th>\n",
       "      <th>checking_sfh</th>\n",
       "      <th>request_url</th>\n",
       "      <th>url-of-anchor</th>\n",
       "      <th>links_in_meta_img</th>\n",
       "      <th>Result</th>\n",
       "    </tr>\n",
       "  </thead>\n",
       "  <tbody>\n",
       "    <tr>\n",
       "      <th>frequency_of_a_tags</th>\n",
       "      <td>1.000000</td>\n",
       "      <td>0.505139</td>\n",
       "      <td>NaN</td>\n",
       "      <td>NaN</td>\n",
       "      <td>NaN</td>\n",
       "      <td>0.227901</td>\n",
       "      <td>-0.082503</td>\n",
       "      <td>NaN</td>\n",
       "      <td>0.166470</td>\n",
       "      <td>0.206368</td>\n",
       "      <td>0.148149</td>\n",
       "      <td>-0.009629</td>\n",
       "    </tr>\n",
       "    <tr>\n",
       "      <th>frequency_of_alltags</th>\n",
       "      <td>0.505139</td>\n",
       "      <td>1.000000</td>\n",
       "      <td>NaN</td>\n",
       "      <td>NaN</td>\n",
       "      <td>NaN</td>\n",
       "      <td>0.219716</td>\n",
       "      <td>-0.137491</td>\n",
       "      <td>NaN</td>\n",
       "      <td>0.264367</td>\n",
       "      <td>0.007883</td>\n",
       "      <td>0.429166</td>\n",
       "      <td>0.079002</td>\n",
       "    </tr>\n",
       "    <tr>\n",
       "      <th>presence_of_iframes</th>\n",
       "      <td>NaN</td>\n",
       "      <td>NaN</td>\n",
       "      <td>NaN</td>\n",
       "      <td>NaN</td>\n",
       "      <td>NaN</td>\n",
       "      <td>NaN</td>\n",
       "      <td>NaN</td>\n",
       "      <td>NaN</td>\n",
       "      <td>NaN</td>\n",
       "      <td>NaN</td>\n",
       "      <td>NaN</td>\n",
       "      <td>NaN</td>\n",
       "    </tr>\n",
       "    <tr>\n",
       "      <th>presence_of_popups</th>\n",
       "      <td>NaN</td>\n",
       "      <td>NaN</td>\n",
       "      <td>NaN</td>\n",
       "      <td>NaN</td>\n",
       "      <td>NaN</td>\n",
       "      <td>NaN</td>\n",
       "      <td>NaN</td>\n",
       "      <td>NaN</td>\n",
       "      <td>NaN</td>\n",
       "      <td>NaN</td>\n",
       "      <td>NaN</td>\n",
       "      <td>NaN</td>\n",
       "    </tr>\n",
       "    <tr>\n",
       "      <th>right_click_disabling</th>\n",
       "      <td>NaN</td>\n",
       "      <td>NaN</td>\n",
       "      <td>NaN</td>\n",
       "      <td>NaN</td>\n",
       "      <td>NaN</td>\n",
       "      <td>NaN</td>\n",
       "      <td>NaN</td>\n",
       "      <td>NaN</td>\n",
       "      <td>NaN</td>\n",
       "      <td>NaN</td>\n",
       "      <td>NaN</td>\n",
       "      <td>NaN</td>\n",
       "    </tr>\n",
       "    <tr>\n",
       "      <th>num_of_redirects</th>\n",
       "      <td>0.227901</td>\n",
       "      <td>0.219716</td>\n",
       "      <td>NaN</td>\n",
       "      <td>NaN</td>\n",
       "      <td>NaN</td>\n",
       "      <td>1.000000</td>\n",
       "      <td>-0.072619</td>\n",
       "      <td>NaN</td>\n",
       "      <td>0.032428</td>\n",
       "      <td>0.188153</td>\n",
       "      <td>0.060197</td>\n",
       "      <td>-0.060020</td>\n",
       "    </tr>\n",
       "    <tr>\n",
       "      <th>checking_cookies</th>\n",
       "      <td>-0.082503</td>\n",
       "      <td>-0.137491</td>\n",
       "      <td>NaN</td>\n",
       "      <td>NaN</td>\n",
       "      <td>NaN</td>\n",
       "      <td>-0.072619</td>\n",
       "      <td>1.000000</td>\n",
       "      <td>NaN</td>\n",
       "      <td>-0.116741</td>\n",
       "      <td>-0.013925</td>\n",
       "      <td>-0.172518</td>\n",
       "      <td>0.099033</td>\n",
       "    </tr>\n",
       "    <tr>\n",
       "      <th>checking_sfh</th>\n",
       "      <td>NaN</td>\n",
       "      <td>NaN</td>\n",
       "      <td>NaN</td>\n",
       "      <td>NaN</td>\n",
       "      <td>NaN</td>\n",
       "      <td>NaN</td>\n",
       "      <td>NaN</td>\n",
       "      <td>NaN</td>\n",
       "      <td>NaN</td>\n",
       "      <td>NaN</td>\n",
       "      <td>NaN</td>\n",
       "      <td>NaN</td>\n",
       "    </tr>\n",
       "    <tr>\n",
       "      <th>request_url</th>\n",
       "      <td>0.166470</td>\n",
       "      <td>0.264367</td>\n",
       "      <td>NaN</td>\n",
       "      <td>NaN</td>\n",
       "      <td>NaN</td>\n",
       "      <td>0.032428</td>\n",
       "      <td>-0.116741</td>\n",
       "      <td>NaN</td>\n",
       "      <td>1.000000</td>\n",
       "      <td>0.352219</td>\n",
       "      <td>0.092598</td>\n",
       "      <td>0.245238</td>\n",
       "    </tr>\n",
       "    <tr>\n",
       "      <th>url-of-anchor</th>\n",
       "      <td>0.206368</td>\n",
       "      <td>0.007883</td>\n",
       "      <td>NaN</td>\n",
       "      <td>NaN</td>\n",
       "      <td>NaN</td>\n",
       "      <td>0.188153</td>\n",
       "      <td>-0.013925</td>\n",
       "      <td>NaN</td>\n",
       "      <td>0.352219</td>\n",
       "      <td>1.000000</td>\n",
       "      <td>-0.186386</td>\n",
       "      <td>0.078354</td>\n",
       "    </tr>\n",
       "    <tr>\n",
       "      <th>links_in_meta_img</th>\n",
       "      <td>0.148149</td>\n",
       "      <td>0.429166</td>\n",
       "      <td>NaN</td>\n",
       "      <td>NaN</td>\n",
       "      <td>NaN</td>\n",
       "      <td>0.060197</td>\n",
       "      <td>-0.172518</td>\n",
       "      <td>NaN</td>\n",
       "      <td>0.092598</td>\n",
       "      <td>-0.186386</td>\n",
       "      <td>1.000000</td>\n",
       "      <td>-0.022762</td>\n",
       "    </tr>\n",
       "    <tr>\n",
       "      <th>Result</th>\n",
       "      <td>-0.009629</td>\n",
       "      <td>0.079002</td>\n",
       "      <td>NaN</td>\n",
       "      <td>NaN</td>\n",
       "      <td>NaN</td>\n",
       "      <td>-0.060020</td>\n",
       "      <td>0.099033</td>\n",
       "      <td>NaN</td>\n",
       "      <td>0.245238</td>\n",
       "      <td>0.078354</td>\n",
       "      <td>-0.022762</td>\n",
       "      <td>1.000000</td>\n",
       "    </tr>\n",
       "  </tbody>\n",
       "</table>\n",
       "</div>"
      ],
      "text/plain": [
       "                       frequency_of_a_tags  frequency_of_alltags  \\\n",
       "frequency_of_a_tags               1.000000              0.505139   \n",
       "frequency_of_alltags              0.505139              1.000000   \n",
       "presence_of_iframes                    NaN                   NaN   \n",
       "presence_of_popups                     NaN                   NaN   \n",
       "right_click_disabling                  NaN                   NaN   \n",
       "num_of_redirects                  0.227901              0.219716   \n",
       "checking_cookies                 -0.082503             -0.137491   \n",
       "checking_sfh                           NaN                   NaN   \n",
       "request_url                       0.166470              0.264367   \n",
       "url-of-anchor                     0.206368              0.007883   \n",
       "links_in_meta_img                 0.148149              0.429166   \n",
       "Result                           -0.009629              0.079002   \n",
       "\n",
       "                       presence_of_iframes  presence_of_popups  \\\n",
       "frequency_of_a_tags                    NaN                 NaN   \n",
       "frequency_of_alltags                   NaN                 NaN   \n",
       "presence_of_iframes                    NaN                 NaN   \n",
       "presence_of_popups                     NaN                 NaN   \n",
       "right_click_disabling                  NaN                 NaN   \n",
       "num_of_redirects                       NaN                 NaN   \n",
       "checking_cookies                       NaN                 NaN   \n",
       "checking_sfh                           NaN                 NaN   \n",
       "request_url                            NaN                 NaN   \n",
       "url-of-anchor                          NaN                 NaN   \n",
       "links_in_meta_img                      NaN                 NaN   \n",
       "Result                                 NaN                 NaN   \n",
       "\n",
       "                       right_click_disabling  num_of_redirects  \\\n",
       "frequency_of_a_tags                      NaN          0.227901   \n",
       "frequency_of_alltags                     NaN          0.219716   \n",
       "presence_of_iframes                      NaN               NaN   \n",
       "presence_of_popups                       NaN               NaN   \n",
       "right_click_disabling                    NaN               NaN   \n",
       "num_of_redirects                         NaN          1.000000   \n",
       "checking_cookies                         NaN         -0.072619   \n",
       "checking_sfh                             NaN               NaN   \n",
       "request_url                              NaN          0.032428   \n",
       "url-of-anchor                            NaN          0.188153   \n",
       "links_in_meta_img                        NaN          0.060197   \n",
       "Result                                   NaN         -0.060020   \n",
       "\n",
       "                       checking_cookies  checking_sfh  request_url  \\\n",
       "frequency_of_a_tags           -0.082503           NaN     0.166470   \n",
       "frequency_of_alltags          -0.137491           NaN     0.264367   \n",
       "presence_of_iframes                 NaN           NaN          NaN   \n",
       "presence_of_popups                  NaN           NaN          NaN   \n",
       "right_click_disabling               NaN           NaN          NaN   \n",
       "num_of_redirects              -0.072619           NaN     0.032428   \n",
       "checking_cookies               1.000000           NaN    -0.116741   \n",
       "checking_sfh                        NaN           NaN          NaN   \n",
       "request_url                   -0.116741           NaN     1.000000   \n",
       "url-of-anchor                 -0.013925           NaN     0.352219   \n",
       "links_in_meta_img             -0.172518           NaN     0.092598   \n",
       "Result                         0.099033           NaN     0.245238   \n",
       "\n",
       "                       url-of-anchor  links_in_meta_img    Result  \n",
       "frequency_of_a_tags         0.206368           0.148149 -0.009629  \n",
       "frequency_of_alltags        0.007883           0.429166  0.079002  \n",
       "presence_of_iframes              NaN                NaN       NaN  \n",
       "presence_of_popups               NaN                NaN       NaN  \n",
       "right_click_disabling            NaN                NaN       NaN  \n",
       "num_of_redirects            0.188153           0.060197 -0.060020  \n",
       "checking_cookies           -0.013925          -0.172518  0.099033  \n",
       "checking_sfh                     NaN                NaN       NaN  \n",
       "request_url                 0.352219           0.092598  0.245238  \n",
       "url-of-anchor               1.000000          -0.186386  0.078354  \n",
       "links_in_meta_img          -0.186386           1.000000 -0.022762  \n",
       "Result                      0.078354          -0.022762  1.000000  "
      ]
     },
     "execution_count": 13,
     "metadata": {},
     "output_type": "execute_result"
    }
   ],
   "source": [
    "corr=data_cleaned.corr()\n",
    "corr"
   ]
  },
  {
   "cell_type": "code",
   "execution_count": 14,
   "metadata": {},
   "outputs": [
    {
     "data": {
      "text/plain": [
       "<Axes: >"
      ]
     },
     "execution_count": 14,
     "metadata": {},
     "output_type": "execute_result"
    },
    {
     "data": {
      "image/png": "[encoded data removed]",
      "text/plain": [
       "<Figure size 1300x1300 with 2 Axes>"
      ]
     },
     "metadata": {},
     "output_type": "display_data"
    }
   ],
   "source": [
    "# Set up the matplotlib figure\n",
    "f, ax = plt.subplots(figsize=(13, 13))\n",
    "\n",
    "# Generate a custom diverging colormap\n",
    "cmap = sns.diverging_palette(220, 10, as_cmap=True)\n",
    "\n",
    "# Draw the heatmap with the mask and correct aspect ratio\n",
    "sns.heatmap(corr, cmap=cmap, center=0, square=True, linewidths=.5, cbar_kws={\"shrink\": .5})"
   ]
  }
 ],
 "metadata": {
  "kernelspec": {
   "display_name": "Python 3",
   "language": "python",
   "name": "python3"
  },
  "language_info": {
   "codemirror_mode": {
    "name": "ipython",
    "version": 3
   },
   "file_extension": ".py",
   "mimetype": "text/x-python",
   "name": "python",
   "nbconvert_exporter": "python",
   "pygments_lexer": "ipython3",
   "version": "3.10.12"
  },
  "orig_nbformat": 4
 },
 "nbformat": 4,
 "nbformat_minor": 2
}
