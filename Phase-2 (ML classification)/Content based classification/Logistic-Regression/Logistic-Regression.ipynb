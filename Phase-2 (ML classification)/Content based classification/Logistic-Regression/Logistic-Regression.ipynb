{
 "cells": [
  {
   "cell_type": "code",
   "execution_count": 10,
   "metadata": {},
   "outputs": [],
   "source": [
    "import pandas as pd\n",
    "import sklearn\n",
    "import os\n",
    "from sklearn.model_selection import train_test_split\n",
    "from sklearn import preprocessing\n",
    "from sklearn.metrics import confusion_matrix\n",
    "from sklearn.metrics import accuracy_score\n",
    "from sklearn.metrics import classification_report\n",
    "from sklearn.model_selection import KFold\n",
    "from sklearn.tree import DecisionTreeClassifier\n",
    "from sklearn.model_selection import cross_validate\n",
    "from sklearn.neural_network import MLPClassifier\n",
    "from sklearn.neighbors import KNeighborsClassifier\n",
    "from sklearn.ensemble import RandomForestClassifier\n",
    "from sklearn import svm , preprocessing\n",
    "from sklearn.ensemble import AdaBoostClassifier\n",
    "from sklearn.linear_model import LogisticRegression\n",
    "from sklearn.ensemble import GradientBoostingClassifier\n",
    "from xgboost import XGBClassifier\n",
    "from sklearn.ensemble import GradientBoostingClassifier\n",
    "from sklearn.experimental import enable_hist_gradient_boosting\n",
    "from sklearn.ensemble import HistGradientBoostingClassifier\n",
    "from lightgbm import LGBMClassifier\n",
    "from catboost import CatBoostClassifier"
   ]
  },
  {
   "cell_type": "code",
   "execution_count": 11,
   "metadata": {},
   "outputs": [],
   "source": [
    "def mean_score(scoring):\n",
    "    return {i:j.mean() for i,j in scoring.items()}"
   ]
  },
  {
   "cell_type": "code",
   "execution_count": 18,
   "metadata": {},
   "outputs": [
    {
     "data": {
      "text/plain": [
       "(9709, 10)"
      ]
     },
     "execution_count": 18,
     "metadata": {},
     "output_type": "execute_result"
    }
   ],
   "source": [
    "df = pd.read_csv('../dataset.csv')\n",
    "df.shape"
   ]
  },
  {
   "cell_type": "code",
   "execution_count": 19,
   "metadata": {},
   "outputs": [],
   "source": [
    "data_no_duplicates = df.drop_duplicates()\n",
    "df = data_no_duplicates.dropna()"
   ]
  },
  {
   "cell_type": "code",
   "execution_count": 20,
   "metadata": {},
   "outputs": [
    {
     "name": "stdout",
     "output_type": "stream",
     "text": [
      "['-1' '1' '0' 'frequency_of_a_tags']\n",
      "['0' '-1' '1' 'frequency_of_alltags']\n",
      "['1' 'presence_of_iframes']\n",
      "['1' '0' '-1' 'presence_of_popups']\n",
      "['1' 'right_click_disabling' '-1']\n",
      "['-1' '1' '0' 'checking_sfh']\n",
      "['-1' '1' '0' 'request_url']\n",
      "['-1' '0' '1' 'url-of-anchor']\n",
      "['-1' '1' '0' 'links_in_meta_img']\n",
      "['1' 'Result' '-1']\n"
     ]
    }
   ],
   "source": [
    "# Investigate unique values in the each column\n",
    "unique_frequency_a = df['frequency_of_a_tags'].unique()\n",
    "unique_all = df['frequency_of_alltags'].unique()\n",
    "unique_iframes = df['presence_of_iframes'].unique()\n",
    "unique_popups = df['presence_of_popups'].unique()\n",
    "unique_rightclick = df['right_click_disabling'].unique()\n",
    "# unique_redirects = df['num_of_redirects'].unique()\n",
    "# unique_cookies = df['checking_cookies'].unique()\n",
    "unique_sfh = df['checking_sfh'].unique()\n",
    "unique_request = df['request_url'].unique()\n",
    "unique_url = df['url-of-anchor'].unique()\n",
    "unique_meta = df['links_in_meta_img'].unique()\n",
    "unique_R = df['Result'].unique()\n",
    "\n",
    "print(unique_frequency_a)\n",
    "print(unique_all)\n",
    "print(unique_iframes)\n",
    "print(unique_popups)\n",
    "print(unique_rightclick)\n",
    "# print(unique_redirects)\n",
    "# print(unique_cookies)\n",
    "print(unique_sfh)\n",
    "print(unique_request)\n",
    "print(unique_url)\n",
    "print(unique_meta)\n",
    "print(unique_R)"
   ]
  },
  {
   "cell_type": "code",
   "execution_count": 21,
   "metadata": {},
   "outputs": [],
   "source": [
    "validValues = {-1, 0, 1}\n",
    "\n",
    "for column in df.columns:\n",
    "    df[column] = pd.to_numeric(df[column], errors='coerce')\n",
    "    df = df[df[column].isin(validValues)]\n",
    "\n",
    "# Convert all columns to integers (again after the filtering)\n",
    "df = df.astype(int)"
   ]
  },
  {
   "cell_type": "code",
   "execution_count": 22,
   "metadata": {},
   "outputs": [
    {
     "data": {
      "text/plain": [
       "(179, 10)"
      ]
     },
     "execution_count": 22,
     "metadata": {},
     "output_type": "execute_result"
    }
   ],
   "source": [
    "df.shape"
   ]
  },
  {
   "cell_type": "code",
   "execution_count": 23,
   "metadata": {},
   "outputs": [
    {
     "data": {
      "text/html": [
       "<div>\n",
       "<style scoped>\n",
       "    .dataframe tbody tr th:only-of-type {\n",
       "        vertical-align: middle;\n",
       "    }\n",
       "\n",
       "    .dataframe tbody tr th {\n",
       "        vertical-align: top;\n",
       "    }\n",
       "\n",
       "    .dataframe thead th {\n",
       "        text-align: right;\n",
       "    }\n",
       "</style>\n",
       "<table border=\"1\" class=\"dataframe\">\n",
       "  <thead>\n",
       "    <tr style=\"text-align: right;\">\n",
       "      <th></th>\n",
       "      <th>frequency_of_a_tags</th>\n",
       "      <th>frequency_of_alltags</th>\n",
       "      <th>presence_of_iframes</th>\n",
       "      <th>presence_of_popups</th>\n",
       "      <th>right_click_disabling</th>\n",
       "      <th>checking_sfh</th>\n",
       "      <th>request_url</th>\n",
       "      <th>url-of-anchor</th>\n",
       "      <th>links_in_meta_img</th>\n",
       "      <th>Result</th>\n",
       "    </tr>\n",
       "  </thead>\n",
       "  <tbody>\n",
       "    <tr>\n",
       "      <th>4625</th>\n",
       "      <td>0</td>\n",
       "      <td>0</td>\n",
       "      <td>1</td>\n",
       "      <td>0</td>\n",
       "      <td>1</td>\n",
       "      <td>-1</td>\n",
       "      <td>1</td>\n",
       "      <td>-1</td>\n",
       "      <td>0</td>\n",
       "      <td>-1</td>\n",
       "    </tr>\n",
       "    <tr>\n",
       "      <th>4053</th>\n",
       "      <td>0</td>\n",
       "      <td>0</td>\n",
       "      <td>1</td>\n",
       "      <td>0</td>\n",
       "      <td>1</td>\n",
       "      <td>-1</td>\n",
       "      <td>-1</td>\n",
       "      <td>1</td>\n",
       "      <td>1</td>\n",
       "      <td>-1</td>\n",
       "    </tr>\n",
       "    <tr>\n",
       "      <th>2450</th>\n",
       "      <td>0</td>\n",
       "      <td>0</td>\n",
       "      <td>1</td>\n",
       "      <td>1</td>\n",
       "      <td>1</td>\n",
       "      <td>1</td>\n",
       "      <td>-1</td>\n",
       "      <td>1</td>\n",
       "      <td>1</td>\n",
       "      <td>1</td>\n",
       "    </tr>\n",
       "    <tr>\n",
       "      <th>3102</th>\n",
       "      <td>-1</td>\n",
       "      <td>0</td>\n",
       "      <td>1</td>\n",
       "      <td>0</td>\n",
       "      <td>1</td>\n",
       "      <td>-1</td>\n",
       "      <td>0</td>\n",
       "      <td>-1</td>\n",
       "      <td>0</td>\n",
       "      <td>1</td>\n",
       "    </tr>\n",
       "    <tr>\n",
       "      <th>6855</th>\n",
       "      <td>1</td>\n",
       "      <td>0</td>\n",
       "      <td>1</td>\n",
       "      <td>-1</td>\n",
       "      <td>1</td>\n",
       "      <td>-1</td>\n",
       "      <td>1</td>\n",
       "      <td>1</td>\n",
       "      <td>1</td>\n",
       "      <td>-1</td>\n",
       "    </tr>\n",
       "  </tbody>\n",
       "</table>\n",
       "</div>"
      ],
      "text/plain": [
       "      frequency_of_a_tags  frequency_of_alltags  presence_of_iframes  \\\n",
       "4625                    0                     0                    1   \n",
       "4053                    0                     0                    1   \n",
       "2450                    0                     0                    1   \n",
       "3102                   -1                     0                    1   \n",
       "6855                    1                     0                    1   \n",
       "\n",
       "      presence_of_popups  right_click_disabling  checking_sfh  request_url  \\\n",
       "4625                   0                      1            -1            1   \n",
       "4053                   0                      1            -1           -1   \n",
       "2450                   1                      1             1           -1   \n",
       "3102                   0                      1            -1            0   \n",
       "6855                  -1                      1            -1            1   \n",
       "\n",
       "      url-of-anchor  links_in_meta_img  Result  \n",
       "4625             -1                  0      -1  \n",
       "4053              1                  1      -1  \n",
       "2450              1                  1       1  \n",
       "3102             -1                  0       1  \n",
       "6855              1                  1      -1  "
      ]
     },
     "execution_count": 23,
     "metadata": {},
     "output_type": "execute_result"
    }
   ],
   "source": [
    "df = sklearn.utils.shuffle(df)\n",
    "X = df.drop(\"Result\",axis=1).values\n",
    "X = preprocessing.scale(X)\n",
    "y = df['Result'].values\n",
    "df.head()"
   ]
  },
  {
   "cell_type": "code",
   "execution_count": 24,
   "metadata": {},
   "outputs": [],
   "source": [
    "scoring = {'accuracy': 'accuracy',\n",
    "           'recall': 'recall',\n",
    "           'precision': 'precision',\n",
    "           'f1': 'f1'}\n",
    "\n",
    "           \n",
    "\n",
    "fold_count=10"
   ]
  },
  {
   "attachments": {},
   "cell_type": "markdown",
   "metadata": {},
   "source": [
    "## Logistic Regression"
   ]
  },
  {
   "cell_type": "code",
   "execution_count": 25,
   "metadata": {},
   "outputs": [
    {
     "name": "stdout",
     "output_type": "stream",
     "text": [
      "fit time = 0.0029209136962890627\n",
      "score time = 0.005231595039367676\n",
      "accuracy = 0.5754901960784313\n",
      "recall = 0.9181818181818183\n",
      "precision = 0.5982434640522876\n",
      "f1 = 0.7240102171136653\n"
     ]
    }
   ],
   "source": [
    "logistic_clf=LogisticRegression(random_state=1)\n",
    "cross_val_scores = cross_validate(logistic_clf, X, y, cv=fold_count, scoring=scoring)\n",
    "\n",
    "logistic_clf_score = mean_score(cross_val_scores)\n",
    "\n",
    "print(f\"fit time = {logistic_clf_score['fit_time']}\")\n",
    "print(f\"score time = {logistic_clf_score['score_time']}\")\n",
    "print(f\"accuracy = {logistic_clf_score['test_accuracy']}\")\n",
    "print(f\"recall = {logistic_clf_score['test_recall']}\")\n",
    "print(f\"precision = {logistic_clf_score['test_precision']}\")\n",
    "print(f\"f1 = {logistic_clf_score['test_f1']}\")"
   ]
  }
 ],
 "metadata": {
  "kernelspec": {
   "display_name": "Python 3",
   "language": "python",
   "name": "python3"
  },
  "language_info": {
   "codemirror_mode": {
    "name": "ipython",
    "version": 3
   },
   "file_extension": ".py",
   "mimetype": "text/x-python",
   "name": "python",
   "nbconvert_exporter": "python",
   "pygments_lexer": "ipython3",
   "version": "3.8.10"
  },
  "orig_nbformat": 4
 },
 "nbformat": 4,
 "nbformat_minor": 2
}
