{
 "cells": [
  {
   "cell_type": "code",
   "execution_count": 28,
   "metadata": {},
   "outputs": [],
   "source": [
    "import pandas as pd\n",
    "import sklearn\n",
    "import os\n",
    "from sklearn.model_selection import train_test_split\n",
    "from sklearn import preprocessing\n",
    "from sklearn.metrics import confusion_matrix\n",
    "from sklearn.metrics import accuracy_score\n",
    "from sklearn.metrics import classification_report\n",
    "from sklearn.model_selection import KFold\n",
    "from sklearn.tree import DecisionTreeClassifier\n",
    "from sklearn.model_selection import cross_validate\n",
    "from sklearn.neural_network import MLPClassifier\n",
    "from sklearn.neighbors import KNeighborsClassifier\n",
    "from sklearn.ensemble import RandomForestClassifier\n",
    "from sklearn import svm , preprocessing\n",
    "from sklearn.ensemble import AdaBoostClassifier\n",
    "from sklearn.linear_model import LogisticRegression\n",
    "from sklearn.ensemble import GradientBoostingClassifier\n",
    "from xgboost import XGBClassifier\n",
    "from sklearn.experimental import enable_hist_gradient_boosting\n",
    "from sklearn.ensemble import HistGradientBoostingClassifier\n",
    "from lightgbm import LGBMClassifier\n",
    "from catboost import CatBoostClassifier"
   ]
  },
  {
   "attachments": {},
   "cell_type": "markdown",
   "metadata": {},
   "source": [
    "## Function to calculate the scores"
   ]
  },
  {
   "cell_type": "code",
   "execution_count": 29,
   "metadata": {},
   "outputs": [],
   "source": [
    "def mean_score(scoring):\n",
    "    return {i:j.mean() for i,j in scoring.items()}"
   ]
  },
  {
   "attachments": {},
   "cell_type": "markdown",
   "metadata": {},
   "source": [
    "## Loading the data\n",
    "- Load the data and clean it for unique values, later shuffle it with specific seeding"
   ]
  },
  {
   "cell_type": "code",
   "execution_count": 3,
   "metadata": {},
   "outputs": [],
   "source": [
    "# Get the parent directory of the current folder\n",
    "parent_dir = os.path.abspath(os.path.join(os.getcwd(), os.pardir))\n",
    "\n",
    "# Specify the file path for dataset.csv in the parent folder\n",
    "filename = os.path.join(parent_dir, \"dataset.csv\")\n",
    "df = pd.read_csv(filename)"
   ]
  },
  {
   "cell_type": "code",
   "execution_count": 3,
   "metadata": {},
   "outputs": [],
   "source": [
    "# Get the parent directory of the current folder\n",
    "parent_dir = os.path.abspath(os.path.join(os.getcwd(), os.pardir))\n",
    "\n",
    "# Specify the file path for dataset.csv in the parent folder\n",
    "filename = os.path.join(parent_dir, \"dataset-1.csv\")\n",
    "df = pd.read_csv(filename)"
   ]
  },
  {
   "cell_type": "code",
   "execution_count": 30,
   "metadata": {},
   "outputs": [],
   "source": [
    "# Get the parent directory of the current folder\n",
    "parent_dir = os.path.abspath(os.path.join(os.getcwd(), os.pardir))\n",
    "\n",
    "# Specify the file path for dataset.csv in the parent folder\n",
    "filename = os.path.join(parent_dir, \"dataset-2.csv\")\n",
    "df = pd.read_csv(filename)"
   ]
  },
  {
   "attachments": {},
   "cell_type": "markdown",
   "metadata": {},
   "source": [
    "## Data Preprocessing"
   ]
  },
  {
   "cell_type": "code",
   "execution_count": 31,
   "metadata": {},
   "outputs": [
    {
     "data": {
      "text/plain": [
       "Index(['Length of URL', 'Has IP address', 'Shortening Service',\n",
       "       'Having @ Symbol', 'Double Slash Redirecting', 'Prefix-Suffix', 'CTLD',\n",
       "       'HTTPS in Domain', 'Sensitive Words', 'Has Tilde', 'Has Port',\n",
       "       'PhishID', 'frequency_of_a_tags', 'frequency_of_alltags',\n",
       "       'presence_of_iframes', 'presence_of_popups', 'right_click_disabling',\n",
       "       'checking_sfh', 'request_url', 'url-of-anchor', 'links_in_meta_img',\n",
       "       'check_hidden_content', 'Current Domain Age', 'Matching Domain Name',\n",
       "       'Length of Domain', 'Google page index', 'Result'],\n",
       "      dtype='object')"
      ]
     },
     "execution_count": 31,
     "metadata": {},
     "output_type": "execute_result"
    }
   ],
   "source": [
    "df.columns"
   ]
  },
  {
   "cell_type": "code",
   "execution_count": 32,
   "metadata": {},
   "outputs": [
    {
     "data": {
      "text/plain": [
       "(5790, 27)"
      ]
     },
     "execution_count": 32,
     "metadata": {},
     "output_type": "execute_result"
    }
   ],
   "source": [
    "df.shape"
   ]
  },
  {
   "cell_type": "code",
   "execution_count": 33,
   "metadata": {},
   "outputs": [],
   "source": [
    "data_no_duplicates = df.drop_duplicates()\n",
    "df = data_no_duplicates.dropna()"
   ]
  },
  {
   "cell_type": "code",
   "execution_count": 34,
   "metadata": {},
   "outputs": [
    {
     "data": {
      "text/plain": [
       "(5790, 27)"
      ]
     },
     "execution_count": 34,
     "metadata": {},
     "output_type": "execute_result"
    }
   ],
   "source": [
    "df.shape"
   ]
  },
  {
   "cell_type": "code",
   "execution_count": 35,
   "metadata": {},
   "outputs": [],
   "source": [
    "df = df.drop('PhishID', axis = 1)"
   ]
  },
  {
   "cell_type": "code",
   "execution_count": null,
   "metadata": {},
   "outputs": [],
   "source": [
    "df.rename(columns={'Length of URL':'Length_of_URL', 'Has IP address':'Has_IP_address', 'Shortening Service':'Shortening_Service', 'Having @ Symbol':'Having_@_Symbol', 'Double Slash Redirecting':'Double_Slash_Redirecting', 'Prefix-Suffix':'Prefix-Suffix', 'CTLD':'CTLD', 'HTTPS in Domain':'HTTPS_in_Domain', 'Sensitive Words':'Sensitive_Words', 'Has Tilde':'Has_Tilde', 'Has Port':'Has_Port', 'Current Domain Age':'Current_Domain_Age' , 'Matching Domain Name':'Matching_Domain_Name', 'Length of Domain':'Length_of_Domain', 'Google page index':'Google_page_index','Result':'Result'}, inplace=True)"
   ]
  },
  {
   "cell_type": "code",
   "execution_count": 38,
   "metadata": {},
   "outputs": [
    {
     "name": "stdout",
     "output_type": "stream",
     "text": [
      "[-1  1]\n",
      "[ 1  0 -1]\n",
      "[1]\n",
      "[ 1 -1]\n",
      "[ 1 -1]\n",
      "[-1  1]\n",
      "[-1  1  0]\n",
      "[-1  0  1]\n",
      "[-1  1  0]\n",
      "[ 1 -1]\n",
      "[ 1 -1]\n",
      "[-1  1]\n",
      "[ 1 -1]\n",
      "[ 1 -1]\n",
      "[-1  1]\n",
      "[ 1 -1  0]\n",
      "[-1]\n",
      "[ 1 -1]\n",
      "[ 1 -1]\n",
      "[-1  1]\n",
      "[ 1 -1]\n",
      "[ 1 -1]\n"
     ]
    }
   ],
   "source": [
    "# Investigate unique values in the each column\n",
    "unique_frequency_a = df['frequency_of_a_tags'].unique()\n",
    "unique_all = df['frequency_of_alltags'].unique()\n",
    "unique_iframes = df['presence_of_iframes'].unique()\n",
    "unique_popups = df['presence_of_popups'].unique()\n",
    "unique_rightclick = df['right_click_disabling'].unique()\n",
    "unique_sfh = df['checking_sfh'].unique()\n",
    "unique_request = df['request_url'].unique()\n",
    "unique_url = df['url-of-anchor'].unique()\n",
    "unique_meta = df['links_in_meta_img'].unique()\n",
    "unique_R = df['Result'].unique()\n",
    "unique_IP = df['Has_IP_address'].unique()\n",
    "unique_SS = df['Shortening_Service'].unique()\n",
    "unique_HAS = df['Having_@_Symbol'].unique()\n",
    "unique_DSR = df['Double_Slash_Redirecting'].unique()\n",
    "unique_PS = df['Prefix-Suffix'].unique()\n",
    "unique_CTLD = df['CTLD'].unique()\n",
    "unique_HID = df['HTTPS_in_Domain'].unique()\n",
    "unique_SW = df['Sensitive_Words'].unique()\n",
    "unique_HT = df['Has_Tilde'].unique()\n",
    "unique_HP = df['Has_Port'].unique()\n",
    "unique_hidden = df['check_hidden_content'].unique()\n",
    "unique_R = df['Result'].unique()\n",
    "\n",
    "print(unique_frequency_a)\n",
    "print(unique_all)\n",
    "print(unique_iframes)\n",
    "print(unique_popups)\n",
    "print(unique_rightclick)\n",
    "print(unique_sfh)\n",
    "print(unique_request)\n",
    "print(unique_url)\n",
    "print(unique_meta)\n",
    "print(unique_R)\n",
    "print(unique_IP)\n",
    "print(unique_SS)\n",
    "print(unique_HAS)\n",
    "print(unique_DSR)\n",
    "print(unique_PS)\n",
    "print(unique_CTLD)\n",
    "print(unique_HID)\n",
    "print(unique_SW)\n",
    "print(unique_HT)\n",
    "print(unique_HP)\n",
    "print(unique_hidden)\n",
    "print(unique_R)"
   ]
  },
  {
   "attachments": {},
   "cell_type": "markdown",
   "metadata": {},
   "source": [
    "### Remove all the values other than {-1, 0, 1} from the data"
   ]
  },
  {
   "cell_type": "code",
   "execution_count": 37,
   "metadata": {},
   "outputs": [],
   "source": [
    "validValues = {-1, 0, 1}\n",
    "\n",
    "for column in df.columns:\n",
    "    df[column] = pd.to_numeric(df[column], errors='coerce')\n",
    "    df = df[df[column].isin(validValues)]\n",
    "\n",
    "# Convert all columns to integers (again after the filtering)\n",
    "df = df.astype(int)"
   ]
  },
  {
   "cell_type": "code",
   "execution_count": 39,
   "metadata": {},
   "outputs": [
    {
     "name": "stdout",
     "output_type": "stream",
     "text": [
      "      Length_of_URL  Has_IP_address  Shortening_Service  Having_@_Symbol  \\\n",
      "0                 1               1                  -1                1   \n",
      "1                 1               1                   1                1   \n",
      "2                 1               1                   1                1   \n",
      "3                 1               1                   1                1   \n",
      "4                 1               1                   1                1   \n",
      "...             ...             ...                 ...              ...   \n",
      "5785              1               1                   1                1   \n",
      "5786              1               1                   1                1   \n",
      "5787              1               1                   1                1   \n",
      "5788              1               1                   1                1   \n",
      "5789              1               1                   1                1   \n",
      "\n",
      "      Double_Slash_Redirecting  Prefix-Suffix  CTLD  HTTPS_in_Domain  \\\n",
      "0                            1             -1     1               -1   \n",
      "1                            1              1     1               -1   \n",
      "2                            1              1     1               -1   \n",
      "3                            1              1    -1               -1   \n",
      "4                            1              1     0               -1   \n",
      "...                        ...            ...   ...              ...   \n",
      "5785                         1              1     0               -1   \n",
      "5786                         1              1     0               -1   \n",
      "5787                         1              1     0               -1   \n",
      "5788                         1              1     0               -1   \n",
      "5789                         1              1     1               -1   \n",
      "\n",
      "      Sensitive_Words  Has_Tilde  ...  checking_sfh  request_url  \\\n",
      "0                   1          1  ...            -1           -1   \n",
      "1                  -1          1  ...            -1            1   \n",
      "2                  -1          1  ...            -1            1   \n",
      "3                   1          1  ...            -1           -1   \n",
      "4                   1          1  ...            -1           -1   \n",
      "...               ...        ...  ...           ...          ...   \n",
      "5785                1          1  ...            -1            1   \n",
      "5786                1          1  ...            -1           -1   \n",
      "5787                1          1  ...            -1           -1   \n",
      "5788                1          1  ...            -1           -1   \n",
      "5789                1          1  ...            -1            1   \n",
      "\n",
      "      url-of-anchor  links_in_meta_img  check_hidden_content  \\\n",
      "0                -1                 -1                     1   \n",
      "1                -1                  1                     1   \n",
      "2                -1                  1                     1   \n",
      "3                 0                  1                    -1   \n",
      "4                -1                  1                    -1   \n",
      "...             ...                ...                   ...   \n",
      "5785             -1                  0                     1   \n",
      "5786             -1                  1                     1   \n",
      "5787             -1                  1                     1   \n",
      "5788             -1                  0                    -1   \n",
      "5789              1                  1                     1   \n",
      "\n",
      "      Current_Domain_Age  Matching_Domain_Name  Length_of_Domain  \\\n",
      "0                      1                     1                 1   \n",
      "1                      1                    -1                 1   \n",
      "2                      1                    -1                 1   \n",
      "3                     -1                    -1                -1   \n",
      "4                      1                    -1                 1   \n",
      "...                  ...                   ...               ...   \n",
      "5785                   1                    -1                 1   \n",
      "5786                   0                     0                 0   \n",
      "5787                   0                     0                 0   \n",
      "5788                   0                     0                 0   \n",
      "5789                   1                    -1                 1   \n",
      "\n",
      "      Google_page_index  Result  \n",
      "0                     1       1  \n",
      "1                     1       1  \n",
      "2                     1       1  \n",
      "3                     1       1  \n",
      "4                     1       1  \n",
      "...                 ...     ...  \n",
      "5785                  1      -1  \n",
      "5786                  1      -1  \n",
      "5787                  1      -1  \n",
      "5788                  1      -1  \n",
      "5789                  1      -1  \n",
      "\n",
      "[5789 rows x 26 columns]\n"
     ]
    }
   ],
   "source": [
    "# Now you can use the DataFrame with valid integer values (1, -1, and 0)\n",
    "print(df)"
   ]
  },
  {
   "cell_type": "code",
   "execution_count": 40,
   "metadata": {},
   "outputs": [
    {
     "data": {
      "text/plain": [
       "(5789, 26)"
      ]
     },
     "execution_count": 40,
     "metadata": {},
     "output_type": "execute_result"
    }
   ],
   "source": [
    "df.shape"
   ]
  },
  {
   "attachments": {},
   "cell_type": "markdown",
   "metadata": {},
   "source": [
    "### Data Preprocessing\n",
    "- Shuffle the data, and split it into train and test data"
   ]
  },
  {
   "cell_type": "code",
   "execution_count": 41,
   "metadata": {},
   "outputs": [
    {
     "data": {
      "text/html": [
       "<div>\n",
       "<style scoped>\n",
       "    .dataframe tbody tr th:only-of-type {\n",
       "        vertical-align: middle;\n",
       "    }\n",
       "\n",
       "    .dataframe tbody tr th {\n",
       "        vertical-align: top;\n",
       "    }\n",
       "\n",
       "    .dataframe thead th {\n",
       "        text-align: right;\n",
       "    }\n",
       "</style>\n",
       "<table border=\"1\" class=\"dataframe\">\n",
       "  <thead>\n",
       "    <tr style=\"text-align: right;\">\n",
       "      <th></th>\n",
       "      <th>Length_of_URL</th>\n",
       "      <th>Has_IP_address</th>\n",
       "      <th>Shortening_Service</th>\n",
       "      <th>Having_@_Symbol</th>\n",
       "      <th>Double_Slash_Redirecting</th>\n",
       "      <th>Prefix-Suffix</th>\n",
       "      <th>CTLD</th>\n",
       "      <th>HTTPS_in_Domain</th>\n",
       "      <th>Sensitive_Words</th>\n",
       "      <th>Has_Tilde</th>\n",
       "      <th>...</th>\n",
       "      <th>checking_sfh</th>\n",
       "      <th>request_url</th>\n",
       "      <th>url-of-anchor</th>\n",
       "      <th>links_in_meta_img</th>\n",
       "      <th>check_hidden_content</th>\n",
       "      <th>Current_Domain_Age</th>\n",
       "      <th>Matching_Domain_Name</th>\n",
       "      <th>Length_of_Domain</th>\n",
       "      <th>Google_page_index</th>\n",
       "      <th>Result</th>\n",
       "    </tr>\n",
       "  </thead>\n",
       "  <tbody>\n",
       "    <tr>\n",
       "      <th>1364</th>\n",
       "      <td>-1</td>\n",
       "      <td>1</td>\n",
       "      <td>1</td>\n",
       "      <td>-1</td>\n",
       "      <td>-1</td>\n",
       "      <td>1</td>\n",
       "      <td>0</td>\n",
       "      <td>-1</td>\n",
       "      <td>1</td>\n",
       "      <td>1</td>\n",
       "      <td>...</td>\n",
       "      <td>1</td>\n",
       "      <td>1</td>\n",
       "      <td>1</td>\n",
       "      <td>1</td>\n",
       "      <td>-1</td>\n",
       "      <td>1</td>\n",
       "      <td>-1</td>\n",
       "      <td>1</td>\n",
       "      <td>1</td>\n",
       "      <td>1</td>\n",
       "    </tr>\n",
       "    <tr>\n",
       "      <th>4145</th>\n",
       "      <td>-1</td>\n",
       "      <td>1</td>\n",
       "      <td>1</td>\n",
       "      <td>1</td>\n",
       "      <td>1</td>\n",
       "      <td>1</td>\n",
       "      <td>-1</td>\n",
       "      <td>-1</td>\n",
       "      <td>1</td>\n",
       "      <td>1</td>\n",
       "      <td>...</td>\n",
       "      <td>-1</td>\n",
       "      <td>-1</td>\n",
       "      <td>1</td>\n",
       "      <td>-1</td>\n",
       "      <td>-1</td>\n",
       "      <td>1</td>\n",
       "      <td>-1</td>\n",
       "      <td>1</td>\n",
       "      <td>1</td>\n",
       "      <td>-1</td>\n",
       "    </tr>\n",
       "    <tr>\n",
       "      <th>2761</th>\n",
       "      <td>-1</td>\n",
       "      <td>1</td>\n",
       "      <td>1</td>\n",
       "      <td>1</td>\n",
       "      <td>1</td>\n",
       "      <td>1</td>\n",
       "      <td>0</td>\n",
       "      <td>-1</td>\n",
       "      <td>1</td>\n",
       "      <td>1</td>\n",
       "      <td>...</td>\n",
       "      <td>-1</td>\n",
       "      <td>-1</td>\n",
       "      <td>0</td>\n",
       "      <td>0</td>\n",
       "      <td>-1</td>\n",
       "      <td>1</td>\n",
       "      <td>-1</td>\n",
       "      <td>1</td>\n",
       "      <td>1</td>\n",
       "      <td>1</td>\n",
       "    </tr>\n",
       "    <tr>\n",
       "      <th>3888</th>\n",
       "      <td>1</td>\n",
       "      <td>1</td>\n",
       "      <td>1</td>\n",
       "      <td>1</td>\n",
       "      <td>1</td>\n",
       "      <td>1</td>\n",
       "      <td>-1</td>\n",
       "      <td>-1</td>\n",
       "      <td>1</td>\n",
       "      <td>1</td>\n",
       "      <td>...</td>\n",
       "      <td>-1</td>\n",
       "      <td>-1</td>\n",
       "      <td>-1</td>\n",
       "      <td>-1</td>\n",
       "      <td>1</td>\n",
       "      <td>1</td>\n",
       "      <td>-1</td>\n",
       "      <td>1</td>\n",
       "      <td>1</td>\n",
       "      <td>-1</td>\n",
       "    </tr>\n",
       "    <tr>\n",
       "      <th>4739</th>\n",
       "      <td>0</td>\n",
       "      <td>1</td>\n",
       "      <td>1</td>\n",
       "      <td>1</td>\n",
       "      <td>1</td>\n",
       "      <td>1</td>\n",
       "      <td>1</td>\n",
       "      <td>-1</td>\n",
       "      <td>1</td>\n",
       "      <td>1</td>\n",
       "      <td>...</td>\n",
       "      <td>-1</td>\n",
       "      <td>1</td>\n",
       "      <td>1</td>\n",
       "      <td>1</td>\n",
       "      <td>1</td>\n",
       "      <td>-1</td>\n",
       "      <td>1</td>\n",
       "      <td>1</td>\n",
       "      <td>1</td>\n",
       "      <td>-1</td>\n",
       "    </tr>\n",
       "  </tbody>\n",
       "</table>\n",
       "<p>5 rows × 26 columns</p>\n",
       "</div>"
      ],
      "text/plain": [
       "      Length_of_URL  Has_IP_address  Shortening_Service  Having_@_Symbol  \\\n",
       "1364             -1               1                   1               -1   \n",
       "4145             -1               1                   1                1   \n",
       "2761             -1               1                   1                1   \n",
       "3888              1               1                   1                1   \n",
       "4739              0               1                   1                1   \n",
       "\n",
       "      Double_Slash_Redirecting  Prefix-Suffix  CTLD  HTTPS_in_Domain  \\\n",
       "1364                        -1              1     0               -1   \n",
       "4145                         1              1    -1               -1   \n",
       "2761                         1              1     0               -1   \n",
       "3888                         1              1    -1               -1   \n",
       "4739                         1              1     1               -1   \n",
       "\n",
       "      Sensitive_Words  Has_Tilde  ...  checking_sfh  request_url  \\\n",
       "1364                1          1  ...             1            1   \n",
       "4145                1          1  ...            -1           -1   \n",
       "2761                1          1  ...            -1           -1   \n",
       "3888                1          1  ...            -1           -1   \n",
       "4739                1          1  ...            -1            1   \n",
       "\n",
       "      url-of-anchor  links_in_meta_img  check_hidden_content  \\\n",
       "1364              1                  1                    -1   \n",
       "4145              1                 -1                    -1   \n",
       "2761              0                  0                    -1   \n",
       "3888             -1                 -1                     1   \n",
       "4739              1                  1                     1   \n",
       "\n",
       "      Current_Domain_Age  Matching_Domain_Name  Length_of_Domain  \\\n",
       "1364                   1                    -1                 1   \n",
       "4145                   1                    -1                 1   \n",
       "2761                   1                    -1                 1   \n",
       "3888                   1                    -1                 1   \n",
       "4739                  -1                     1                 1   \n",
       "\n",
       "      Google_page_index  Result  \n",
       "1364                  1       1  \n",
       "4145                  1      -1  \n",
       "2761                  1       1  \n",
       "3888                  1      -1  \n",
       "4739                  1      -1  \n",
       "\n",
       "[5 rows x 26 columns]"
      ]
     },
     "execution_count": 41,
     "metadata": {},
     "output_type": "execute_result"
    }
   ],
   "source": [
    "df = sklearn.utils.shuffle(df)\n",
    "X = df.drop(\"Result\",axis=1).values\n",
    "X = preprocessing.scale(X)\n",
    "y = df['Result'].values\n",
    "df.head()"
   ]
  },
  {
   "attachments": {},
   "cell_type": "markdown",
   "metadata": {},
   "source": [
    "## Evalution Metrics"
   ]
  },
  {
   "cell_type": "code",
   "execution_count": 42,
   "metadata": {},
   "outputs": [],
   "source": [
    "scoring = {'accuracy': 'accuracy',\n",
    "           'recall': 'recall',\n",
    "           'precision': 'precision',\n",
    "           'f1': 'f1'}\n",
    "fold_count=10"
   ]
  },
  {
   "attachments": {},
   "cell_type": "markdown",
   "metadata": {},
   "source": [
    "## Random Forest"
   ]
  },
  {
   "cell_type": "code",
   "execution_count": 17,
   "metadata": {},
   "outputs": [
    {
     "name": "stdout",
     "output_type": "stream",
     "text": [
      "fit time = 0.3210896968841553\n",
      "score time = 0.019525671005249025\n",
      "accuracy = 0.8992945120748695\n",
      "recall = 0.9247274068091234\n",
      "precision = 0.9047243747131443\n",
      "f1 = 0.9145480290157664\n"
     ]
    }
   ],
   "source": [
    "rforest_clf=RandomForestClassifier()\n",
    "cross_val_scores = cross_validate(rforest_clf, X, y, cv=fold_count, scoring=scoring)\n",
    "rforest_clf_score = mean_score(cross_val_scores)\n",
    "\n",
    "print(f\"fit time = {rforest_clf_score['fit_time']}\")\n",
    "print(f\"score time = {rforest_clf_score['score_time']}\")\n",
    "print(f\"accuracy = {rforest_clf_score['test_accuracy']}\")\n",
    "print(f\"recall = {rforest_clf_score['test_recall']}\")\n",
    "print(f\"precision = {rforest_clf_score['test_precision']}\")\n",
    "print(f\"f1 = {rforest_clf_score['test_f1']}\")"
   ]
  },
  {
   "cell_type": "code",
   "execution_count": 18,
   "metadata": {},
   "outputs": [
    {
     "name": "stdout",
     "output_type": "stream",
     "text": [
      "fit time = 0.33159356117248534\n",
      "score time = 0.021239590644836426\n",
      "accuracy = 0.8982576450269228\n",
      "recall = 0.9220567836637226\n",
      "precision = 0.9052715601195324\n",
      "f1 = 0.9135295153622215\n"
     ]
    }
   ],
   "source": [
    "rforest_clf=RandomForestClassifier()\n",
    "cross_val_scores = cross_validate(rforest_clf, X, y, cv=fold_count, scoring=scoring)\n",
    "rforest_clf_score = mean_score(cross_val_scores)\n",
    "\n",
    "print(f\"fit time = {rforest_clf_score['fit_time']}\")\n",
    "print(f\"score time = {rforest_clf_score['score_time']}\")\n",
    "print(f\"accuracy = {rforest_clf_score['test_accuracy']}\")\n",
    "print(f\"recall = {rforest_clf_score['test_recall']}\")\n",
    "print(f\"precision = {rforest_clf_score['test_precision']}\")\n",
    "print(f\"f1 = {rforest_clf_score['test_f1']}\")"
   ]
  },
  {
   "cell_type": "code",
   "execution_count": null,
   "metadata": {},
   "outputs": [],
   "source": [
    "rforest_clf=RandomForestClassifier()\n",
    "cross_val_scores = cross_validate(rforest_clf, X, y, cv=fold_count, scoring=scoring)\n",
    "rforest_clf_score = mean_score(cross_val_scores)\n",
    "\n",
    "print(f\"fit time = {rforest_clf_score['fit_time']}\")\n",
    "print(f\"score time = {rforest_clf_score['score_time']}\")\n",
    "print(f\"accuracy = {rforest_clf_score['test_accuracy']}\")\n",
    "print(f\"recall = {rforest_clf_score['test_recall']}\")\n",
    "print(f\"precision = {rforest_clf_score['test_precision']}\")\n",
    "print(f\"f1 = {rforest_clf_score['test_f1']}\")"
   ]
  },
  {
   "attachments": {},
   "cell_type": "markdown",
   "metadata": {},
   "source": [
    "## Validation On Virus Total"
   ]
  },
  {
   "cell_type": "code",
   "execution_count": 19,
   "metadata": {},
   "outputs": [],
   "source": [
    "# Import necessary libraries\n",
    "import pandas as pd\n",
    "from sklearn.model_selection import train_test_split\n",
    "from sklearn.ensemble import RandomForestClassifier\n",
    "from sklearn.metrics import accuracy_score\n",
    "\n",
    "\n",
    "# Load the training and test datasets\n",
    "train_data = pd.read_csv('../dataset-2.csv')\n",
    "test_data = pd.read_csv('../Sample-Legitimate.csv')"
   ]
  },
  {
   "cell_type": "code",
   "execution_count": 20,
   "metadata": {},
   "outputs": [
    {
     "name": "stdout",
     "output_type": "stream",
     "text": [
      "(5790, 27)\n",
      "(267, 27)\n"
     ]
    }
   ],
   "source": [
    "print(train_data.shape)\n",
    "print(test_data.shape)"
   ]
  },
  {
   "cell_type": "code",
   "execution_count": 21,
   "metadata": {},
   "outputs": [],
   "source": [
    "PhishID = train_data['PhishID']\n",
    "testPhishID = test_data[' PhishID']\n",
    "# train_data = train_data.drop('PhishID', axis = 1)\n",
    "# test_data = test_data.drop('PhishID', axis = 1)"
   ]
  },
  {
   "cell_type": "code",
   "execution_count": 22,
   "metadata": {},
   "outputs": [
    {
     "name": "stdout",
     "output_type": "stream",
     "text": [
      "(5790, 27)\n",
      "(136, 27)\n"
     ]
    }
   ],
   "source": [
    "train_data.drop_duplicates(inplace = True)\n",
    "train_data.dropna(inplace = True)\n",
    "\n",
    "test_data.drop_duplicates(inplace = True)\n",
    "test_data.dropna(inplace = True)\n",
    "\n",
    "print(train_data.shape)\n",
    "print(test_data.shape)"
   ]
  },
  {
   "cell_type": "code",
   "execution_count": 23,
   "metadata": {},
   "outputs": [],
   "source": [
    "train_data.rename(columns={'Length of URL':'Length_of_URL', 'Has IP address':'Has_IP_address', 'Shortening Service':'Shortening_Service', 'Having @ Symbol':'Having_@_Symbol', 'Double Slash Redirecting':'Double_Slash_Redirecting', 'Prefix-Suffix':'Prefix-Suffix', 'CTLD':'CTLD', 'HTTPS in Domain':'HTTPS_in_Domain', 'Sensitive Words': 'Sensitive_Words', 'Has Tilde':'Has_Tilde', 'Has Port':'Has_Port', 'PhishID': 'PhishID', 'frequency_of_a_tags':'frequency_of_a_tags', 'frequency_of_alltags': 'frequency_of_alltags', 'presence_of_iframes':'presence_of_iframes', 'presence_of_popups': 'presence_of_popups', 'right_click_disabling': 'right_click_disabling', 'checking_sfh': 'checking_sfh', 'request_url': 'request_url', 'url-of-anchor':'url-of-anchor', 'links_in_meta_img':'links_in_meta_img', 'check_hidden_content': 'check_hidden_content', 'Current Domain Age':'Current_Domain_Age' , 'Matching Domain Name':'Matching_Domain_Name', 'Length of Domain':'Length_of_Domain', 'Google page index': 'Google_page_index','Result':'Result'}, inplace=True)\n",
    "\n",
    "test_data.rename(columns={'Length of URL':'Length_of_URL', ' Has IP address':'Has_IP_address', ' Shortening Service':'Shortening_Service', ' Having @ Symbol':'Having_@_Symbol', ' Double Slash Redirecting':'Double_Slash_Redirecting', ' Prefix-Suffix':'Prefix-Suffix', ' CTLD':'CTLD', ' HTTPS in Domain':'HTTPS_in_Domain', ' Sensitive Words':'Sensitive_Words', ' Has Tilde':'Has_Tilde', ' Has Port':'Has_Port', ' PhishID': 'PhishID', ' frequency_of_a_tags':'frequency_of_a_tags',' frequency_of_alltags': 'frequency_of_alltags', ' presence_of_iframes':'presence_of_iframes', ' presence_of_popups':'presence_of_popups' ,' right_click_disabling': 'right_click_disabling', ' checking_sfh': 'checking_sfh', ' request_url': 'request_url', ' url-of-anchor':'url-of-anchor', ' links_in_meta_img':'links_in_meta_img', ' check_hidden_content':'check_hidden_content', ' Current Domain Age':'Current_Domain_Age' , ' Matching Domain Name':'Matching_Domain_Name', ' Length of Domain': 'Length_of_Domain', ' Google page index': 'Google_page_index','Result':'Result'}, inplace=True)"
   ]
  },
  {
   "cell_type": "code",
   "execution_count": 24,
   "metadata": {},
   "outputs": [
    {
     "data": {
      "text/plain": [
       "Index(['Length_of_URL', 'Has_IP_address', 'Shortening_Service',\n",
       "       'Having_@_Symbol', 'Double_Slash_Redirecting', 'Prefix-Suffix', 'CTLD',\n",
       "       'HTTPS_in_Domain', 'Sensitive_Words', 'Has_Tilde', 'Has_Port',\n",
       "       'PhishID', 'frequency_of_a_tags', 'frequency_of_alltags',\n",
       "       'presence_of_iframes', 'presence_of_popups', 'right_click_disabling',\n",
       "       'checking_sfh', 'request_url', 'url-of-anchor', 'links_in_meta_img',\n",
       "       'check_hidden_content', 'Current_Domain_Age', 'Matching_Domain_Name',\n",
       "       'Length_of_Domain', 'Google_page_index', 'Result'],\n",
       "      dtype='object')"
      ]
     },
     "execution_count": 24,
     "metadata": {},
     "output_type": "execute_result"
    }
   ],
   "source": [
    "train_data.columns"
   ]
  },
  {
   "cell_type": "code",
   "execution_count": 25,
   "metadata": {},
   "outputs": [
    {
     "data": {
      "text/plain": [
       "Index(['Length_of_URL', 'Has_IP_address', 'Shortening_Service',\n",
       "       'Having_@_Symbol', 'Double_Slash_Redirecting', 'Prefix-Suffix', 'CTLD',\n",
       "       'HTTPS_in_Domain', 'Sensitive_Words', 'Has_Tilde', 'Has_Port',\n",
       "       'PhishID', 'frequency_of_a_tags', 'frequency_of_alltags',\n",
       "       'presence_of_iframes', 'presence_of_popups', 'right_click_disabling',\n",
       "       'checking_sfh', 'request_url', 'url-of-anchor', 'links_in_meta_img',\n",
       "       'check_hidden_content', 'Current_Domain_Age', 'Matching_Domain_Name',\n",
       "       'Length_of_Domain', 'Google_page_index', 'Result'],\n",
       "      dtype='object')"
      ]
     },
     "execution_count": 25,
     "metadata": {},
     "output_type": "execute_result"
    }
   ],
   "source": [
    "test_data.columns"
   ]
  },
  {
   "cell_type": "code",
   "execution_count": 26,
   "metadata": {},
   "outputs": [],
   "source": [
    "# Remove rows with PhishID not in [-1, 0, 1]\n",
    "validValues = {-1, 0, 1}\n",
    "for column in train_data.columns:\n",
    "    if column != 'PhishID':\n",
    "        train_data[column] = pd.to_numeric(train_data[column], errors='coerce')\n",
    "        train_data = train_data[train_data[column].isin(validValues)]\n",
    "\n",
    "\n",
    "# Remove rows with NaN values in the target variable\n",
    "train_data = train_data.dropna(subset=['Result'])\n",
    "\n",
    "# Convert all columns to integers \n",
    "train_data = train_data.astype(int)"
   ]
  },
  {
   "cell_type": "code",
   "execution_count": 27,
   "metadata": {},
   "outputs": [
    {
     "name": "stdout",
     "output_type": "stream",
     "text": [
      "(5789, 27)\n",
      "(136, 27)\n"
     ]
    }
   ],
   "source": [
    "print(train_data.shape)\n",
    "print(test_data.shape)"
   ]
  },
  {
   "cell_type": "code",
   "execution_count": 28,
   "metadata": {},
   "outputs": [],
   "source": [
    "# Define features and target variable\n",
    "features = train_data.columns.difference(['Result', 'PhishID'])\n",
    "X = train_data[features]\n",
    "y = train_data['Result']"
   ]
  },
  {
   "cell_type": "code",
   "execution_count": 29,
   "metadata": {},
   "outputs": [
    {
     "data": {
      "text/html": [
       "<style>#sk-container-id-2 {color: black;}#sk-container-id-2 pre{padding: 0;}#sk-container-id-2 div.sk-toggleable {background-color: white;}#sk-container-id-2 label.sk-toggleable__label {cursor: pointer;display: block;width: 100%;margin-bottom: 0;padding: 0.3em;box-sizing: border-box;text-align: center;}#sk-container-id-2 label.sk-toggleable__label-arrow:before {content: \"▸\";float: left;margin-right: 0.25em;color: #696969;}#sk-container-id-2 label.sk-toggleable__label-arrow:hover:before {color: black;}#sk-container-id-2 div.sk-estimator:hover label.sk-toggleable__label-arrow:before {color: black;}#sk-container-id-2 div.sk-toggleable__content {max-height: 0;max-width: 0;overflow: hidden;text-align: left;background-color: #f0f8ff;}#sk-container-id-2 div.sk-toggleable__content pre {margin: 0.2em;color: black;border-radius: 0.25em;background-color: #f0f8ff;}#sk-container-id-2 input.sk-toggleable__control:checked~div.sk-toggleable__content {max-height: 200px;max-width: 100%;overflow: auto;}#sk-container-id-2 input.sk-toggleable__control:checked~label.sk-toggleable__label-arrow:before {content: \"▾\";}#sk-container-id-2 div.sk-estimator input.sk-toggleable__control:checked~label.sk-toggleable__label {background-color: #d4ebff;}#sk-container-id-2 div.sk-label input.sk-toggleable__control:checked~label.sk-toggleable__label {background-color: #d4ebff;}#sk-container-id-2 input.sk-hidden--visually {border: 0;clip: rect(1px 1px 1px 1px);clip: rect(1px, 1px, 1px, 1px);height: 1px;margin: -1px;overflow: hidden;padding: 0;position: absolute;width: 1px;}#sk-container-id-2 div.sk-estimator {font-family: monospace;background-color: #f0f8ff;border: 1px dotted black;border-radius: 0.25em;box-sizing: border-box;margin-bottom: 0.5em;}#sk-container-id-2 div.sk-estimator:hover {background-color: #d4ebff;}#sk-container-id-2 div.sk-parallel-item::after {content: \"\";width: 100%;border-bottom: 1px solid gray;flex-grow: 1;}#sk-container-id-2 div.sk-label:hover label.sk-toggleable__label {background-color: #d4ebff;}#sk-container-id-2 div.sk-serial::before {content: \"\";position: absolute;border-left: 1px solid gray;box-sizing: border-box;top: 0;bottom: 0;left: 50%;z-index: 0;}#sk-container-id-2 div.sk-serial {display: flex;flex-direction: column;align-items: center;background-color: white;padding-right: 0.2em;padding-left: 0.2em;position: relative;}#sk-container-id-2 div.sk-item {position: relative;z-index: 1;}#sk-container-id-2 div.sk-parallel {display: flex;align-items: stretch;justify-content: center;background-color: white;position: relative;}#sk-container-id-2 div.sk-item::before, #sk-container-id-2 div.sk-parallel-item::before {content: \"\";position: absolute;border-left: 1px solid gray;box-sizing: border-box;top: 0;bottom: 0;left: 50%;z-index: -1;}#sk-container-id-2 div.sk-parallel-item {display: flex;flex-direction: column;z-index: 1;position: relative;background-color: white;}#sk-container-id-2 div.sk-parallel-item:first-child::after {align-self: flex-end;width: 50%;}#sk-container-id-2 div.sk-parallel-item:last-child::after {align-self: flex-start;width: 50%;}#sk-container-id-2 div.sk-parallel-item:only-child::after {width: 0;}#sk-container-id-2 div.sk-dashed-wrapped {border: 1px dashed gray;margin: 0 0.4em 0.5em 0.4em;box-sizing: border-box;padding-bottom: 0.4em;background-color: white;}#sk-container-id-2 div.sk-label label {font-family: monospace;font-weight: bold;display: inline-block;line-height: 1.2em;}#sk-container-id-2 div.sk-label-container {text-align: center;}#sk-container-id-2 div.sk-container {/* jupyter's `normalize.less` sets `[hidden] { display: none; }` but bootstrap.min.css set `[hidden] { display: none !important; }` so we also need the `!important` here to be able to override the default hidden behavior on the sphinx rendered scikit-learn.org. See: https://github.com/scikit-learn/scikit-learn/issues/21755 */display: inline-block !important;position: relative;}#sk-container-id-2 div.sk-text-repr-fallback {display: none;}</style><div id=\"sk-container-id-2\" class=\"sk-top-container\"><div class=\"sk-text-repr-fallback\"><pre>RandomForestClassifier()</pre><b>In a Jupyter environment, please rerun this cell to show the HTML representation or trust the notebook. <br />On GitHub, the HTML representation is unable to render, please try loading this page with nbviewer.org.</b></div><div class=\"sk-container\" hidden><div class=\"sk-item\"><div class=\"sk-estimator sk-toggleable\"><input class=\"sk-toggleable__control sk-hidden--visually\" id=\"sk-estimator-id-2\" type=\"checkbox\" checked><label for=\"sk-estimator-id-2\" class=\"sk-toggleable__label sk-toggleable__label-arrow\">RandomForestClassifier</label><div class=\"sk-toggleable__content\"><pre>RandomForestClassifier()</pre></div></div></div></div></div>"
      ],
      "text/plain": [
       "RandomForestClassifier()"
      ]
     },
     "execution_count": 29,
     "metadata": {},
     "output_type": "execute_result"
    }
   ],
   "source": [
    "# Train an AdaBoost classifier\n",
    "rforest_clf = RandomForestClassifier()\n",
    "rforest_clf.fit(X, y)"
   ]
  },
  {
   "cell_type": "code",
   "execution_count": 30,
   "metadata": {},
   "outputs": [
    {
     "name": "stdout",
     "output_type": "stream",
     "text": [
      "Index(['Length_of_URL', 'Has_IP_address', 'Shortening_Service',\n",
      "       'Having_@_Symbol', 'Double_Slash_Redirecting', 'Prefix-Suffix', 'CTLD',\n",
      "       'HTTPS_in_Domain', 'Sensitive_Words', 'Has_Tilde', 'Has_Port',\n",
      "       'PhishID', 'frequency_of_a_tags', 'frequency_of_alltags',\n",
      "       'presence_of_iframes', 'presence_of_popups', 'right_click_disabling',\n",
      "       'checking_sfh', 'request_url', 'url-of-anchor', 'links_in_meta_img',\n",
      "       'check_hidden_content', 'Current_Domain_Age', 'Matching_Domain_Name',\n",
      "       'Length_of_Domain', 'Google_page_index', 'Result'],\n",
      "      dtype='object')\n",
      "Index(['Length_of_URL', 'Has_IP_address', 'Shortening_Service',\n",
      "       'Having_@_Symbol', 'Double_Slash_Redirecting', 'Prefix-Suffix', 'CTLD',\n",
      "       'HTTPS_in_Domain', 'Sensitive_Words', 'Has_Tilde', 'Has_Port',\n",
      "       'PhishID', 'frequency_of_a_tags', 'frequency_of_alltags',\n",
      "       'presence_of_iframes', 'presence_of_popups', 'right_click_disabling',\n",
      "       'checking_sfh', 'request_url', 'url-of-anchor', 'links_in_meta_img',\n",
      "       'check_hidden_content', 'Current_Domain_Age', 'Matching_Domain_Name',\n",
      "       'Length_of_Domain', 'Google_page_index', 'Result'],\n",
      "      dtype='object')\n"
     ]
    }
   ],
   "source": [
    "print(train_data.columns)\n",
    "print(test_data.columns)"
   ]
  },
  {
   "cell_type": "code",
   "execution_count": 31,
   "metadata": {},
   "outputs": [],
   "source": [
    "# Make predictions on the test data\n",
    "test_predictions = rforest_clf.predict(test_data[features])"
   ]
  },
  {
   "cell_type": "code",
   "execution_count": 32,
   "metadata": {},
   "outputs": [],
   "source": [
    "# Load 'legitimate_updated.xlsx' and update 'adaboost' column\n",
    "# Path for Lab PC\n",
    "file_path = '/home/administrator/Documents/Phishing-Verification/Validation/Legitimate_Updated.xlsx'\n",
    "# df = pd.read_excel(file_path)\n",
    "# df['adaboost'] = df['PhishID'].map(phishid_to_result)\n",
    "df = pd.read_excel(file_path)"
   ]
  },
  {
   "cell_type": "code",
   "execution_count": 33,
   "metadata": {},
   "outputs": [],
   "source": [
    "# Create a mapping of PhishID to results\n",
    "phishid_to_result = dict(zip(testPhishID, test_predictions))"
   ]
  },
  {
   "cell_type": "code",
   "execution_count": 34,
   "metadata": {},
   "outputs": [],
   "source": [
    "# Iterate through each row in the DataFrame and update 'adaboost' column\n",
    "for index, row in df.iterrows():\n",
    "    phish_id = row['PhishID']\n",
    "    if phish_id in phishid_to_result:\n",
    "        df.at[index, 'Random-Forest'] = phishid_to_result[phish_id]\n",
    "    else:\n",
    "        df.at[index, 'Random-Forest'] = 0  # Write 0 when mapping is not found"
   ]
  },
  {
   "cell_type": "code",
   "execution_count": 35,
   "metadata": {},
   "outputs": [],
   "source": [
    "# Save the updated 'legitimate_updated.xlsx'\n",
    "df.to_excel(file_path, index=False)"
   ]
  },
  {
   "cell_type": "code",
   "execution_count": 36,
   "metadata": {},
   "outputs": [
    {
     "name": "stdout",
     "output_type": "stream",
     "text": [
      "Test Accuracy: 0.9264705882352942\n"
     ]
    }
   ],
   "source": [
    "# Display the accuracy on the test data\n",
    "test_accuracy = accuracy_score(test_data['Result'], test_predictions)\n",
    "print(\"Test Accuracy:\", test_accuracy)"
   ]
  }
 ],
 "metadata": {
  "kernelspec": {
   "display_name": "Python 3",
   "language": "python",
   "name": "python3"
  },
  "language_info": {
   "codemirror_mode": {
    "name": "ipython",
    "version": 3
   },
   "file_extension": ".py",
   "mimetype": "text/x-python",
   "name": "python",
   "nbconvert_exporter": "python",
   "pygments_lexer": "ipython3",
   "version": "3.10.12"
  },
  "orig_nbformat": 4
 },
 "nbformat": 4,
 "nbformat_minor": 2
}
