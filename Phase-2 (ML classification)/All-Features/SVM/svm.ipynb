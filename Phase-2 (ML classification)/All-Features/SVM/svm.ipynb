{
 "cells": [
  {
   "cell_type": "code",
   "execution_count": 1,
   "metadata": {},
   "outputs": [
    {
     "name": "stderr",
     "output_type": "stream",
     "text": [
      "/home/administrator/.local/lib/python3.8/site-packages/sklearn/experimental/enable_hist_gradient_boosting.py:15: UserWarning: Since version 1.0, it is not needed to import enable_hist_gradient_boosting anymore. HistGradientBoostingClassifier and HistGradientBoostingRegressor are now stable and can be normally imported from sklearn.ensemble.\n",
      "  warnings.warn(\n"
     ]
    }
   ],
   "source": [
    "import pandas as pd\n",
    "import sklearn\n",
    "import os\n",
    "from sklearn.model_selection import train_test_split\n",
    "from sklearn import preprocessing\n",
    "from sklearn.metrics import confusion_matrix\n",
    "from sklearn.metrics import accuracy_score\n",
    "from sklearn.metrics import classification_report\n",
    "from sklearn.model_selection import KFold\n",
    "from sklearn.tree import DecisionTreeClassifier\n",
    "from sklearn.model_selection import cross_validate\n",
    "from sklearn.neural_network import MLPClassifier\n",
    "from sklearn.neighbors import KNeighborsClassifier\n",
    "from sklearn.ensemble import RandomForestClassifier\n",
    "from sklearn import svm , preprocessing\n",
    "from sklearn.ensemble import AdaBoostClassifier\n",
    "from sklearn.linear_model import LogisticRegression\n",
    "from sklearn.ensemble import GradientBoostingClassifier\n",
    "from xgboost import XGBClassifier\n",
    "from sklearn.ensemble import GradientBoostingClassifier\n",
    "from sklearn.experimental import enable_hist_gradient_boosting\n",
    "from sklearn.ensemble import HistGradientBoostingClassifier\n",
    "from lightgbm import LGBMClassifier\n",
    "from catboost import CatBoostClassifier"
   ]
  },
  {
   "cell_type": "code",
   "execution_count": 2,
   "metadata": {},
   "outputs": [],
   "source": [
    "def mean_score(scoring):\n",
    "    return {i:j.mean() for i,j in scoring.items()}"
   ]
  },
  {
   "cell_type": "code",
   "execution_count": 3,
   "metadata": {},
   "outputs": [],
   "source": [
    "# Get the parent directory of the current folder\n",
    "parent_dir = os.path.abspath(os.path.join(os.getcwd(), os.pardir))\n",
    "\n",
    "# Specify the file path for dataset.csv in the parent folder\n",
    "filename = os.path.join(parent_dir, \"dataset.csv\")\n",
    "df = pd.read_csv(filename)"
   ]
  },
  {
   "cell_type": "code",
   "execution_count": 3,
   "metadata": {},
   "outputs": [],
   "source": [
    "# Get the parent directory of the current folder\n",
    "parent_dir = os.path.abspath(os.path.join(os.getcwd(), os.pardir))\n",
    "\n",
    "# Specify the file path for dataset.csv in the parent folder\n",
    "filename = os.path.join(parent_dir, \"dataset-1.csv\")\n",
    "df = pd.read_csv(filename)"
   ]
  },
  {
   "cell_type": "code",
   "execution_count": 3,
   "metadata": {},
   "outputs": [],
   "source": [
    "# Get the parent directory of the current folder\n",
    "parent_dir = os.path.abspath(os.path.join(os.getcwd(), os.pardir))\n",
    "\n",
    "# Specify the file path for dataset.csv in the parent folder\n",
    "filename = os.path.join(parent_dir, \"dataset-2.csv\")\n",
    "df = pd.read_csv(filename)"
   ]
  },
  {
   "cell_type": "code",
   "execution_count": 4,
   "metadata": {},
   "outputs": [
    {
     "data": {
      "text/plain": [
       "Index(['Length of URL', 'Has IP address', 'Shortening Service',\n",
       "       'Having @ Symbol', 'Double Slash Redirecting', 'Prefix-Suffix', 'CTLD',\n",
       "       'HTTPS in Domain', 'Sensitive Words', 'Has Tilde', 'Has Port',\n",
       "       'PhishID', 'frequency_of_a_tags', 'frequency_of_alltags',\n",
       "       'presence_of_iframes', 'presence_of_popups', 'right_click_disabling',\n",
       "       'checking_sfh', 'request_url', 'url-of-anchor', 'links_in_meta_img',\n",
       "       'check_hidden_content', 'Current Domain Age', 'Matching Domain Name',\n",
       "       'Length of Domain', 'Google page index', 'Result'],\n",
       "      dtype='object')"
      ]
     },
     "execution_count": 4,
     "metadata": {},
     "output_type": "execute_result"
    }
   ],
   "source": [
    "df.columns"
   ]
  },
  {
   "cell_type": "code",
   "execution_count": 5,
   "metadata": {},
   "outputs": [
    {
     "data": {
      "text/plain": [
       "(5790, 27)"
      ]
     },
     "execution_count": 5,
     "metadata": {},
     "output_type": "execute_result"
    }
   ],
   "source": [
    "df.shape"
   ]
  },
  {
   "cell_type": "code",
   "execution_count": 6,
   "metadata": {},
   "outputs": [],
   "source": [
    "data_no_duplicates = df.drop_duplicates()\n",
    "df = data_no_duplicates.dropna()"
   ]
  },
  {
   "cell_type": "code",
   "execution_count": 7,
   "metadata": {},
   "outputs": [],
   "source": [
    "df = df.drop('PhishID', axis = 1)"
   ]
  },
  {
   "cell_type": "code",
   "execution_count": 8,
   "metadata": {},
   "outputs": [],
   "source": [
    "df.rename(columns={'Length of URL':'Length_of_URL', 'Has IP address':'Has_IP_address', 'Shortening Service':'Shortening_Service', 'Having @ Symbol':'Having_@_Symbol', 'Double Slash Redirecting':'Double_Slash_Redirecting', 'Prefix-Suffix':'Prefix-Suffix', 'CTLD':'CTLD', 'HTTPS in Domain':'HTTPS_in_Domain', 'Sensitive Words':'Sensitive_Words', 'Has Tilde':'Has_Tilde', 'Has Port':'Has_Port', 'Current Domain Age':'Current_Domain_Age' , 'Matching Domain Name':'Matching_Domain_Name', 'Length of Domain':'Length_of_Domain', 'Google page index':'Google_page_index','Result':'Result'}, inplace=True)"
   ]
  },
  {
   "cell_type": "code",
   "execution_count": 9,
   "metadata": {},
   "outputs": [
    {
     "data": {
      "text/plain": [
       "(5790, 26)"
      ]
     },
     "execution_count": 9,
     "metadata": {},
     "output_type": "execute_result"
    }
   ],
   "source": [
    "df.shape"
   ]
  },
  {
   "cell_type": "code",
   "execution_count": 10,
   "metadata": {},
   "outputs": [
    {
     "name": "stdout",
     "output_type": "stream",
     "text": [
      "['-1' '1' 'frequency_of_a_tags']\n",
      "['1' '0' '-1' 'frequency_of_alltags']\n",
      "['1' 'presence_of_iframes']\n",
      "['1' '-1' 'presence_of_popups']\n",
      "['1' 'right_click_disabling' '-1']\n",
      "['-1' '1' 'checking_sfh']\n",
      "['-1' '1' '0' 'request_url']\n",
      "['-1' '0' '1' 'url-of-anchor']\n",
      "['-1' '1' '0' 'links_in_meta_img']\n",
      "['1' 'Result' '-1']\n",
      "['1' '-1' 'Has IP address']\n",
      "['-1' '1' 'Shortening Service']\n",
      "['1' '-1' 'Having @ Symbol']\n",
      "['1' '-1' 'Double Slash Redirecting']\n",
      "['-1' '1' 'Prefix-Suffix']\n",
      "['1' '-1' '0' 'CTLD']\n",
      "['-1' 'HTTPS in Domain']\n",
      "['1' '-1' 'Sensitive Words']\n",
      "['1' '-1' 'Has Tilde']\n",
      "['-1' '1' 'Has Port']\n",
      "['1' '-1' 'check_hidden_content']\n",
      "['1' 'Result' '-1']\n"
     ]
    }
   ],
   "source": [
    "# Investigate unique values in the each column\n",
    "unique_frequency_a = df['frequency_of_a_tags'].unique()\n",
    "unique_all = df['frequency_of_alltags'].unique()\n",
    "unique_iframes = df['presence_of_iframes'].unique()\n",
    "unique_popups = df['presence_of_popups'].unique()\n",
    "unique_rightclick = df['right_click_disabling'].unique()\n",
    "unique_sfh = df['checking_sfh'].unique()\n",
    "unique_request = df['request_url'].unique()\n",
    "unique_url = df['url-of-anchor'].unique()\n",
    "unique_meta = df['links_in_meta_img'].unique()\n",
    "unique_R = df['Result'].unique()\n",
    "unique_IP = df['Has_IP_address'].unique()\n",
    "unique_SS = df['Shortening_Service'].unique()\n",
    "unique_HAS = df['Having_@_Symbol'].unique()\n",
    "unique_DSR = df['Double_Slash_Redirecting'].unique()\n",
    "unique_PS = df['Prefix-Suffix'].unique()\n",
    "unique_CTLD = df['CTLD'].unique()\n",
    "unique_HID = df['HTTPS_in_Domain'].unique()\n",
    "unique_SW = df['Sensitive_Words'].unique()\n",
    "unique_HT = df['Has_Tilde'].unique()\n",
    "unique_HP = df['Has_Port'].unique()\n",
    "unique_hidden = df['check_hidden_content'].unique()\n",
    "unique_R = df['Result'].unique()\n",
    "\n",
    "print(unique_frequency_a)\n",
    "print(unique_all)\n",
    "print(unique_iframes)\n",
    "print(unique_popups)\n",
    "print(unique_rightclick)\n",
    "print(unique_sfh)\n",
    "print(unique_request)\n",
    "print(unique_url)\n",
    "print(unique_meta)\n",
    "print(unique_R)\n",
    "print(unique_IP)\n",
    "print(unique_SS)\n",
    "print(unique_HAS)\n",
    "print(unique_DSR)\n",
    "print(unique_PS)\n",
    "print(unique_CTLD)\n",
    "print(unique_HID)\n",
    "print(unique_SW)\n",
    "print(unique_HT)\n",
    "print(unique_HP)\n",
    "print(unique_hidden)\n",
    "print(unique_R)"
   ]
  },
  {
   "cell_type": "code",
   "execution_count": 11,
   "metadata": {},
   "outputs": [],
   "source": [
    "validValues = {-1, 0, 1}\n",
    "\n",
    "for column in df.columns:\n",
    "    df[column] = pd.to_numeric(df[column], errors='coerce')\n",
    "    df = df[df[column].isin(validValues)]\n",
    "\n",
    "# Convert all columns to integers (again after the filtering)\n",
    "df = df.astype(int)"
   ]
  },
  {
   "cell_type": "code",
   "execution_count": 12,
   "metadata": {},
   "outputs": [
    {
     "name": "stdout",
     "output_type": "stream",
     "text": [
      "      Length_of_URL  Has_IP_address  Shortening_Service  Having_@_Symbol  \\\n",
      "0                 1               1                  -1                1   \n",
      "1                 1               1                   1                1   \n",
      "2                 1               1                   1                1   \n",
      "3                 1               1                   1                1   \n",
      "4                 1               1                   1                1   \n",
      "...             ...             ...                 ...              ...   \n",
      "5785              1               1                   1                1   \n",
      "5786              1               1                   1                1   \n",
      "5787              1               1                   1                1   \n",
      "5788              1               1                   1                1   \n",
      "5789              1               1                   1                1   \n",
      "\n",
      "      Double_Slash_Redirecting  Prefix-Suffix  CTLD  HTTPS_in_Domain  \\\n",
      "0                            1             -1     1               -1   \n",
      "1                            1              1     1               -1   \n",
      "2                            1              1     1               -1   \n",
      "3                            1              1    -1               -1   \n",
      "4                            1              1     0               -1   \n",
      "...                        ...            ...   ...              ...   \n",
      "5785                         1              1     0               -1   \n",
      "5786                         1              1     0               -1   \n",
      "5787                         1              1     0               -1   \n",
      "5788                         1              1     0               -1   \n",
      "5789                         1              1     1               -1   \n",
      "\n",
      "      Sensitive_Words  Has_Tilde  ...  checking_sfh  request_url  \\\n",
      "0                   1          1  ...            -1           -1   \n",
      "1                  -1          1  ...            -1            1   \n",
      "2                  -1          1  ...            -1            1   \n",
      "3                   1          1  ...            -1           -1   \n",
      "4                   1          1  ...            -1           -1   \n",
      "...               ...        ...  ...           ...          ...   \n",
      "5785                1          1  ...            -1            1   \n",
      "5786                1          1  ...            -1           -1   \n",
      "5787                1          1  ...            -1           -1   \n",
      "5788                1          1  ...            -1           -1   \n",
      "5789                1          1  ...            -1            1   \n",
      "\n",
      "      url-of-anchor  links_in_meta_img  check_hidden_content  \\\n",
      "0                -1                 -1                     1   \n",
      "1                -1                  1                     1   \n",
      "2                -1                  1                     1   \n",
      "3                 0                  1                    -1   \n",
      "4                -1                  1                    -1   \n",
      "...             ...                ...                   ...   \n",
      "5785             -1                  0                     1   \n",
      "5786             -1                  1                     1   \n",
      "5787             -1                  1                     1   \n",
      "5788             -1                  0                    -1   \n",
      "5789              1                  1                     1   \n",
      "\n",
      "      Current_Domain_Age  Matching_Domain_Name  Length_of_Domain  \\\n",
      "0                      1                     1                 1   \n",
      "1                      1                    -1                 1   \n",
      "2                      1                    -1                 1   \n",
      "3                     -1                    -1                -1   \n",
      "4                      1                    -1                 1   \n",
      "...                  ...                   ...               ...   \n",
      "5785                   1                    -1                 1   \n",
      "5786                   0                     0                 0   \n",
      "5787                   0                     0                 0   \n",
      "5788                   0                     0                 0   \n",
      "5789                   1                    -1                 1   \n",
      "\n",
      "      Google_page_index  Result  \n",
      "0                     1       1  \n",
      "1                     1       1  \n",
      "2                     1       1  \n",
      "3                     1       1  \n",
      "4                     1       1  \n",
      "...                 ...     ...  \n",
      "5785                  1      -1  \n",
      "5786                  1      -1  \n",
      "5787                  1      -1  \n",
      "5788                  1      -1  \n",
      "5789                  1      -1  \n",
      "\n",
      "[5789 rows x 26 columns]\n"
     ]
    }
   ],
   "source": [
    "# Now you can use the DataFrame with valid integer values (1, -1, and 0)\n",
    "print(df)"
   ]
  },
  {
   "cell_type": "code",
   "execution_count": 13,
   "metadata": {},
   "outputs": [
    {
     "data": {
      "text/plain": [
       "(5789, 26)"
      ]
     },
     "execution_count": 13,
     "metadata": {},
     "output_type": "execute_result"
    }
   ],
   "source": [
    "df.shape"
   ]
  },
  {
   "cell_type": "code",
   "execution_count": 14,
   "metadata": {},
   "outputs": [
    {
     "data": {
      "text/html": [
       "<div>\n",
       "<style scoped>\n",
       "    .dataframe tbody tr th:only-of-type {\n",
       "        vertical-align: middle;\n",
       "    }\n",
       "\n",
       "    .dataframe tbody tr th {\n",
       "        vertical-align: top;\n",
       "    }\n",
       "\n",
       "    .dataframe thead th {\n",
       "        text-align: right;\n",
       "    }\n",
       "</style>\n",
       "<table border=\"1\" class=\"dataframe\">\n",
       "  <thead>\n",
       "    <tr style=\"text-align: right;\">\n",
       "      <th></th>\n",
       "      <th>Length_of_URL</th>\n",
       "      <th>Has_IP_address</th>\n",
       "      <th>Shortening_Service</th>\n",
       "      <th>Having_@_Symbol</th>\n",
       "      <th>Double_Slash_Redirecting</th>\n",
       "      <th>Prefix-Suffix</th>\n",
       "      <th>CTLD</th>\n",
       "      <th>HTTPS_in_Domain</th>\n",
       "      <th>Sensitive_Words</th>\n",
       "      <th>Has_Tilde</th>\n",
       "      <th>...</th>\n",
       "      <th>checking_sfh</th>\n",
       "      <th>request_url</th>\n",
       "      <th>url-of-anchor</th>\n",
       "      <th>links_in_meta_img</th>\n",
       "      <th>check_hidden_content</th>\n",
       "      <th>Current_Domain_Age</th>\n",
       "      <th>Matching_Domain_Name</th>\n",
       "      <th>Length_of_Domain</th>\n",
       "      <th>Google_page_index</th>\n",
       "      <th>Result</th>\n",
       "    </tr>\n",
       "  </thead>\n",
       "  <tbody>\n",
       "    <tr>\n",
       "      <th>3651</th>\n",
       "      <td>1</td>\n",
       "      <td>1</td>\n",
       "      <td>1</td>\n",
       "      <td>1</td>\n",
       "      <td>1</td>\n",
       "      <td>1</td>\n",
       "      <td>0</td>\n",
       "      <td>-1</td>\n",
       "      <td>1</td>\n",
       "      <td>1</td>\n",
       "      <td>...</td>\n",
       "      <td>-1</td>\n",
       "      <td>-1</td>\n",
       "      <td>-1</td>\n",
       "      <td>-1</td>\n",
       "      <td>-1</td>\n",
       "      <td>0</td>\n",
       "      <td>0</td>\n",
       "      <td>0</td>\n",
       "      <td>1</td>\n",
       "      <td>-1</td>\n",
       "    </tr>\n",
       "    <tr>\n",
       "      <th>734</th>\n",
       "      <td>1</td>\n",
       "      <td>1</td>\n",
       "      <td>1</td>\n",
       "      <td>1</td>\n",
       "      <td>1</td>\n",
       "      <td>1</td>\n",
       "      <td>1</td>\n",
       "      <td>-1</td>\n",
       "      <td>1</td>\n",
       "      <td>1</td>\n",
       "      <td>...</td>\n",
       "      <td>-1</td>\n",
       "      <td>-1</td>\n",
       "      <td>-1</td>\n",
       "      <td>0</td>\n",
       "      <td>1</td>\n",
       "      <td>0</td>\n",
       "      <td>-1</td>\n",
       "      <td>0</td>\n",
       "      <td>1</td>\n",
       "      <td>1</td>\n",
       "    </tr>\n",
       "    <tr>\n",
       "      <th>403</th>\n",
       "      <td>1</td>\n",
       "      <td>1</td>\n",
       "      <td>-1</td>\n",
       "      <td>1</td>\n",
       "      <td>1</td>\n",
       "      <td>1</td>\n",
       "      <td>1</td>\n",
       "      <td>-1</td>\n",
       "      <td>1</td>\n",
       "      <td>1</td>\n",
       "      <td>...</td>\n",
       "      <td>-1</td>\n",
       "      <td>-1</td>\n",
       "      <td>-1</td>\n",
       "      <td>-1</td>\n",
       "      <td>1</td>\n",
       "      <td>1</td>\n",
       "      <td>-1</td>\n",
       "      <td>1</td>\n",
       "      <td>1</td>\n",
       "      <td>1</td>\n",
       "    </tr>\n",
       "    <tr>\n",
       "      <th>1026</th>\n",
       "      <td>-1</td>\n",
       "      <td>1</td>\n",
       "      <td>1</td>\n",
       "      <td>1</td>\n",
       "      <td>1</td>\n",
       "      <td>1</td>\n",
       "      <td>0</td>\n",
       "      <td>-1</td>\n",
       "      <td>1</td>\n",
       "      <td>1</td>\n",
       "      <td>...</td>\n",
       "      <td>-1</td>\n",
       "      <td>-1</td>\n",
       "      <td>-1</td>\n",
       "      <td>0</td>\n",
       "      <td>-1</td>\n",
       "      <td>1</td>\n",
       "      <td>-1</td>\n",
       "      <td>1</td>\n",
       "      <td>1</td>\n",
       "      <td>1</td>\n",
       "    </tr>\n",
       "    <tr>\n",
       "      <th>1319</th>\n",
       "      <td>1</td>\n",
       "      <td>1</td>\n",
       "      <td>1</td>\n",
       "      <td>1</td>\n",
       "      <td>1</td>\n",
       "      <td>1</td>\n",
       "      <td>1</td>\n",
       "      <td>-1</td>\n",
       "      <td>1</td>\n",
       "      <td>1</td>\n",
       "      <td>...</td>\n",
       "      <td>-1</td>\n",
       "      <td>-1</td>\n",
       "      <td>1</td>\n",
       "      <td>-1</td>\n",
       "      <td>1</td>\n",
       "      <td>1</td>\n",
       "      <td>-1</td>\n",
       "      <td>1</td>\n",
       "      <td>1</td>\n",
       "      <td>1</td>\n",
       "    </tr>\n",
       "  </tbody>\n",
       "</table>\n",
       "<p>5 rows × 26 columns</p>\n",
       "</div>"
      ],
      "text/plain": [
       "      Length_of_URL  Has_IP_address  Shortening_Service  Having_@_Symbol  \\\n",
       "3651              1               1                   1                1   \n",
       "734               1               1                   1                1   \n",
       "403               1               1                  -1                1   \n",
       "1026             -1               1                   1                1   \n",
       "1319              1               1                   1                1   \n",
       "\n",
       "      Double_Slash_Redirecting  Prefix-Suffix  CTLD  HTTPS_in_Domain  \\\n",
       "3651                         1              1     0               -1   \n",
       "734                          1              1     1               -1   \n",
       "403                          1              1     1               -1   \n",
       "1026                         1              1     0               -1   \n",
       "1319                         1              1     1               -1   \n",
       "\n",
       "      Sensitive_Words  Has_Tilde  ...  checking_sfh  request_url  \\\n",
       "3651                1          1  ...            -1           -1   \n",
       "734                 1          1  ...            -1           -1   \n",
       "403                 1          1  ...            -1           -1   \n",
       "1026                1          1  ...            -1           -1   \n",
       "1319                1          1  ...            -1           -1   \n",
       "\n",
       "      url-of-anchor  links_in_meta_img  check_hidden_content  \\\n",
       "3651             -1                 -1                    -1   \n",
       "734              -1                  0                     1   \n",
       "403              -1                 -1                     1   \n",
       "1026             -1                  0                    -1   \n",
       "1319              1                 -1                     1   \n",
       "\n",
       "      Current_Domain_Age  Matching_Domain_Name  Length_of_Domain  \\\n",
       "3651                   0                     0                 0   \n",
       "734                    0                    -1                 0   \n",
       "403                    1                    -1                 1   \n",
       "1026                   1                    -1                 1   \n",
       "1319                   1                    -1                 1   \n",
       "\n",
       "      Google_page_index  Result  \n",
       "3651                  1      -1  \n",
       "734                   1       1  \n",
       "403                   1       1  \n",
       "1026                  1       1  \n",
       "1319                  1       1  \n",
       "\n",
       "[5 rows x 26 columns]"
      ]
     },
     "execution_count": 14,
     "metadata": {},
     "output_type": "execute_result"
    }
   ],
   "source": [
    "df = sklearn.utils.shuffle(df)\n",
    "X = df.drop(\"Result\",axis=1).values\n",
    "X = preprocessing.scale(X)\n",
    "y = df['Result'].values\n",
    "df.head()"
   ]
  },
  {
   "cell_type": "code",
   "execution_count": 15,
   "metadata": {},
   "outputs": [],
   "source": [
    "scoring = {'accuracy': 'accuracy',\n",
    "           'recall': 'recall',\n",
    "           'precision': 'precision',\n",
    "           'f1': 'f1'}\n",
    "fold_count=10"
   ]
  },
  {
   "attachments": {},
   "cell_type": "markdown",
   "metadata": {},
   "source": [
    "## SVM-Linear"
   ]
  },
  {
   "cell_type": "code",
   "execution_count": 15,
   "metadata": {},
   "outputs": [
    {
     "name": "stdout",
     "output_type": "stream",
     "text": [
      "fit time = 0.8711541414260864\n",
      "score time = 0.032554793357849124\n",
      "accuracy = 0.7718890980007093\n",
      "recall = 0.8657817109144543\n",
      "precision = 0.7613558680971304\n",
      "f1 = 0.8096258720703545\n"
     ]
    }
   ],
   "source": [
    "linear_clf = svm.SVC(kernel='linear')\n",
    "cross_val_scores = cross_validate(linear_clf, X, y, cv=fold_count, scoring=scoring)\n",
    "linear_svc_clf_score = mean_score(cross_val_scores)\n",
    "\n",
    "print(f\"fit time = {linear_svc_clf_score['fit_time']}\")\n",
    "print(f\"score time = {linear_svc_clf_score['score_time']}\")\n",
    "print(f\"accuracy = {linear_svc_clf_score['test_accuracy']}\")\n",
    "print(f\"recall = {linear_svc_clf_score['test_recall']}\")\n",
    "print(f\"precision = {linear_svc_clf_score['test_precision']}\")\n",
    "print(f\"f1 = {linear_svc_clf_score['test_f1']}\")"
   ]
  },
  {
   "cell_type": "code",
   "execution_count": 16,
   "metadata": {},
   "outputs": [
    {
     "name": "stdout",
     "output_type": "stream",
     "text": [
      "fit time = 0.818039846420288\n",
      "score time = 0.03371896743774414\n",
      "accuracy = 0.7568529580230751\n",
      "recall = 0.8799410029498527\n",
      "precision = 0.7379304438628072\n",
      "f1 = 0.8023473872685596\n"
     ]
    }
   ],
   "source": [
    "linear_clf = svm.SVC(kernel='linear')\n",
    "cross_val_scores = cross_validate(linear_clf, X, y, cv=fold_count, scoring=scoring)\n",
    "linear_svc_clf_score = mean_score(cross_val_scores)\n",
    "\n",
    "print(f\"fit time = {linear_svc_clf_score['fit_time']}\")\n",
    "print(f\"score time = {linear_svc_clf_score['score_time']}\")\n",
    "print(f\"accuracy = {linear_svc_clf_score['test_accuracy']}\")\n",
    "print(f\"recall = {linear_svc_clf_score['test_recall']}\")\n",
    "print(f\"precision = {linear_svc_clf_score['test_precision']}\")\n",
    "print(f\"f1 = {linear_svc_clf_score['test_f1']}\")"
   ]
  },
  {
   "cell_type": "code",
   "execution_count": 16,
   "metadata": {},
   "outputs": [
    {
     "name": "stdout",
     "output_type": "stream",
     "text": [
      "fit time = 1.0045106410980225\n",
      "score time = 0.03304333686828613\n",
      "accuracy = 0.8013500188249637\n",
      "recall = 0.8752225519287833\n",
      "precision = 0.8028564016504118\n",
      "f1 = 0.837155006175939\n"
     ]
    }
   ],
   "source": [
    "linear_clf = svm.SVC(kernel='linear')\n",
    "cross_val_scores = cross_validate(linear_clf, X, y, cv=fold_count, scoring=scoring)\n",
    "linear_svc_clf_score = mean_score(cross_val_scores)\n",
    "\n",
    "print(f\"fit time = {linear_svc_clf_score['fit_time']}\")\n",
    "print(f\"score time = {linear_svc_clf_score['score_time']}\")\n",
    "print(f\"accuracy = {linear_svc_clf_score['test_accuracy']}\")\n",
    "print(f\"recall = {linear_svc_clf_score['test_recall']}\")\n",
    "print(f\"precision = {linear_svc_clf_score['test_precision']}\")\n",
    "print(f\"f1 = {linear_svc_clf_score['test_f1']}\")"
   ]
  },
  {
   "attachments": {},
   "cell_type": "markdown",
   "metadata": {},
   "source": [
    "## SVM-Polynomial"
   ]
  },
  {
   "cell_type": "code",
   "execution_count": 16,
   "metadata": {},
   "outputs": [
    {
     "name": "stdout",
     "output_type": "stream",
     "text": [
      "fit time = 0.6004741430282593\n",
      "score time = 0.03973212242126465\n",
      "accuracy = 0.8153263508169\n",
      "recall = 0.9100294985250738\n",
      "precision = 0.7916379904930075\n",
      "f1 = 0.8466195314006896\n"
     ]
    }
   ],
   "source": [
    "poly_clf = svm.SVC(kernel='poly')\n",
    "cross_val_scores = cross_validate(poly_clf, X, y, cv=fold_count, scoring=scoring)\n",
    "poly_svc_clf_score = mean_score(cross_val_scores)\n",
    "\n",
    "print(f\"fit time = {poly_svc_clf_score['fit_time']}\")\n",
    "print(f\"score time = {poly_svc_clf_score['score_time']}\")\n",
    "print(f\"accuracy = {poly_svc_clf_score['test_accuracy']}\")\n",
    "print(f\"recall = {poly_svc_clf_score['test_recall']}\")\n",
    "print(f\"precision = {poly_svc_clf_score['test_precision']}\")\n",
    "print(f\"f1 = {poly_svc_clf_score['test_f1']}\")"
   ]
  },
  {
   "cell_type": "code",
   "execution_count": 17,
   "metadata": {},
   "outputs": [
    {
     "name": "stdout",
     "output_type": "stream",
     "text": [
      "fit time = 0.6078788042068481\n",
      "score time = 0.03716080188751221\n",
      "accuracy = 0.8125197065161063\n",
      "recall = 0.8932153392330384\n",
      "precision = 0.7967633126341082\n",
      "f1 = 0.8421863861537828\n"
     ]
    }
   ],
   "source": [
    "poly_clf = svm.SVC(kernel='poly')\n",
    "cross_val_scores = cross_validate(poly_clf, X, y, cv=fold_count, scoring=scoring)\n",
    "poly_svc_clf_score = mean_score(cross_val_scores)\n",
    "\n",
    "print(f\"fit time = {poly_svc_clf_score['fit_time']}\")\n",
    "print(f\"score time = {poly_svc_clf_score['score_time']}\")\n",
    "print(f\"accuracy = {poly_svc_clf_score['test_accuracy']}\")\n",
    "print(f\"recall = {poly_svc_clf_score['test_recall']}\")\n",
    "print(f\"precision = {poly_svc_clf_score['test_precision']}\")\n",
    "print(f\"f1 = {poly_svc_clf_score['test_f1']}\")"
   ]
  },
  {
   "cell_type": "code",
   "execution_count": 17,
   "metadata": {},
   "outputs": [
    {
     "name": "stdout",
     "output_type": "stream",
     "text": [
      "fit time = 0.5448755979537964\n",
      "score time = 0.035430169105529784\n",
      "accuracy = 0.8573145442267123\n",
      "recall = 0.9454655593208434\n",
      "precision = 0.8326496878515677\n",
      "f1 = 0.8854136044861525\n"
     ]
    }
   ],
   "source": [
    "poly_clf = svm.SVC(kernel='poly')\n",
    "cross_val_scores = cross_validate(poly_clf, X, y, cv=fold_count, scoring=scoring)\n",
    "poly_svc_clf_score = mean_score(cross_val_scores)\n",
    "\n",
    "print(f\"fit time = {poly_svc_clf_score['fit_time']}\")\n",
    "print(f\"score time = {poly_svc_clf_score['score_time']}\")\n",
    "print(f\"accuracy = {poly_svc_clf_score['test_accuracy']}\")\n",
    "print(f\"recall = {poly_svc_clf_score['test_recall']}\")\n",
    "print(f\"precision = {poly_svc_clf_score['test_precision']}\")\n",
    "print(f\"f1 = {poly_svc_clf_score['test_f1']}\")"
   ]
  },
  {
   "attachments": {},
   "cell_type": "markdown",
   "metadata": {},
   "source": [
    "## SVM-RBF"
   ]
  },
  {
   "cell_type": "code",
   "execution_count": 17,
   "metadata": {},
   "outputs": [
    {
     "name": "stdout",
     "output_type": "stream",
     "text": [
      "fit time = 0.5841793537139892\n",
      "score time = 0.06523187160491943\n",
      "accuracy = 0.8191176390366308\n",
      "recall = 0.8887905604719764\n",
      "precision = 0.8079865606247374\n",
      "f1 = 0.8462054375038243\n"
     ]
    }
   ],
   "source": [
    "rbf_clf = svm.SVC(kernel='rbf')\n",
    "cross_val_scores = cross_validate(rbf_clf, X, y, cv=fold_count, scoring=scoring)\n",
    "rbf_svc_clf_score = mean_score(cross_val_scores)\n",
    "\n",
    "print(f\"fit time = {rbf_svc_clf_score['fit_time']}\")\n",
    "print(f\"score time = {rbf_svc_clf_score['score_time']}\")\n",
    "print(f\"accuracy = {rbf_svc_clf_score['test_accuracy']}\")\n",
    "print(f\"recall = {rbf_svc_clf_score['test_recall']}\")\n",
    "print(f\"precision = {rbf_svc_clf_score['test_precision']}\")\n",
    "print(f\"f1 = {rbf_svc_clf_score['test_f1']}\")\n"
   ]
  },
  {
   "cell_type": "code",
   "execution_count": 18,
   "metadata": {},
   "outputs": [
    {
     "name": "stdout",
     "output_type": "stream",
     "text": [
      "fit time = 0.5990600109100341\n",
      "score time = 0.06830434799194336\n",
      "accuracy = 0.8178081444508087\n",
      "recall = 0.8672566371681416\n",
      "precision = 0.8184853802654342\n",
      "f1 = 0.8420352641537938\n"
     ]
    }
   ],
   "source": [
    "rbf_clf = svm.SVC(kernel='rbf')\n",
    "cross_val_scores = cross_validate(rbf_clf, X, y, cv=fold_count, scoring=scoring)\n",
    "rbf_svc_clf_score = mean_score(cross_val_scores)\n",
    "\n",
    "print(f\"fit time = {rbf_svc_clf_score['fit_time']}\")\n",
    "print(f\"score time = {rbf_svc_clf_score['score_time']}\")\n",
    "print(f\"accuracy = {rbf_svc_clf_score['test_accuracy']}\")\n",
    "print(f\"recall = {rbf_svc_clf_score['test_recall']}\")\n",
    "print(f\"precision = {rbf_svc_clf_score['test_precision']}\")\n",
    "print(f\"f1 = {rbf_svc_clf_score['test_f1']}\")"
   ]
  },
  {
   "cell_type": "code",
   "execution_count": 18,
   "metadata": {},
   "outputs": [
    {
     "name": "stdout",
     "output_type": "stream",
     "text": [
      "fit time = 0.5464009523391724\n",
      "score time = 0.05946037769317627\n",
      "accuracy = 0.8630176117993675\n",
      "recall = 0.935986690780117\n",
      "precision = 0.8457249068500026\n",
      "f1 = 0.8885006656013583\n"
     ]
    }
   ],
   "source": [
    "rbf_clf = svm.SVC(kernel='rbf')\n",
    "cross_val_scores = cross_validate(rbf_clf, X, y, cv=fold_count, scoring=scoring)\n",
    "rbf_svc_clf_score = mean_score(cross_val_scores)\n",
    "\n",
    "print(f\"fit time = {rbf_svc_clf_score['fit_time']}\")\n",
    "print(f\"score time = {rbf_svc_clf_score['score_time']}\")\n",
    "print(f\"accuracy = {rbf_svc_clf_score['test_accuracy']}\")\n",
    "print(f\"recall = {rbf_svc_clf_score['test_recall']}\")\n",
    "print(f\"precision = {rbf_svc_clf_score['test_precision']}\")\n",
    "print(f\"f1 = {rbf_svc_clf_score['test_f1']}\")"
   ]
  },
  {
   "attachments": {},
   "cell_type": "markdown",
   "metadata": {},
   "source": [
    "## SVM-Sigmoid"
   ]
  },
  {
   "cell_type": "code",
   "execution_count": 18,
   "metadata": {},
   "outputs": [
    {
     "name": "stdout",
     "output_type": "stream",
     "text": [
      "fit time = 0.9757437467575073\n",
      "score time = 0.06192104816436768\n",
      "accuracy = 0.6754163598177999\n",
      "recall = 0.7454277286135692\n",
      "precision = 0.6965998520155773\n",
      "f1 = 0.7200679987418062\n"
     ]
    }
   ],
   "source": [
    "sigmoid_clf = svm.SVC(kernel='sigmoid')\n",
    "cross_val_scores = cross_validate(sigmoid_clf, X, y, cv=fold_count, scoring=scoring)\n",
    "sigmoid_svc_clf_score = mean_score(cross_val_scores)\n",
    "\n",
    "print(f\"fit time = {sigmoid_svc_clf_score['fit_time']}\")\n",
    "print(f\"score time = {sigmoid_svc_clf_score['score_time']}\")\n",
    "print(f\"accuracy = {sigmoid_svc_clf_score['test_accuracy']}\")\n",
    "print(f\"recall = {sigmoid_svc_clf_score['test_recall']}\")\n",
    "print(f\"precision = {sigmoid_svc_clf_score['test_precision']}\")\n",
    "print(f\"f1 = {sigmoid_svc_clf_score['test_f1']}\")"
   ]
  },
  {
   "cell_type": "code",
   "execution_count": 19,
   "metadata": {},
   "outputs": [
    {
     "name": "stdout",
     "output_type": "stream",
     "text": [
      "fit time = 0.97420175075531\n",
      "score time = 0.06325740814208984\n",
      "accuracy = 0.6843286146796499\n",
      "recall = 0.7566371681415929\n",
      "precision = 0.7035647002606041\n",
      "f1 = 0.7286096715063921\n"
     ]
    }
   ],
   "source": [
    "sigmoid_clf = svm.SVC(kernel='sigmoid')\n",
    "cross_val_scores = cross_validate(sigmoid_clf, X, y, cv=fold_count, scoring=scoring)\n",
    "sigmoid_svc_clf_score = mean_score(cross_val_scores)\n",
    "\n",
    "print(f\"fit time = {sigmoid_svc_clf_score['fit_time']}\")\n",
    "print(f\"score time = {sigmoid_svc_clf_score['score_time']}\")\n",
    "print(f\"accuracy = {sigmoid_svc_clf_score['test_accuracy']}\")\n",
    "print(f\"recall = {sigmoid_svc_clf_score['test_recall']}\")\n",
    "print(f\"precision = {sigmoid_svc_clf_score['test_precision']}\")\n",
    "print(f\"f1 = {sigmoid_svc_clf_score['test_f1']}\")"
   ]
  },
  {
   "cell_type": "code",
   "execution_count": 19,
   "metadata": {},
   "outputs": [
    {
     "name": "stdout",
     "output_type": "stream",
     "text": [
      "fit time = 0.9565726041793823\n",
      "score time = 0.06590871810913086\n",
      "accuracy = 0.6887202610394965\n",
      "recall = 0.7572665180060751\n",
      "precision = 0.7224869356092564\n",
      "f1 = 0.7393613022949651\n"
     ]
    }
   ],
   "source": [
    "sigmoid_clf = svm.SVC(kernel='sigmoid')\n",
    "cross_val_scores = cross_validate(sigmoid_clf, X, y, cv=fold_count, scoring=scoring)\n",
    "sigmoid_svc_clf_score = mean_score(cross_val_scores)\n",
    "\n",
    "print(f\"fit time = {sigmoid_svc_clf_score['fit_time']}\")\n",
    "print(f\"score time = {sigmoid_svc_clf_score['score_time']}\")\n",
    "print(f\"accuracy = {sigmoid_svc_clf_score['test_accuracy']}\")\n",
    "print(f\"recall = {sigmoid_svc_clf_score['test_recall']}\")\n",
    "print(f\"precision = {sigmoid_svc_clf_score['test_precision']}\")\n",
    "print(f\"f1 = {sigmoid_svc_clf_score['test_f1']}\")"
   ]
  },
  {
   "cell_type": "markdown",
   "metadata": {},
   "source": [
    "## Validation on Virus Total"
   ]
  },
  {
   "cell_type": "code",
   "execution_count": 47,
   "metadata": {},
   "outputs": [],
   "source": [
    "# Import necessary libraries\n",
    "import pandas as pd\n",
    "from sklearn.model_selection import train_test_split\n",
    "from sklearn.svm import SVC\n",
    "import sklearn\n",
    "from sklearn.metrics import accuracy_score\n",
    "from sklearn import svm\n",
    "\n",
    "\n",
    "# Load the training and test datasets\n",
    "train_data = pd.read_csv('../dataset-2.csv')\n",
    "# test_data = pd.read_csv('../Sample-Legitimate.csv')\n",
    "\n",
    "test_data = pd.read_csv('../Sample-Phishy.csv')"
   ]
  },
  {
   "cell_type": "code",
   "execution_count": 48,
   "metadata": {},
   "outputs": [
    {
     "name": "stdout",
     "output_type": "stream",
     "text": [
      "(5790, 27)\n",
      "(316, 27)\n"
     ]
    }
   ],
   "source": [
    "print(train_data.shape)\n",
    "print(test_data.shape)"
   ]
  },
  {
   "cell_type": "code",
   "execution_count": 49,
   "metadata": {},
   "outputs": [
    {
     "data": {
      "text/plain": [
       "Index(['Length of URL', 'Has IP address', 'Shortening Service',\n",
       "       'Having @ Symbol', 'Double Slash Redirecting', 'Prefix-Suffix', 'CTLD',\n",
       "       'HTTPS in Domain', 'Sensitive Words', 'Has Tilde', 'Has Port',\n",
       "       'PhishID', 'frequency_of_a_tags', 'frequency_of_alltags',\n",
       "       'presence_of_iframes', 'presence_of_popups', 'right_click_disabling',\n",
       "       'checking_sfh', 'request_url', 'url-of-anchor', 'links_in_meta_img',\n",
       "       'check_hidden_content', 'Current Domain Age', 'Matching Domain Name',\n",
       "       'Length of Domain', 'Google page index', 'Result'],\n",
       "      dtype='object')"
      ]
     },
     "execution_count": 49,
     "metadata": {},
     "output_type": "execute_result"
    }
   ],
   "source": [
    "test_data.columns"
   ]
  },
  {
   "cell_type": "code",
   "execution_count": 50,
   "metadata": {},
   "outputs": [],
   "source": [
    "PhishID = train_data['PhishID']\n",
    "\n",
    "# For legitimate dataset\n",
    "# testPhishID = test_data[' PhishID']\n",
    "\n",
    "testPhishID = test_data['PhishID']\n",
    "# train_data = train_data.drop('PhishID', axis = 1)\n",
    "# test_data = test_data.drop('PhishID', axis = 1)"
   ]
  },
  {
   "cell_type": "code",
   "execution_count": 51,
   "metadata": {},
   "outputs": [
    {
     "name": "stdout",
     "output_type": "stream",
     "text": [
      "(5790, 27)\n",
      "(221, 27)\n"
     ]
    }
   ],
   "source": [
    "train_data.drop_duplicates(inplace = True)\n",
    "train_data.dropna(inplace = True)\n",
    "\n",
    "test_data.drop_duplicates(inplace = True)\n",
    "test_data.dropna(inplace = True)\n",
    "\n",
    "print(train_data.shape)\n",
    "print(test_data.shape)"
   ]
  },
  {
   "cell_type": "code",
   "execution_count": 52,
   "metadata": {},
   "outputs": [],
   "source": [
    "train_data.rename(columns={'Length of URL':'Length_of_URL', 'Has IP address':'Has_IP_address', 'Shortening Service':'Shortening_Service', 'Having @ Symbol':'Having_@_Symbol', 'Double Slash Redirecting':'Double_Slash_Redirecting', 'Prefix-Suffix':'Prefix-Suffix', 'CTLD':'CTLD', 'HTTPS in Domain':'HTTPS_in_Domain', 'Sensitive Words': 'Sensitive_Words', 'Has Tilde':'Has_Tilde', 'Has Port':'Has_Port', 'PhishID': 'PhishID', 'frequency_of_a_tags':'frequency_of_a_tags', 'frequency_of_alltags': 'frequency_of_alltags', 'presence_of_iframes':'presence_of_iframes', 'presence_of_popups': 'presence_of_popups', 'right_click_disabling': 'right_click_disabling', 'checking_sfh': 'checking_sfh', 'request_url': 'request_url', 'url-of-anchor':'url-of-anchor', 'links_in_meta_img':'links_in_meta_img', 'check_hidden_content': 'check_hidden_content', 'Current Domain Age':'Current_Domain_Age' , 'Matching Domain Name':'Matching_Domain_Name', 'Length of Domain':'Length_of_Domain', 'Google page index': 'Google_page_index','Result':'Result'}, inplace=True)\n",
    "\n",
    "# test_data.rename(columns={'Length of URL':'Length_of_URL', ' Has IP address':'Has_IP_address', ' Shortening Service':'Shortening_Service', ' Having @ Symbol':'Having_@_Symbol', ' Double Slash Redirecting':'Double_Slash_Redirecting', ' Prefix-Suffix':'Prefix-Suffix', ' CTLD':'CTLD', ' HTTPS in Domain':'HTTPS_in_Domain', ' Sensitive Words':'Sensitive_Words', ' Has Tilde':'Has_Tilde', ' Has Port':'Has_Port', ' PhishID': 'PhishID', ' frequency_of_a_tags':'frequency_of_a_tags',' frequency_of_alltags': 'frequency_of_alltags', ' presence_of_iframes':'presence_of_iframes', ' presence_of_popups':'presence_of_popups' ,' right_click_disabling': 'right_click_disabling', ' checking_sfh': 'checking_sfh', ' request_url': 'request_url', ' url-of-anchor':'url-of-anchor', ' links_in_meta_img':'links_in_meta_img', ' check_hidden_content':'check_hidden_content', ' Current Domain Age':'Current_Domain_Age' , ' Matching Domain Name':'Matching_Domain_Name', ' Length of Domain': 'Length_of_Domain', ' Google page index': 'Google_page_index','Result':'Result'}, inplace=True)\n",
    "\n",
    "test_data.rename(columns={'Length of URL':'Length_of_URL', 'Has IP address':'Has_IP_address', 'Shortening Service':'Shortening_Service', 'Having @ Symbol':'Having_@_Symbol', 'Double Slash Redirecting':'Double_Slash_Redirecting', 'Prefix-Suffix':'Prefix-Suffix', 'CTLD':'CTLD', 'HTTPS in Domain':'HTTPS_in_Domain', 'Sensitive Words': 'Sensitive_Words', 'Has Tilde':'Has_Tilde', 'Has Port':'Has_Port', 'PhishID': 'PhishID', 'frequency_of_a_tags':'frequency_of_a_tags', 'frequency_of_alltags': 'frequency_of_alltags', 'presence_of_iframes':'presence_of_iframes', 'presence_of_popups': 'presence_of_popups', 'right_click_disabling': 'right_click_disabling', 'checking_sfh': 'checking_sfh', 'request_url': 'request_url', 'url-of-anchor':'url-of-anchor', 'links_in_meta_img':'links_in_meta_img', 'check_hidden_content': 'check_hidden_content', 'Current Domain Age':'Current_Domain_Age' , 'Matching Domain Name':'Matching_Domain_Name', 'Length of Domain':'Length_of_Domain', 'Google page index': 'Google_page_index','Result':'Result'}, inplace=True)"
   ]
  },
  {
   "cell_type": "code",
   "execution_count": 53,
   "metadata": {},
   "outputs": [
    {
     "name": "stdout",
     "output_type": "stream",
     "text": [
      "Index(['Length_of_URL', 'Has_IP_address', 'Shortening_Service',\n",
      "       'Having_@_Symbol', 'Double_Slash_Redirecting', 'Prefix-Suffix', 'CTLD',\n",
      "       'HTTPS_in_Domain', 'Sensitive_Words', 'Has_Tilde', 'Has_Port',\n",
      "       'PhishID', 'frequency_of_a_tags', 'frequency_of_alltags',\n",
      "       'presence_of_iframes', 'presence_of_popups', 'right_click_disabling',\n",
      "       'checking_sfh', 'request_url', 'url-of-anchor', 'links_in_meta_img',\n",
      "       'check_hidden_content', 'Current_Domain_Age', 'Matching_Domain_Name',\n",
      "       'Length_of_Domain', 'Google_page_index', 'Result'],\n",
      "      dtype='object')\n",
      "Index(['Length_of_URL', 'Has_IP_address', 'Shortening_Service',\n",
      "       'Having_@_Symbol', 'Double_Slash_Redirecting', 'Prefix-Suffix', 'CTLD',\n",
      "       'HTTPS_in_Domain', 'Sensitive_Words', 'Has_Tilde', 'Has_Port',\n",
      "       'PhishID', 'frequency_of_a_tags', 'frequency_of_alltags',\n",
      "       'presence_of_iframes', 'presence_of_popups', 'right_click_disabling',\n",
      "       'checking_sfh', 'request_url', 'url-of-anchor', 'links_in_meta_img',\n",
      "       'check_hidden_content', 'Current_Domain_Age', 'Matching_Domain_Name',\n",
      "       'Length_of_Domain', 'Google_page_index', 'Result'],\n",
      "      dtype='object')\n"
     ]
    }
   ],
   "source": [
    "print(train_data.columns)\n",
    "print(test_data.columns)"
   ]
  },
  {
   "cell_type": "code",
   "execution_count": 54,
   "metadata": {},
   "outputs": [],
   "source": [
    "# Remove rows with PhishID not in [-1, 0, 1]\n",
    "validValues = {-1, 0, 1}\n",
    "for column in train_data.columns:\n",
    "    if column != 'PhishID':\n",
    "        train_data[column] = pd.to_numeric(train_data[column], errors='coerce')\n",
    "        train_data = train_data[train_data[column].isin(validValues)]\n",
    "\n",
    "\n",
    "# Remove rows with NaN values in the target variable\n",
    "train_data = train_data.dropna(subset=['Result'])\n",
    "\n",
    "# Convert all columns to integers \n",
    "train_data = train_data.astype(int)"
   ]
  },
  {
   "cell_type": "code",
   "execution_count": 55,
   "metadata": {},
   "outputs": [
    {
     "name": "stdout",
     "output_type": "stream",
     "text": [
      "(5789, 27)\n",
      "(221, 27)\n"
     ]
    }
   ],
   "source": [
    "print(train_data.shape)\n",
    "print(test_data.shape)"
   ]
  },
  {
   "cell_type": "code",
   "execution_count": 56,
   "metadata": {},
   "outputs": [],
   "source": [
    "# Define features and target variable\n",
    "features = train_data.columns.difference(['Result', 'PhishID'])\n",
    "X = train_data[features]\n",
    "y = train_data['Result']"
   ]
  },
  {
   "cell_type": "code",
   "execution_count": 57,
   "metadata": {},
   "outputs": [
    {
     "data": {
      "text/html": [
       "<style>#sk-container-id-4 {color: black;}#sk-container-id-4 pre{padding: 0;}#sk-container-id-4 div.sk-toggleable {background-color: white;}#sk-container-id-4 label.sk-toggleable__label {cursor: pointer;display: block;width: 100%;margin-bottom: 0;padding: 0.3em;box-sizing: border-box;text-align: center;}#sk-container-id-4 label.sk-toggleable__label-arrow:before {content: \"▸\";float: left;margin-right: 0.25em;color: #696969;}#sk-container-id-4 label.sk-toggleable__label-arrow:hover:before {color: black;}#sk-container-id-4 div.sk-estimator:hover label.sk-toggleable__label-arrow:before {color: black;}#sk-container-id-4 div.sk-toggleable__content {max-height: 0;max-width: 0;overflow: hidden;text-align: left;background-color: #f0f8ff;}#sk-container-id-4 div.sk-toggleable__content pre {margin: 0.2em;color: black;border-radius: 0.25em;background-color: #f0f8ff;}#sk-container-id-4 input.sk-toggleable__control:checked~div.sk-toggleable__content {max-height: 200px;max-width: 100%;overflow: auto;}#sk-container-id-4 input.sk-toggleable__control:checked~label.sk-toggleable__label-arrow:before {content: \"▾\";}#sk-container-id-4 div.sk-estimator input.sk-toggleable__control:checked~label.sk-toggleable__label {background-color: #d4ebff;}#sk-container-id-4 div.sk-label input.sk-toggleable__control:checked~label.sk-toggleable__label {background-color: #d4ebff;}#sk-container-id-4 input.sk-hidden--visually {border: 0;clip: rect(1px 1px 1px 1px);clip: rect(1px, 1px, 1px, 1px);height: 1px;margin: -1px;overflow: hidden;padding: 0;position: absolute;width: 1px;}#sk-container-id-4 div.sk-estimator {font-family: monospace;background-color: #f0f8ff;border: 1px dotted black;border-radius: 0.25em;box-sizing: border-box;margin-bottom: 0.5em;}#sk-container-id-4 div.sk-estimator:hover {background-color: #d4ebff;}#sk-container-id-4 div.sk-parallel-item::after {content: \"\";width: 100%;border-bottom: 1px solid gray;flex-grow: 1;}#sk-container-id-4 div.sk-label:hover label.sk-toggleable__label {background-color: #d4ebff;}#sk-container-id-4 div.sk-serial::before {content: \"\";position: absolute;border-left: 1px solid gray;box-sizing: border-box;top: 0;bottom: 0;left: 50%;z-index: 0;}#sk-container-id-4 div.sk-serial {display: flex;flex-direction: column;align-items: center;background-color: white;padding-right: 0.2em;padding-left: 0.2em;position: relative;}#sk-container-id-4 div.sk-item {position: relative;z-index: 1;}#sk-container-id-4 div.sk-parallel {display: flex;align-items: stretch;justify-content: center;background-color: white;position: relative;}#sk-container-id-4 div.sk-item::before, #sk-container-id-4 div.sk-parallel-item::before {content: \"\";position: absolute;border-left: 1px solid gray;box-sizing: border-box;top: 0;bottom: 0;left: 50%;z-index: -1;}#sk-container-id-4 div.sk-parallel-item {display: flex;flex-direction: column;z-index: 1;position: relative;background-color: white;}#sk-container-id-4 div.sk-parallel-item:first-child::after {align-self: flex-end;width: 50%;}#sk-container-id-4 div.sk-parallel-item:last-child::after {align-self: flex-start;width: 50%;}#sk-container-id-4 div.sk-parallel-item:only-child::after {width: 0;}#sk-container-id-4 div.sk-dashed-wrapped {border: 1px dashed gray;margin: 0 0.4em 0.5em 0.4em;box-sizing: border-box;padding-bottom: 0.4em;background-color: white;}#sk-container-id-4 div.sk-label label {font-family: monospace;font-weight: bold;display: inline-block;line-height: 1.2em;}#sk-container-id-4 div.sk-label-container {text-align: center;}#sk-container-id-4 div.sk-container {/* jupyter's `normalize.less` sets `[hidden] { display: none; }` but bootstrap.min.css set `[hidden] { display: none !important; }` so we also need the `!important` here to be able to override the default hidden behavior on the sphinx rendered scikit-learn.org. See: https://github.com/scikit-learn/scikit-learn/issues/21755 */display: inline-block !important;position: relative;}#sk-container-id-4 div.sk-text-repr-fallback {display: none;}</style><div id=\"sk-container-id-4\" class=\"sk-top-container\"><div class=\"sk-text-repr-fallback\"><pre>SVC(kernel=&#x27;linear&#x27;)</pre><b>In a Jupyter environment, please rerun this cell to show the HTML representation or trust the notebook. <br />On GitHub, the HTML representation is unable to render, please try loading this page with nbviewer.org.</b></div><div class=\"sk-container\" hidden><div class=\"sk-item\"><div class=\"sk-estimator sk-toggleable\"><input class=\"sk-toggleable__control sk-hidden--visually\" id=\"sk-estimator-id-4\" type=\"checkbox\" checked><label for=\"sk-estimator-id-4\" class=\"sk-toggleable__label sk-toggleable__label-arrow\">SVC</label><div class=\"sk-toggleable__content\"><pre>SVC(kernel=&#x27;linear&#x27;)</pre></div></div></div></div></div>"
      ],
      "text/plain": [
       "SVC(kernel='linear')"
      ]
     },
     "execution_count": 57,
     "metadata": {},
     "output_type": "execute_result"
    }
   ],
   "source": [
    "# Train an AdaBoost classifier\n",
    "# sigmoid_clf = svm.SVC(kernel='sigmoid')\n",
    "# poly_clf = svm.SVC(kernel='poly')\n",
    "linear_clf = svm.SVC(kernel='linear')\n",
    "# rbf_clf = svm.SVC(kernel='rbf')\n",
    "linear_clf.fit(X, y)"
   ]
  },
  {
   "cell_type": "code",
   "execution_count": 58,
   "metadata": {},
   "outputs": [
    {
     "name": "stdout",
     "output_type": "stream",
     "text": [
      "Index(['Length_of_URL', 'Has_IP_address', 'Shortening_Service',\n",
      "       'Having_@_Symbol', 'Double_Slash_Redirecting', 'Prefix-Suffix', 'CTLD',\n",
      "       'HTTPS_in_Domain', 'Sensitive_Words', 'Has_Tilde', 'Has_Port',\n",
      "       'PhishID', 'frequency_of_a_tags', 'frequency_of_alltags',\n",
      "       'presence_of_iframes', 'presence_of_popups', 'right_click_disabling',\n",
      "       'checking_sfh', 'request_url', 'url-of-anchor', 'links_in_meta_img',\n",
      "       'check_hidden_content', 'Current_Domain_Age', 'Matching_Domain_Name',\n",
      "       'Length_of_Domain', 'Google_page_index', 'Result'],\n",
      "      dtype='object')\n",
      "Index(['Length_of_URL', 'Has_IP_address', 'Shortening_Service',\n",
      "       'Having_@_Symbol', 'Double_Slash_Redirecting', 'Prefix-Suffix', 'CTLD',\n",
      "       'HTTPS_in_Domain', 'Sensitive_Words', 'Has_Tilde', 'Has_Port',\n",
      "       'PhishID', 'frequency_of_a_tags', 'frequency_of_alltags',\n",
      "       'presence_of_iframes', 'presence_of_popups', 'right_click_disabling',\n",
      "       'checking_sfh', 'request_url', 'url-of-anchor', 'links_in_meta_img',\n",
      "       'check_hidden_content', 'Current_Domain_Age', 'Matching_Domain_Name',\n",
      "       'Length_of_Domain', 'Google_page_index', 'Result'],\n",
      "      dtype='object')\n"
     ]
    }
   ],
   "source": [
    "print(train_data.columns)\n",
    "print(test_data.columns)"
   ]
  },
  {
   "cell_type": "code",
   "execution_count": 59,
   "metadata": {},
   "outputs": [],
   "source": [
    "# Make predictions on the test data\n",
    "test_predictions = linear_clf.predict(test_data[features])"
   ]
  },
  {
   "cell_type": "code",
   "execution_count": 60,
   "metadata": {},
   "outputs": [],
   "source": [
    "# Load 'legitimate_updated.xlsx' and update 'adaboost' column\n",
    "# Path for Lab PC\n",
    "file_path = '/home/administrator/Documents/Phishing-Verification/Validation/Phishy_Updated.xlsx'\n",
    "# df = pd.read_excel(file_path)\n",
    "# df['adaboost'] = df['PhishID'].map(phishid_to_result)\n",
    "df = pd.read_excel(file_path)"
   ]
  },
  {
   "cell_type": "code",
   "execution_count": 61,
   "metadata": {},
   "outputs": [],
   "source": [
    "# Create a mapping of PhishID to results\n",
    "phishid_to_result = dict(zip(testPhishID, test_predictions))"
   ]
  },
  {
   "cell_type": "code",
   "execution_count": 62,
   "metadata": {},
   "outputs": [],
   "source": [
    "# Iterate through each row in the DataFrame and update 'adaboost' column\n",
    "for index, row in df.iterrows():\n",
    "    phish_id = row['PhishID']\n",
    "    if phish_id in phishid_to_result:\n",
    "        df.at[index, 'SVM-Linear'] = phishid_to_result[phish_id]\n",
    "    else:\n",
    "        df.at[index, 'SVM-Linear'] = 0  # Write 0 when mapping is not found"
   ]
  },
  {
   "cell_type": "code",
   "execution_count": 63,
   "metadata": {},
   "outputs": [],
   "source": [
    "# Save the updated 'legitimate_updated.xlsx'\n",
    "df.to_excel(file_path, index=False)"
   ]
  },
  {
   "cell_type": "code",
   "execution_count": 64,
   "metadata": {},
   "outputs": [
    {
     "name": "stdout",
     "output_type": "stream",
     "text": [
      "Test Accuracy: 0.497737556561086\n"
     ]
    }
   ],
   "source": [
    "# Display the accuracy on the test data\n",
    "test_accuracy = accuracy_score(test_data['Result'], test_predictions)\n",
    "print(\"Test Accuracy:\", test_accuracy)"
   ]
  }
 ],
 "metadata": {
  "kernelspec": {
   "display_name": "Python 3",
   "language": "python",
   "name": "python3"
  },
  "language_info": {
   "codemirror_mode": {
    "name": "ipython",
    "version": 3
   },
   "file_extension": ".py",
   "mimetype": "text/x-python",
   "name": "python",
   "nbconvert_exporter": "python",
   "pygments_lexer": "ipython3",
   "version": "3.8.10"
  },
  "orig_nbformat": 4
 },
 "nbformat": 4,
 "nbformat_minor": 2
}
