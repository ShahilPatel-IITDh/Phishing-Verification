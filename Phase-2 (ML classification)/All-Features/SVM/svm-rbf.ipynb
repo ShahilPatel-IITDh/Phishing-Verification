{
 "cells": [
  {
   "cell_type": "code",
   "execution_count": 22,
   "metadata": {},
   "outputs": [],
   "source": [
    "# Import necessary libraries\n",
    "import pandas as pd\n",
    "from sklearn.model_selection import train_test_split\n",
    "from sklearn.svm import SVC\n",
    "from sklearn.metrics import accuracy_score\n",
    "from sklearn import svm\n",
    "\n",
    "# Load the training and test datasets\n",
    "train_data = pd.read_csv('../dataset-2.csv')\n",
    "# test_data = pd.read_csv('../Sample-Legitimate.csv')\n",
    "\n",
    "test_data = pd.read_csv('../Sample-Phishy.csv')"
   ]
  },
  {
   "cell_type": "code",
   "execution_count": 23,
   "metadata": {},
   "outputs": [
    {
     "name": "stdout",
     "output_type": "stream",
     "text": [
      "(5790, 27)\n",
      "(316, 27)\n"
     ]
    }
   ],
   "source": [
    "print(train_data.shape)\n",
    "print(test_data.shape)"
   ]
  },
  {
   "cell_type": "code",
   "execution_count": 24,
   "metadata": {},
   "outputs": [],
   "source": [
    "PhishID = train_data['PhishID']\n",
    "# For legitimate dataset\n",
    "# testPhishID = test_data[' PhishID']\n",
    "\n",
    "testPhishID = test_data['PhishID']\n",
    "# train_data = train_data.drop('PhishID', axis = 1)\n",
    "# test_data = test_data.drop('PhishID', axis = 1)"
   ]
  },
  {
   "cell_type": "code",
   "execution_count": 25,
   "metadata": {},
   "outputs": [
    {
     "name": "stdout",
     "output_type": "stream",
     "text": [
      "(5790, 27)\n",
      "(221, 27)\n"
     ]
    }
   ],
   "source": [
    "train_data.drop_duplicates(inplace = True)\n",
    "train_data.dropna(inplace = True)\n",
    "\n",
    "test_data.drop_duplicates(inplace = True)\n",
    "test_data.dropna(inplace = True)\n",
    "\n",
    "print(train_data.shape)\n",
    "print(test_data.shape)"
   ]
  },
  {
   "cell_type": "code",
   "execution_count": 26,
   "metadata": {},
   "outputs": [],
   "source": [
    "train_data.rename(columns={'Length of URL':'Length_of_URL', 'Has IP address':'Has_IP_address', 'Shortening Service':'Shortening_Service', 'Having @ Symbol':'Having_@_Symbol', 'Double Slash Redirecting':'Double_Slash_Redirecting', 'Prefix-Suffix':'Prefix-Suffix', 'CTLD':'CTLD', 'HTTPS in Domain':'HTTPS_in_Domain', 'Sensitive Words': 'Sensitive_Words', 'Has Tilde':'Has_Tilde', 'Has Port':'Has_Port', 'PhishID': 'PhishID', 'frequency_of_a_tags':'frequency_of_a_tags', 'frequency_of_alltags': 'frequency_of_alltags', 'presence_of_iframes':'presence_of_iframes', 'presence_of_popups': 'presence_of_popups', 'right_click_disabling': 'right_click_disabling', 'checking_sfh': 'checking_sfh', 'request_url': 'request_url', 'url-of-anchor':'url-of-anchor', 'links_in_meta_img':'links_in_meta_img', 'check_hidden_content': 'check_hidden_content', 'Current Domain Age':'Current_Domain_Age' , 'Matching Domain Name':'Matching_Domain_Name', 'Length of Domain':'Length_of_Domain', 'Google page index': 'Google_page_index','Result':'Result'}, inplace=True)\n",
    "\n",
    "# test_data.rename(columns={'Length of URL':'Length_of_URL', ' Has IP address':'Has_IP_address', ' Shortening Service':'Shortening_Service', ' Having @ Symbol':'Having_@_Symbol', ' Double Slash Redirecting':'Double_Slash_Redirecting', ' Prefix-Suffix':'Prefix-Suffix', ' CTLD':'CTLD', ' HTTPS in Domain':'HTTPS_in_Domain', ' Sensitive Words':'Sensitive_Words', ' Has Tilde':'Has_Tilde', ' Has Port':'Has_Port', ' PhishID': 'PhishID', ' frequency_of_a_tags':'frequency_of_a_tags',' frequency_of_alltags': 'frequency_of_alltags', ' presence_of_iframes':'presence_of_iframes', ' presence_of_popups':'presence_of_popups' ,' right_click_disabling': 'right_click_disabling', ' checking_sfh': 'checking_sfh', ' request_url': 'request_url', ' url-of-anchor':'url-of-anchor', ' links_in_meta_img':'links_in_meta_img', ' check_hidden_content':'check_hidden_content', ' Current Domain Age':'Current_Domain_Age' , ' Matching Domain Name':'Matching_Domain_Name', ' Length of Domain': 'Length_of_Domain', ' Google page index': 'Google_page_index','Result':'Result'}, inplace=True)\n",
    "\n",
    "test_data.rename(columns={'Length of URL':'Length_of_URL', 'Has IP address':'Has_IP_address', 'Shortening Service':'Shortening_Service', 'Having @ Symbol':'Having_@_Symbol', 'Double Slash Redirecting':'Double_Slash_Redirecting', 'Prefix-Suffix':'Prefix-Suffix', 'CTLD':'CTLD', 'HTTPS in Domain':'HTTPS_in_Domain', 'Sensitive Words': 'Sensitive_Words', 'Has Tilde':'Has_Tilde', 'Has Port':'Has_Port', 'PhishID': 'PhishID', 'frequency_of_a_tags':'frequency_of_a_tags', 'frequency_of_alltags': 'frequency_of_alltags', 'presence_of_iframes':'presence_of_iframes', 'presence_of_popups': 'presence_of_popups', 'right_click_disabling': 'right_click_disabling', 'checking_sfh': 'checking_sfh', 'request_url': 'request_url', 'url-of-anchor':'url-of-anchor', 'links_in_meta_img':'links_in_meta_img', 'check_hidden_content': 'check_hidden_content', 'Current Domain Age':'Current_Domain_Age' , 'Matching Domain Name':'Matching_Domain_Name', 'Length of Domain':'Length_of_Domain', 'Google page index': 'Google_page_index','Result':'Result'}, inplace=True)"
   ]
  },
  {
   "cell_type": "code",
   "execution_count": 27,
   "metadata": {},
   "outputs": [
    {
     "name": "stdout",
     "output_type": "stream",
     "text": [
      "Index(['Length_of_URL', 'Has_IP_address', 'Shortening_Service',\n",
      "       'Having_@_Symbol', 'Double_Slash_Redirecting', 'Prefix-Suffix', 'CTLD',\n",
      "       'HTTPS_in_Domain', 'Sensitive_Words', 'Has_Tilde', 'Has_Port',\n",
      "       'PhishID', 'frequency_of_a_tags', 'frequency_of_alltags',\n",
      "       'presence_of_iframes', 'presence_of_popups', 'right_click_disabling',\n",
      "       'checking_sfh', 'request_url', 'url-of-anchor', 'links_in_meta_img',\n",
      "       'check_hidden_content', 'Current_Domain_Age', 'Matching_Domain_Name',\n",
      "       'Length_of_Domain', 'Google_page_index', 'Result'],\n",
      "      dtype='object')\n",
      "Index(['Length_of_URL', 'Has_IP_address', 'Shortening_Service',\n",
      "       'Having_@_Symbol', 'Double_Slash_Redirecting', 'Prefix-Suffix', 'CTLD',\n",
      "       'HTTPS_in_Domain', 'Sensitive_Words', 'Has_Tilde', 'Has_Port',\n",
      "       'PhishID', 'frequency_of_a_tags', 'frequency_of_alltags',\n",
      "       'presence_of_iframes', 'presence_of_popups', 'right_click_disabling',\n",
      "       'checking_sfh', 'request_url', 'url-of-anchor', 'links_in_meta_img',\n",
      "       'check_hidden_content', 'Current_Domain_Age', 'Matching_Domain_Name',\n",
      "       'Length_of_Domain', 'Google_page_index', 'Result'],\n",
      "      dtype='object')\n"
     ]
    }
   ],
   "source": [
    "print(train_data.columns)\n",
    "print(test_data.columns)"
   ]
  },
  {
   "cell_type": "code",
   "execution_count": 28,
   "metadata": {},
   "outputs": [],
   "source": [
    "# Remove rows with PhishID not in [-1, 0, 1]\n",
    "validValues = {-1, 0, 1}\n",
    "for column in train_data.columns:\n",
    "    if column != 'PhishID':\n",
    "        train_data[column] = pd.to_numeric(train_data[column], errors='coerce')\n",
    "        train_data = train_data[train_data[column].isin(validValues)]\n",
    "\n",
    "\n",
    "# Remove rows with NaN values in the target variable\n",
    "train_data = train_data.dropna(subset=['Result'])\n",
    "\n",
    "# Convert all columns to integers \n",
    "train_data = train_data.astype(int)"
   ]
  },
  {
   "cell_type": "code",
   "execution_count": 29,
   "metadata": {},
   "outputs": [
    {
     "name": "stdout",
     "output_type": "stream",
     "text": [
      "(5789, 27)\n",
      "(221, 27)\n"
     ]
    }
   ],
   "source": [
    "print(train_data.shape)\n",
    "print(test_data.shape)"
   ]
  },
  {
   "cell_type": "code",
   "execution_count": 30,
   "metadata": {},
   "outputs": [],
   "source": [
    "# Define features and target variable\n",
    "features = train_data.columns.difference(['Result', 'PhishID'])\n",
    "X = train_data[features]\n",
    "y = train_data['Result']"
   ]
  },
  {
   "cell_type": "code",
   "execution_count": 31,
   "metadata": {},
   "outputs": [
    {
     "data": {
      "text/html": [
       "<style>#sk-container-id-2 {color: black;}#sk-container-id-2 pre{padding: 0;}#sk-container-id-2 div.sk-toggleable {background-color: white;}#sk-container-id-2 label.sk-toggleable__label {cursor: pointer;display: block;width: 100%;margin-bottom: 0;padding: 0.3em;box-sizing: border-box;text-align: center;}#sk-container-id-2 label.sk-toggleable__label-arrow:before {content: \"▸\";float: left;margin-right: 0.25em;color: #696969;}#sk-container-id-2 label.sk-toggleable__label-arrow:hover:before {color: black;}#sk-container-id-2 div.sk-estimator:hover label.sk-toggleable__label-arrow:before {color: black;}#sk-container-id-2 div.sk-toggleable__content {max-height: 0;max-width: 0;overflow: hidden;text-align: left;background-color: #f0f8ff;}#sk-container-id-2 div.sk-toggleable__content pre {margin: 0.2em;color: black;border-radius: 0.25em;background-color: #f0f8ff;}#sk-container-id-2 input.sk-toggleable__control:checked~div.sk-toggleable__content {max-height: 200px;max-width: 100%;overflow: auto;}#sk-container-id-2 input.sk-toggleable__control:checked~label.sk-toggleable__label-arrow:before {content: \"▾\";}#sk-container-id-2 div.sk-estimator input.sk-toggleable__control:checked~label.sk-toggleable__label {background-color: #d4ebff;}#sk-container-id-2 div.sk-label input.sk-toggleable__control:checked~label.sk-toggleable__label {background-color: #d4ebff;}#sk-container-id-2 input.sk-hidden--visually {border: 0;clip: rect(1px 1px 1px 1px);clip: rect(1px, 1px, 1px, 1px);height: 1px;margin: -1px;overflow: hidden;padding: 0;position: absolute;width: 1px;}#sk-container-id-2 div.sk-estimator {font-family: monospace;background-color: #f0f8ff;border: 1px dotted black;border-radius: 0.25em;box-sizing: border-box;margin-bottom: 0.5em;}#sk-container-id-2 div.sk-estimator:hover {background-color: #d4ebff;}#sk-container-id-2 div.sk-parallel-item::after {content: \"\";width: 100%;border-bottom: 1px solid gray;flex-grow: 1;}#sk-container-id-2 div.sk-label:hover label.sk-toggleable__label {background-color: #d4ebff;}#sk-container-id-2 div.sk-serial::before {content: \"\";position: absolute;border-left: 1px solid gray;box-sizing: border-box;top: 0;bottom: 0;left: 50%;z-index: 0;}#sk-container-id-2 div.sk-serial {display: flex;flex-direction: column;align-items: center;background-color: white;padding-right: 0.2em;padding-left: 0.2em;position: relative;}#sk-container-id-2 div.sk-item {position: relative;z-index: 1;}#sk-container-id-2 div.sk-parallel {display: flex;align-items: stretch;justify-content: center;background-color: white;position: relative;}#sk-container-id-2 div.sk-item::before, #sk-container-id-2 div.sk-parallel-item::before {content: \"\";position: absolute;border-left: 1px solid gray;box-sizing: border-box;top: 0;bottom: 0;left: 50%;z-index: -1;}#sk-container-id-2 div.sk-parallel-item {display: flex;flex-direction: column;z-index: 1;position: relative;background-color: white;}#sk-container-id-2 div.sk-parallel-item:first-child::after {align-self: flex-end;width: 50%;}#sk-container-id-2 div.sk-parallel-item:last-child::after {align-self: flex-start;width: 50%;}#sk-container-id-2 div.sk-parallel-item:only-child::after {width: 0;}#sk-container-id-2 div.sk-dashed-wrapped {border: 1px dashed gray;margin: 0 0.4em 0.5em 0.4em;box-sizing: border-box;padding-bottom: 0.4em;background-color: white;}#sk-container-id-2 div.sk-label label {font-family: monospace;font-weight: bold;display: inline-block;line-height: 1.2em;}#sk-container-id-2 div.sk-label-container {text-align: center;}#sk-container-id-2 div.sk-container {/* jupyter's `normalize.less` sets `[hidden] { display: none; }` but bootstrap.min.css set `[hidden] { display: none !important; }` so we also need the `!important` here to be able to override the default hidden behavior on the sphinx rendered scikit-learn.org. See: https://github.com/scikit-learn/scikit-learn/issues/21755 */display: inline-block !important;position: relative;}#sk-container-id-2 div.sk-text-repr-fallback {display: none;}</style><div id=\"sk-container-id-2\" class=\"sk-top-container\"><div class=\"sk-text-repr-fallback\"><pre>SVC()</pre><b>In a Jupyter environment, please rerun this cell to show the HTML representation or trust the notebook. <br />On GitHub, the HTML representation is unable to render, please try loading this page with nbviewer.org.</b></div><div class=\"sk-container\" hidden><div class=\"sk-item\"><div class=\"sk-estimator sk-toggleable\"><input class=\"sk-toggleable__control sk-hidden--visually\" id=\"sk-estimator-id-2\" type=\"checkbox\" checked><label for=\"sk-estimator-id-2\" class=\"sk-toggleable__label sk-toggleable__label-arrow\">SVC</label><div class=\"sk-toggleable__content\"><pre>SVC()</pre></div></div></div></div></div>"
      ],
      "text/plain": [
       "SVC()"
      ]
     },
     "execution_count": 31,
     "metadata": {},
     "output_type": "execute_result"
    }
   ],
   "source": [
    "# Train an AdaBoost classifier\n",
    "# sigmoid_clf = svm.SVC(kernel='sigmoid')\n",
    "# poly_clf = svm.SVC(kernel='poly')\n",
    "# linear_clf = svm.SVC(kernel='linear')\n",
    "rbf_clf = svm.SVC(kernel='rbf')\n",
    "rbf_clf.fit(X, y)"
   ]
  },
  {
   "cell_type": "code",
   "execution_count": 32,
   "metadata": {},
   "outputs": [
    {
     "name": "stdout",
     "output_type": "stream",
     "text": [
      "Index(['Length_of_URL', 'Has_IP_address', 'Shortening_Service',\n",
      "       'Having_@_Symbol', 'Double_Slash_Redirecting', 'Prefix-Suffix', 'CTLD',\n",
      "       'HTTPS_in_Domain', 'Sensitive_Words', 'Has_Tilde', 'Has_Port',\n",
      "       'PhishID', 'frequency_of_a_tags', 'frequency_of_alltags',\n",
      "       'presence_of_iframes', 'presence_of_popups', 'right_click_disabling',\n",
      "       'checking_sfh', 'request_url', 'url-of-anchor', 'links_in_meta_img',\n",
      "       'check_hidden_content', 'Current_Domain_Age', 'Matching_Domain_Name',\n",
      "       'Length_of_Domain', 'Google_page_index', 'Result'],\n",
      "      dtype='object')\n",
      "Index(['Length_of_URL', 'Has_IP_address', 'Shortening_Service',\n",
      "       'Having_@_Symbol', 'Double_Slash_Redirecting', 'Prefix-Suffix', 'CTLD',\n",
      "       'HTTPS_in_Domain', 'Sensitive_Words', 'Has_Tilde', 'Has_Port',\n",
      "       'PhishID', 'frequency_of_a_tags', 'frequency_of_alltags',\n",
      "       'presence_of_iframes', 'presence_of_popups', 'right_click_disabling',\n",
      "       'checking_sfh', 'request_url', 'url-of-anchor', 'links_in_meta_img',\n",
      "       'check_hidden_content', 'Current_Domain_Age', 'Matching_Domain_Name',\n",
      "       'Length_of_Domain', 'Google_page_index', 'Result'],\n",
      "      dtype='object')\n"
     ]
    }
   ],
   "source": [
    "print(train_data.columns)\n",
    "print(test_data.columns)"
   ]
  },
  {
   "cell_type": "code",
   "execution_count": 33,
   "metadata": {},
   "outputs": [],
   "source": [
    "# Make predictions on the test data\n",
    "test_predictions = rbf_clf.predict(test_data[features])"
   ]
  },
  {
   "cell_type": "code",
   "execution_count": 34,
   "metadata": {},
   "outputs": [],
   "source": [
    "# Load 'legitimate_updated.xlsx' and update 'adaboost' column\n",
    "# Path for Lab PC\n",
    "file_path = '/home/administrator/Documents/Phishing-Verification/Validation/Phishy_Updated.xlsx'\n",
    "df = pd.read_excel(file_path)"
   ]
  },
  {
   "cell_type": "code",
   "execution_count": 35,
   "metadata": {},
   "outputs": [],
   "source": [
    "# Create a mapping of PhishID to results\n",
    "phishid_to_result = dict(zip(testPhishID, test_predictions))"
   ]
  },
  {
   "cell_type": "code",
   "execution_count": 36,
   "metadata": {},
   "outputs": [],
   "source": [
    "# Iterate through each row in the DataFrame and update 'adaboost' column\n",
    "for index, row in df.iterrows():\n",
    "    phish_id = row['PhishID']\n",
    "    if phish_id in phishid_to_result:\n",
    "        df.at[index, 'SVM-RBF'] = phishid_to_result[phish_id]\n",
    "    else:\n",
    "        df.at[index, 'SVM-RBF'] = 0  # Write 0 when mapping is not found"
   ]
  },
  {
   "cell_type": "code",
   "execution_count": 37,
   "metadata": {},
   "outputs": [],
   "source": [
    "# Save the updated 'legitimate_updated.xlsx'\n",
    "df.to_excel(file_path, index=False)"
   ]
  },
  {
   "cell_type": "code",
   "execution_count": 38,
   "metadata": {},
   "outputs": [
    {
     "name": "stdout",
     "output_type": "stream",
     "text": [
      "Test Accuracy: 0.579185520361991\n"
     ]
    }
   ],
   "source": [
    "# Display the accuracy on the test data\n",
    "test_accuracy = accuracy_score(test_data['Result'], test_predictions)\n",
    "print(\"Test Accuracy:\", test_accuracy)"
   ]
  }
 ],
 "metadata": {
  "kernelspec": {
   "display_name": "Python 3",
   "language": "python",
   "name": "python3"
  },
  "language_info": {
   "codemirror_mode": {
    "name": "ipython",
    "version": 3
   },
   "file_extension": ".py",
   "mimetype": "text/x-python",
   "name": "python",
   "nbconvert_exporter": "python",
   "pygments_lexer": "ipython3",
   "version": "3.8.10"
  },
  "orig_nbformat": 4
 },
 "nbformat": 4,
 "nbformat_minor": 2
}
