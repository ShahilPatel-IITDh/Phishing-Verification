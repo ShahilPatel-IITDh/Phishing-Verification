{
 "cells": [
  {
   "cell_type": "code",
   "execution_count": 1,
   "metadata": {},
   "outputs": [
    {
     "name": "stderr",
     "output_type": "stream",
     "text": [
      "/home/administrator/.local/lib/python3.8/site-packages/sklearn/experimental/enable_hist_gradient_boosting.py:15: UserWarning: Since version 1.0, it is not needed to import enable_hist_gradient_boosting anymore. HistGradientBoostingClassifier and HistGradientBoostingRegressor are now stable and can be normally imported from sklearn.ensemble.\n",
      "  warnings.warn(\n"
     ]
    }
   ],
   "source": [
    "import pandas as pd\n",
    "import sklearn\n",
    "import os\n",
    "from sklearn.model_selection import train_test_split\n",
    "from sklearn import preprocessing\n",
    "from sklearn.metrics import confusion_matrix\n",
    "from sklearn.metrics import accuracy_score\n",
    "from sklearn.metrics import classification_report\n",
    "from sklearn.model_selection import KFold\n",
    "from sklearn.tree import DecisionTreeClassifier\n",
    "from sklearn.model_selection import cross_validate\n",
    "from sklearn.neural_network import MLPClassifier\n",
    "from sklearn.neighbors import KNeighborsClassifier\n",
    "from sklearn.ensemble import RandomForestClassifier\n",
    "from sklearn import svm , preprocessing\n",
    "from sklearn.ensemble import AdaBoostClassifier\n",
    "from sklearn.linear_model import LogisticRegression\n",
    "from sklearn.ensemble import GradientBoostingClassifier\n",
    "from xgboost import XGBClassifier\n",
    "from sklearn.ensemble import GradientBoostingClassifier\n",
    "from sklearn.experimental import enable_hist_gradient_boosting\n",
    "from sklearn.ensemble import HistGradientBoostingClassifier\n",
    "from lightgbm import LGBMClassifier\n",
    "from catboost import CatBoostClassifier"
   ]
  },
  {
   "cell_type": "code",
   "execution_count": 2,
   "metadata": {},
   "outputs": [],
   "source": [
    "def mean_score(scoring):\n",
    "    return {i:j.mean() for i,j in scoring.items()}"
   ]
  },
  {
   "cell_type": "code",
   "execution_count": 3,
   "metadata": {},
   "outputs": [],
   "source": [
    "# Get the parent directory of the current folder\n",
    "parent_dir = os.path.abspath(os.path.join(os.getcwd(), os.pardir))\n",
    "\n",
    "# Specify the file path for dataset.csv in the parent folder\n",
    "filename = os.path.join(parent_dir, \"dataset.csv\")\n",
    "df = pd.read_csv(filename)"
   ]
  },
  {
   "cell_type": "code",
   "execution_count": 3,
   "metadata": {},
   "outputs": [],
   "source": [
    "# Get the parent directory of the current folder\n",
    "parent_dir = os.path.abspath(os.path.join(os.getcwd(), os.pardir))\n",
    "\n",
    "# Specify the file path for dataset.csv in the parent folder\n",
    "filename = os.path.join(parent_dir, \"dataset-1.csv\")\n",
    "df = pd.read_csv(filename)"
   ]
  },
  {
   "cell_type": "code",
   "execution_count": 3,
   "metadata": {},
   "outputs": [],
   "source": [
    "# Get the parent directory of the current folder\n",
    "parent_dir = os.path.abspath(os.path.join(os.getcwd(), os.pardir))\n",
    "\n",
    "# Specify the file path for dataset.csv in the parent folder\n",
    "filename = os.path.join(parent_dir, \"dataset-2.csv\")\n",
    "df = pd.read_csv(filename)"
   ]
  },
  {
   "cell_type": "code",
   "execution_count": 4,
   "metadata": {},
   "outputs": [],
   "source": [
    "data_no_duplicates = df.drop_duplicates()\n",
    "df = data_no_duplicates.dropna()"
   ]
  },
  {
   "cell_type": "code",
   "execution_count": 5,
   "metadata": {},
   "outputs": [
    {
     "data": {
      "text/plain": [
       "Index(['Length of URL', 'Has IP address', 'Shortening Service',\n",
       "       'Having @ Symbol', 'Double Slash Redirecting', 'Prefix-Suffix', 'CTLD',\n",
       "       'HTTPS in Domain', 'Sensitive Words', 'Has Tilde', 'Has Port',\n",
       "       'PhishID', 'frequency_of_a_tags', 'frequency_of_alltags',\n",
       "       'presence_of_iframes', 'presence_of_popups', 'right_click_disabling',\n",
       "       'checking_sfh', 'request_url', 'url-of-anchor', 'links_in_meta_img',\n",
       "       'check_hidden_content', 'Current Domain Age', 'Matching Domain Name',\n",
       "       'Length of Domain', 'Google page index', 'Result'],\n",
       "      dtype='object')"
      ]
     },
     "execution_count": 5,
     "metadata": {},
     "output_type": "execute_result"
    }
   ],
   "source": [
    "df.columns"
   ]
  },
  {
   "cell_type": "code",
   "execution_count": 6,
   "metadata": {},
   "outputs": [
    {
     "data": {
      "text/plain": [
       "(5790, 27)"
      ]
     },
     "execution_count": 6,
     "metadata": {},
     "output_type": "execute_result"
    }
   ],
   "source": [
    "df.shape"
   ]
  },
  {
   "cell_type": "code",
   "execution_count": 7,
   "metadata": {},
   "outputs": [],
   "source": [
    "df = df.drop('PhishID', axis = 1)"
   ]
  },
  {
   "cell_type": "code",
   "execution_count": 8,
   "metadata": {},
   "outputs": [],
   "source": [
    "df.rename(columns={'Length of URL':'Length_of_URL', 'Has IP address':'Has_IP_address', 'Shortening Service':'Shortening_Service', 'Having @ Symbol':'Having_@_Symbol', 'Double Slash Redirecting':'Double_Slash_Redirecting', 'Prefix-Suffix':'Prefix-Suffix', 'CTLD':'CTLD', 'HTTPS in Domain':'HTTPS_in_Domain', 'Sensitive Words':'Sensitive_Words', 'Has Tilde':'Has_Tilde', 'Has Port':'Has_Port', 'Current Domain Age':'Current_Domain_Age' , 'Matching Domain Name':'Matching_Domain_Name', 'Length of Domain':'Length_of_Domain', 'Google page index':'Google_page_index','Result':'Result'}, inplace=True)"
   ]
  },
  {
   "cell_type": "code",
   "execution_count": 9,
   "metadata": {},
   "outputs": [
    {
     "name": "stdout",
     "output_type": "stream",
     "text": [
      "['-1' '1' 'frequency_of_a_tags']\n",
      "['1' '0' '-1' 'frequency_of_alltags']\n",
      "['1' 'presence_of_iframes']\n",
      "['1' '-1' 'presence_of_popups']\n",
      "['1' 'right_click_disabling' '-1']\n",
      "['-1' '1' 'checking_sfh']\n",
      "['-1' '1' '0' 'request_url']\n",
      "['-1' '0' '1' 'url-of-anchor']\n",
      "['-1' '1' '0' 'links_in_meta_img']\n",
      "['1' 'Result' '-1']\n",
      "['1' '-1' 'Has IP address']\n",
      "['-1' '1' 'Shortening Service']\n",
      "['1' '-1' 'Having @ Symbol']\n",
      "['1' '-1' 'Double Slash Redirecting']\n",
      "['-1' '1' 'Prefix-Suffix']\n",
      "['1' '-1' '0' 'CTLD']\n",
      "['-1' 'HTTPS in Domain']\n",
      "['1' '-1' 'Sensitive Words']\n",
      "['1' '-1' 'Has Tilde']\n",
      "['-1' '1' 'Has Port']\n",
      "['1' '-1' 'check_hidden_content']\n",
      "['1' 'Result' '-1']\n"
     ]
    }
   ],
   "source": [
    "# Investigate unique values in the each column\n",
    "unique_frequency_a = df['frequency_of_a_tags'].unique()\n",
    "unique_all = df['frequency_of_alltags'].unique()\n",
    "unique_iframes = df['presence_of_iframes'].unique()\n",
    "unique_popups = df['presence_of_popups'].unique()\n",
    "unique_rightclick = df['right_click_disabling'].unique()\n",
    "unique_sfh = df['checking_sfh'].unique()\n",
    "unique_request = df['request_url'].unique()\n",
    "unique_url = df['url-of-anchor'].unique()\n",
    "unique_meta = df['links_in_meta_img'].unique()\n",
    "unique_R = df['Result'].unique()\n",
    "unique_IP = df['Has_IP_address'].unique()\n",
    "unique_SS = df['Shortening_Service'].unique()\n",
    "unique_HAS = df['Having_@_Symbol'].unique()\n",
    "unique_DSR = df['Double_Slash_Redirecting'].unique()\n",
    "unique_PS = df['Prefix-Suffix'].unique()\n",
    "unique_CTLD = df['CTLD'].unique()\n",
    "unique_HID = df['HTTPS_in_Domain'].unique()\n",
    "unique_SW = df['Sensitive_Words'].unique()\n",
    "unique_HT = df['Has_Tilde'].unique()\n",
    "unique_HP = df['Has_Port'].unique()\n",
    "unique_hidden = df['check_hidden_content'].unique()\n",
    "unique_R = df['Result'].unique()\n",
    "\n",
    "print(unique_frequency_a)\n",
    "print(unique_all)\n",
    "print(unique_iframes)\n",
    "print(unique_popups)\n",
    "print(unique_rightclick)\n",
    "print(unique_sfh)\n",
    "print(unique_request)\n",
    "print(unique_url)\n",
    "print(unique_meta)\n",
    "print(unique_R)\n",
    "print(unique_IP)\n",
    "print(unique_SS)\n",
    "print(unique_HAS)\n",
    "print(unique_DSR)\n",
    "print(unique_PS)\n",
    "print(unique_CTLD)\n",
    "print(unique_HID)\n",
    "print(unique_SW)\n",
    "print(unique_HT)\n",
    "print(unique_HP)\n",
    "print(unique_hidden)\n",
    "print(unique_R)"
   ]
  },
  {
   "cell_type": "code",
   "execution_count": 10,
   "metadata": {},
   "outputs": [],
   "source": [
    "validValues = {-1, 0, 1}\n",
    "\n",
    "for column in df.columns:\n",
    "    df[column] = pd.to_numeric(df[column], errors='coerce')\n",
    "    df = df[df[column].isin(validValues)]\n",
    "\n",
    "# Convert all columns to integers (again after the filtering)\n",
    "df = df.astype(int)"
   ]
  },
  {
   "cell_type": "code",
   "execution_count": 11,
   "metadata": {},
   "outputs": [
    {
     "data": {
      "text/plain": [
       "(5789, 26)"
      ]
     },
     "execution_count": 11,
     "metadata": {},
     "output_type": "execute_result"
    }
   ],
   "source": [
    "df.shape"
   ]
  },
  {
   "cell_type": "code",
   "execution_count": 12,
   "metadata": {},
   "outputs": [
    {
     "data": {
      "text/html": [
       "<div>\n",
       "<style scoped>\n",
       "    .dataframe tbody tr th:only-of-type {\n",
       "        vertical-align: middle;\n",
       "    }\n",
       "\n",
       "    .dataframe tbody tr th {\n",
       "        vertical-align: top;\n",
       "    }\n",
       "\n",
       "    .dataframe thead th {\n",
       "        text-align: right;\n",
       "    }\n",
       "</style>\n",
       "<table border=\"1\" class=\"dataframe\">\n",
       "  <thead>\n",
       "    <tr style=\"text-align: right;\">\n",
       "      <th></th>\n",
       "      <th>Length_of_URL</th>\n",
       "      <th>Has_IP_address</th>\n",
       "      <th>Shortening_Service</th>\n",
       "      <th>Having_@_Symbol</th>\n",
       "      <th>Double_Slash_Redirecting</th>\n",
       "      <th>Prefix-Suffix</th>\n",
       "      <th>CTLD</th>\n",
       "      <th>HTTPS_in_Domain</th>\n",
       "      <th>Sensitive_Words</th>\n",
       "      <th>Has_Tilde</th>\n",
       "      <th>...</th>\n",
       "      <th>checking_sfh</th>\n",
       "      <th>request_url</th>\n",
       "      <th>url-of-anchor</th>\n",
       "      <th>links_in_meta_img</th>\n",
       "      <th>check_hidden_content</th>\n",
       "      <th>Current_Domain_Age</th>\n",
       "      <th>Matching_Domain_Name</th>\n",
       "      <th>Length_of_Domain</th>\n",
       "      <th>Google_page_index</th>\n",
       "      <th>Result</th>\n",
       "    </tr>\n",
       "  </thead>\n",
       "  <tbody>\n",
       "    <tr>\n",
       "      <th>5205</th>\n",
       "      <td>-1</td>\n",
       "      <td>1</td>\n",
       "      <td>1</td>\n",
       "      <td>1</td>\n",
       "      <td>1</td>\n",
       "      <td>-1</td>\n",
       "      <td>-1</td>\n",
       "      <td>-1</td>\n",
       "      <td>1</td>\n",
       "      <td>1</td>\n",
       "      <td>...</td>\n",
       "      <td>-1</td>\n",
       "      <td>1</td>\n",
       "      <td>-1</td>\n",
       "      <td>1</td>\n",
       "      <td>-1</td>\n",
       "      <td>1</td>\n",
       "      <td>-1</td>\n",
       "      <td>1</td>\n",
       "      <td>1</td>\n",
       "      <td>-1</td>\n",
       "    </tr>\n",
       "    <tr>\n",
       "      <th>5669</th>\n",
       "      <td>1</td>\n",
       "      <td>1</td>\n",
       "      <td>1</td>\n",
       "      <td>1</td>\n",
       "      <td>1</td>\n",
       "      <td>-1</td>\n",
       "      <td>0</td>\n",
       "      <td>-1</td>\n",
       "      <td>1</td>\n",
       "      <td>1</td>\n",
       "      <td>...</td>\n",
       "      <td>-1</td>\n",
       "      <td>-1</td>\n",
       "      <td>1</td>\n",
       "      <td>0</td>\n",
       "      <td>1</td>\n",
       "      <td>0</td>\n",
       "      <td>0</td>\n",
       "      <td>0</td>\n",
       "      <td>1</td>\n",
       "      <td>-1</td>\n",
       "    </tr>\n",
       "    <tr>\n",
       "      <th>4570</th>\n",
       "      <td>-1</td>\n",
       "      <td>1</td>\n",
       "      <td>1</td>\n",
       "      <td>1</td>\n",
       "      <td>1</td>\n",
       "      <td>-1</td>\n",
       "      <td>-1</td>\n",
       "      <td>-1</td>\n",
       "      <td>1</td>\n",
       "      <td>1</td>\n",
       "      <td>...</td>\n",
       "      <td>-1</td>\n",
       "      <td>1</td>\n",
       "      <td>1</td>\n",
       "      <td>-1</td>\n",
       "      <td>-1</td>\n",
       "      <td>1</td>\n",
       "      <td>-1</td>\n",
       "      <td>1</td>\n",
       "      <td>1</td>\n",
       "      <td>-1</td>\n",
       "    </tr>\n",
       "    <tr>\n",
       "      <th>4464</th>\n",
       "      <td>1</td>\n",
       "      <td>1</td>\n",
       "      <td>-1</td>\n",
       "      <td>1</td>\n",
       "      <td>1</td>\n",
       "      <td>-1</td>\n",
       "      <td>1</td>\n",
       "      <td>-1</td>\n",
       "      <td>1</td>\n",
       "      <td>1</td>\n",
       "      <td>...</td>\n",
       "      <td>-1</td>\n",
       "      <td>-1</td>\n",
       "      <td>-1</td>\n",
       "      <td>-1</td>\n",
       "      <td>1</td>\n",
       "      <td>-1</td>\n",
       "      <td>-1</td>\n",
       "      <td>1</td>\n",
       "      <td>1</td>\n",
       "      <td>-1</td>\n",
       "    </tr>\n",
       "    <tr>\n",
       "      <th>818</th>\n",
       "      <td>-1</td>\n",
       "      <td>1</td>\n",
       "      <td>1</td>\n",
       "      <td>1</td>\n",
       "      <td>1</td>\n",
       "      <td>1</td>\n",
       "      <td>-1</td>\n",
       "      <td>-1</td>\n",
       "      <td>1</td>\n",
       "      <td>1</td>\n",
       "      <td>...</td>\n",
       "      <td>-1</td>\n",
       "      <td>-1</td>\n",
       "      <td>-1</td>\n",
       "      <td>-1</td>\n",
       "      <td>1</td>\n",
       "      <td>0</td>\n",
       "      <td>-1</td>\n",
       "      <td>0</td>\n",
       "      <td>1</td>\n",
       "      <td>1</td>\n",
       "    </tr>\n",
       "  </tbody>\n",
       "</table>\n",
       "<p>5 rows × 26 columns</p>\n",
       "</div>"
      ],
      "text/plain": [
       "      Length_of_URL  Has_IP_address  Shortening_Service  Having_@_Symbol  \\\n",
       "5205             -1               1                   1                1   \n",
       "5669              1               1                   1                1   \n",
       "4570             -1               1                   1                1   \n",
       "4464              1               1                  -1                1   \n",
       "818              -1               1                   1                1   \n",
       "\n",
       "      Double_Slash_Redirecting  Prefix-Suffix  CTLD  HTTPS_in_Domain  \\\n",
       "5205                         1             -1    -1               -1   \n",
       "5669                         1             -1     0               -1   \n",
       "4570                         1             -1    -1               -1   \n",
       "4464                         1             -1     1               -1   \n",
       "818                          1              1    -1               -1   \n",
       "\n",
       "      Sensitive_Words  Has_Tilde  ...  checking_sfh  request_url  \\\n",
       "5205                1          1  ...            -1            1   \n",
       "5669                1          1  ...            -1           -1   \n",
       "4570                1          1  ...            -1            1   \n",
       "4464                1          1  ...            -1           -1   \n",
       "818                 1          1  ...            -1           -1   \n",
       "\n",
       "      url-of-anchor  links_in_meta_img  check_hidden_content  \\\n",
       "5205             -1                  1                    -1   \n",
       "5669              1                  0                     1   \n",
       "4570              1                 -1                    -1   \n",
       "4464             -1                 -1                     1   \n",
       "818              -1                 -1                     1   \n",
       "\n",
       "      Current_Domain_Age  Matching_Domain_Name  Length_of_Domain  \\\n",
       "5205                   1                    -1                 1   \n",
       "5669                   0                     0                 0   \n",
       "4570                   1                    -1                 1   \n",
       "4464                  -1                    -1                 1   \n",
       "818                    0                    -1                 0   \n",
       "\n",
       "      Google_page_index  Result  \n",
       "5205                  1      -1  \n",
       "5669                  1      -1  \n",
       "4570                  1      -1  \n",
       "4464                  1      -1  \n",
       "818                   1       1  \n",
       "\n",
       "[5 rows x 26 columns]"
      ]
     },
     "execution_count": 12,
     "metadata": {},
     "output_type": "execute_result"
    }
   ],
   "source": [
    "df = sklearn.utils.shuffle(df)\n",
    "X = df.drop(\"Result\",axis=1).values\n",
    "X = preprocessing.scale(X)\n",
    "y = df['Result'].values\n",
    "df.head()"
   ]
  },
  {
   "cell_type": "code",
   "execution_count": 13,
   "metadata": {},
   "outputs": [],
   "source": [
    "scoring = {'accuracy': 'accuracy',\n",
    "           'recall': 'recall',\n",
    "           'precision': 'precision',\n",
    "           'f1': 'f1'}\n",
    "fold_count=10"
   ]
  },
  {
   "attachments": {},
   "cell_type": "markdown",
   "metadata": {},
   "source": [
    "## KNN"
   ]
  },
  {
   "cell_type": "code",
   "execution_count": 14,
   "metadata": {},
   "outputs": [
    {
     "name": "stdout",
     "output_type": "stream",
     "text": [
      "fit time = 0.0011236429214477538\n",
      "score time = 0.029204154014587404\n",
      "accuracy = 0.8341597796143251\n",
      "recall = 0.8604719764011801\n",
      "precision = 0.8462390969419851\n",
      "f1 = 0.8531704683892032\n"
     ]
    }
   ],
   "source": [
    "KNeighbors_clf=KNeighborsClassifier(3)\n",
    "cross_val_scores = cross_validate(KNeighbors_clf, X, y, cv=fold_count, scoring=scoring)\n",
    "KNeighbors_clf_score = mean_score(cross_val_scores)\n",
    "\n",
    "print(f\"fit time = {KNeighbors_clf_score['fit_time']}\")\n",
    "print(f\"score time = {KNeighbors_clf_score['score_time']}\")\n",
    "print(f\"accuracy = {KNeighbors_clf_score['test_accuracy']}\")\n",
    "print(f\"recall = {KNeighbors_clf_score['test_recall']}\")\n",
    "print(f\"precision = {KNeighbors_clf_score['test_precision']}\")\n",
    "print(f\"f1 = {KNeighbors_clf_score['test_f1']}\")"
   ]
  },
  {
   "cell_type": "code",
   "execution_count": 14,
   "metadata": {},
   "outputs": [
    {
     "name": "stdout",
     "output_type": "stream",
     "text": [
      "fit time = 0.0010750770568847656\n",
      "score time = 0.026802539825439453\n",
      "accuracy = 0.8244090772713635\n",
      "recall = 0.8805309734513275\n",
      "precision = 0.8197116166948206\n",
      "f1 = 0.8488919945728715\n"
     ]
    }
   ],
   "source": [
    "KNeighbors_clf=KNeighborsClassifier(3)\n",
    "cross_val_scores = cross_validate(KNeighbors_clf, X, y, cv=fold_count, scoring=scoring)\n",
    "KNeighbors_clf_score = mean_score(cross_val_scores)\n",
    "\n",
    "print(f\"fit time = {KNeighbors_clf_score['fit_time']}\")\n",
    "print(f\"score time = {KNeighbors_clf_score['score_time']}\")\n",
    "print(f\"accuracy = {KNeighbors_clf_score['test_accuracy']}\")\n",
    "print(f\"recall = {KNeighbors_clf_score['test_recall']}\")\n",
    "print(f\"precision = {KNeighbors_clf_score['test_precision']}\")\n",
    "print(f\"f1 = {KNeighbors_clf_score['test_f1']}\")"
   ]
  },
  {
   "cell_type": "code",
   "execution_count": 14,
   "metadata": {},
   "outputs": [
    {
     "name": "stdout",
     "output_type": "stream",
     "text": [
      "fit time = 0.0012652158737182617\n",
      "score time = 0.025507116317749025\n",
      "accuracy = 0.858353502937292\n",
      "recall = 0.8841211174126034\n",
      "precision = 0.8744758723804548\n",
      "f1 = 0.879147849407292\n"
     ]
    }
   ],
   "source": [
    "KNeighbors_clf=KNeighborsClassifier(3)\n",
    "cross_val_scores = cross_validate(KNeighbors_clf, X, y, cv=fold_count, scoring=scoring)\n",
    "KNeighbors_clf_score = mean_score(cross_val_scores)\n",
    "\n",
    "print(f\"fit time = {KNeighbors_clf_score['fit_time']}\")\n",
    "print(f\"score time = {KNeighbors_clf_score['score_time']}\")\n",
    "print(f\"accuracy = {KNeighbors_clf_score['test_accuracy']}\")\n",
    "print(f\"recall = {KNeighbors_clf_score['test_recall']}\")\n",
    "print(f\"precision = {KNeighbors_clf_score['test_precision']}\")\n",
    "print(f\"f1 = {KNeighbors_clf_score['test_f1']}\")"
   ]
  }
 ],
 "metadata": {
  "kernelspec": {
   "display_name": "Python 3",
   "language": "python",
   "name": "python3"
  },
  "language_info": {
   "codemirror_mode": {
    "name": "ipython",
    "version": 3
   },
   "file_extension": ".py",
   "mimetype": "text/x-python",
   "name": "python",
   "nbconvert_exporter": "python",
   "pygments_lexer": "ipython3",
   "version": "3.8.10"
  },
  "orig_nbformat": 4
 },
 "nbformat": 4,
 "nbformat_minor": 2
}
